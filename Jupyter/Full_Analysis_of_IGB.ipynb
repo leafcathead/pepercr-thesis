{
 "cells": [
  {
   "cell_type": "markdown",
   "id": "41a54039-d59d-4a43-ad3b-86e741f8f603",
   "metadata": {},
   "source": [
    "# Comparison of RIO vs. GA. vs. BOCA"
   ]
  },
  {
   "cell_type": "markdown",
   "id": "34cd0275-9982-4239-b0de-39070a3b3759",
   "metadata": {},
   "source": [
    "## Imports"
   ]
  },
  {
   "cell_type": "code",
   "execution_count": 1,
   "id": "56c74592-613c-43d3-af61-befdb9b9232c",
   "metadata": {},
   "outputs": [],
   "source": [
    "import numpy as np\n",
    "import pandas as pd\n",
    "import matplotlib.pyplot as plt\n",
    "import re"
   ]
  },
  {
   "cell_type": "code",
   "execution_count": 2,
   "id": "74b2cfe7-bb3f-4622-a3da-b50982a94c5a",
   "metadata": {},
   "outputs": [
    {
     "ename": "FileNotFoundError",
     "evalue": "[Errno 2] No such file or directory: 'files/Full_Analysis/cacheprof-BOCA-DataCollection-0.csv'",
     "output_type": "error",
     "traceback": [
      "\u001b[0;31m---------------------------------------------------------------------------\u001b[0m",
      "\u001b[0;31mFileNotFoundError\u001b[0m                         Traceback (most recent call last)",
      "Cell \u001b[0;32mIn[2], line 4\u001b[0m\n\u001b[1;32m      1\u001b[0m dir_path \u001b[38;5;241m=\u001b[39m \u001b[38;5;124m\"\u001b[39m\u001b[38;5;124mfiles/Full_Analysis\u001b[39m\u001b[38;5;124m\"\u001b[39m\n\u001b[1;32m      3\u001b[0m \u001b[38;5;66;03m# TODO: Import as CSV here\u001b[39;00m\n\u001b[0;32m----> 4\u001b[0m cacheprof_BOCA \u001b[38;5;241m=\u001b[39m \u001b[43mpd\u001b[49m\u001b[38;5;241;43m.\u001b[39;49m\u001b[43mread_csv\u001b[49m\u001b[43m(\u001b[49m\u001b[38;5;124;43mf\u001b[39;49m\u001b[38;5;124;43m\"\u001b[39;49m\u001b[38;5;132;43;01m{\u001b[39;49;00m\u001b[43mdir_path\u001b[49m\u001b[38;5;132;43;01m}\u001b[39;49;00m\u001b[38;5;124;43m/cacheprof-BOCA-DataCollection-0.csv\u001b[39;49m\u001b[38;5;124;43m\"\u001b[39;49m\u001b[43m,\u001b[49m\u001b[43m \u001b[49m\u001b[43mindex_col\u001b[49m\u001b[38;5;241;43m=\u001b[39;49m\u001b[43m[\u001b[49m\u001b[38;5;241;43m0\u001b[39;49m\u001b[43m]\u001b[49m\u001b[43m)\u001b[49m\n\u001b[1;32m      5\u001b[0m cacheprof_GA \u001b[38;5;241m=\u001b[39m pd\u001b[38;5;241m.\u001b[39mread_csv(\u001b[38;5;124mf\u001b[39m\u001b[38;5;124m\"\u001b[39m\u001b[38;5;132;01m{\u001b[39;00mdir_path\u001b[38;5;132;01m}\u001b[39;00m\u001b[38;5;124m/cacheprof-Genetic-DataCollection-0.csv\u001b[39m\u001b[38;5;124m\"\u001b[39m, index_col\u001b[38;5;241m=\u001b[39m[\u001b[38;5;241m0\u001b[39m])\n\u001b[1;32m      6\u001b[0m cacheprof_RIO \u001b[38;5;241m=\u001b[39m pd\u001b[38;5;241m.\u001b[39mread_csv(\u001b[38;5;124mf\u001b[39m\u001b[38;5;124m\"\u001b[39m\u001b[38;5;132;01m{\u001b[39;00mdir_path\u001b[38;5;132;01m}\u001b[39;00m\u001b[38;5;124m/cacheprof-Iterative-DataCollection-0.csv\u001b[39m\u001b[38;5;124m\"\u001b[39m, index_col\u001b[38;5;241m=\u001b[39m[\u001b[38;5;241m0\u001b[39m])\n",
      "File \u001b[0;32m~/.local/lib/python3.10/site-packages/pandas/io/parsers/readers.py:948\u001b[0m, in \u001b[0;36mread_csv\u001b[0;34m(filepath_or_buffer, sep, delimiter, header, names, index_col, usecols, dtype, engine, converters, true_values, false_values, skipinitialspace, skiprows, skipfooter, nrows, na_values, keep_default_na, na_filter, verbose, skip_blank_lines, parse_dates, infer_datetime_format, keep_date_col, date_parser, date_format, dayfirst, cache_dates, iterator, chunksize, compression, thousands, decimal, lineterminator, quotechar, quoting, doublequote, escapechar, comment, encoding, encoding_errors, dialect, on_bad_lines, delim_whitespace, low_memory, memory_map, float_precision, storage_options, dtype_backend)\u001b[0m\n\u001b[1;32m    935\u001b[0m kwds_defaults \u001b[38;5;241m=\u001b[39m _refine_defaults_read(\n\u001b[1;32m    936\u001b[0m     dialect,\n\u001b[1;32m    937\u001b[0m     delimiter,\n\u001b[0;32m   (...)\u001b[0m\n\u001b[1;32m    944\u001b[0m     dtype_backend\u001b[38;5;241m=\u001b[39mdtype_backend,\n\u001b[1;32m    945\u001b[0m )\n\u001b[1;32m    946\u001b[0m kwds\u001b[38;5;241m.\u001b[39mupdate(kwds_defaults)\n\u001b[0;32m--> 948\u001b[0m \u001b[38;5;28;01mreturn\u001b[39;00m \u001b[43m_read\u001b[49m\u001b[43m(\u001b[49m\u001b[43mfilepath_or_buffer\u001b[49m\u001b[43m,\u001b[49m\u001b[43m \u001b[49m\u001b[43mkwds\u001b[49m\u001b[43m)\u001b[49m\n",
      "File \u001b[0;32m~/.local/lib/python3.10/site-packages/pandas/io/parsers/readers.py:611\u001b[0m, in \u001b[0;36m_read\u001b[0;34m(filepath_or_buffer, kwds)\u001b[0m\n\u001b[1;32m    608\u001b[0m _validate_names(kwds\u001b[38;5;241m.\u001b[39mget(\u001b[38;5;124m\"\u001b[39m\u001b[38;5;124mnames\u001b[39m\u001b[38;5;124m\"\u001b[39m, \u001b[38;5;28;01mNone\u001b[39;00m))\n\u001b[1;32m    610\u001b[0m \u001b[38;5;66;03m# Create the parser.\u001b[39;00m\n\u001b[0;32m--> 611\u001b[0m parser \u001b[38;5;241m=\u001b[39m \u001b[43mTextFileReader\u001b[49m\u001b[43m(\u001b[49m\u001b[43mfilepath_or_buffer\u001b[49m\u001b[43m,\u001b[49m\u001b[43m \u001b[49m\u001b[38;5;241;43m*\u001b[39;49m\u001b[38;5;241;43m*\u001b[39;49m\u001b[43mkwds\u001b[49m\u001b[43m)\u001b[49m\n\u001b[1;32m    613\u001b[0m \u001b[38;5;28;01mif\u001b[39;00m chunksize \u001b[38;5;129;01mor\u001b[39;00m iterator:\n\u001b[1;32m    614\u001b[0m     \u001b[38;5;28;01mreturn\u001b[39;00m parser\n",
      "File \u001b[0;32m~/.local/lib/python3.10/site-packages/pandas/io/parsers/readers.py:1448\u001b[0m, in \u001b[0;36mTextFileReader.__init__\u001b[0;34m(self, f, engine, **kwds)\u001b[0m\n\u001b[1;32m   1445\u001b[0m     \u001b[38;5;28mself\u001b[39m\u001b[38;5;241m.\u001b[39moptions[\u001b[38;5;124m\"\u001b[39m\u001b[38;5;124mhas_index_names\u001b[39m\u001b[38;5;124m\"\u001b[39m] \u001b[38;5;241m=\u001b[39m kwds[\u001b[38;5;124m\"\u001b[39m\u001b[38;5;124mhas_index_names\u001b[39m\u001b[38;5;124m\"\u001b[39m]\n\u001b[1;32m   1447\u001b[0m \u001b[38;5;28mself\u001b[39m\u001b[38;5;241m.\u001b[39mhandles: IOHandles \u001b[38;5;241m|\u001b[39m \u001b[38;5;28;01mNone\u001b[39;00m \u001b[38;5;241m=\u001b[39m \u001b[38;5;28;01mNone\u001b[39;00m\n\u001b[0;32m-> 1448\u001b[0m \u001b[38;5;28mself\u001b[39m\u001b[38;5;241m.\u001b[39m_engine \u001b[38;5;241m=\u001b[39m \u001b[38;5;28;43mself\u001b[39;49m\u001b[38;5;241;43m.\u001b[39;49m\u001b[43m_make_engine\u001b[49m\u001b[43m(\u001b[49m\u001b[43mf\u001b[49m\u001b[43m,\u001b[49m\u001b[43m \u001b[49m\u001b[38;5;28;43mself\u001b[39;49m\u001b[38;5;241;43m.\u001b[39;49m\u001b[43mengine\u001b[49m\u001b[43m)\u001b[49m\n",
      "File \u001b[0;32m~/.local/lib/python3.10/site-packages/pandas/io/parsers/readers.py:1705\u001b[0m, in \u001b[0;36mTextFileReader._make_engine\u001b[0;34m(self, f, engine)\u001b[0m\n\u001b[1;32m   1703\u001b[0m     \u001b[38;5;28;01mif\u001b[39;00m \u001b[38;5;124m\"\u001b[39m\u001b[38;5;124mb\u001b[39m\u001b[38;5;124m\"\u001b[39m \u001b[38;5;129;01mnot\u001b[39;00m \u001b[38;5;129;01min\u001b[39;00m mode:\n\u001b[1;32m   1704\u001b[0m         mode \u001b[38;5;241m+\u001b[39m\u001b[38;5;241m=\u001b[39m \u001b[38;5;124m\"\u001b[39m\u001b[38;5;124mb\u001b[39m\u001b[38;5;124m\"\u001b[39m\n\u001b[0;32m-> 1705\u001b[0m \u001b[38;5;28mself\u001b[39m\u001b[38;5;241m.\u001b[39mhandles \u001b[38;5;241m=\u001b[39m \u001b[43mget_handle\u001b[49m\u001b[43m(\u001b[49m\n\u001b[1;32m   1706\u001b[0m \u001b[43m    \u001b[49m\u001b[43mf\u001b[49m\u001b[43m,\u001b[49m\n\u001b[1;32m   1707\u001b[0m \u001b[43m    \u001b[49m\u001b[43mmode\u001b[49m\u001b[43m,\u001b[49m\n\u001b[1;32m   1708\u001b[0m \u001b[43m    \u001b[49m\u001b[43mencoding\u001b[49m\u001b[38;5;241;43m=\u001b[39;49m\u001b[38;5;28;43mself\u001b[39;49m\u001b[38;5;241;43m.\u001b[39;49m\u001b[43moptions\u001b[49m\u001b[38;5;241;43m.\u001b[39;49m\u001b[43mget\u001b[49m\u001b[43m(\u001b[49m\u001b[38;5;124;43m\"\u001b[39;49m\u001b[38;5;124;43mencoding\u001b[39;49m\u001b[38;5;124;43m\"\u001b[39;49m\u001b[43m,\u001b[49m\u001b[43m \u001b[49m\u001b[38;5;28;43;01mNone\u001b[39;49;00m\u001b[43m)\u001b[49m\u001b[43m,\u001b[49m\n\u001b[1;32m   1709\u001b[0m \u001b[43m    \u001b[49m\u001b[43mcompression\u001b[49m\u001b[38;5;241;43m=\u001b[39;49m\u001b[38;5;28;43mself\u001b[39;49m\u001b[38;5;241;43m.\u001b[39;49m\u001b[43moptions\u001b[49m\u001b[38;5;241;43m.\u001b[39;49m\u001b[43mget\u001b[49m\u001b[43m(\u001b[49m\u001b[38;5;124;43m\"\u001b[39;49m\u001b[38;5;124;43mcompression\u001b[39;49m\u001b[38;5;124;43m\"\u001b[39;49m\u001b[43m,\u001b[49m\u001b[43m \u001b[49m\u001b[38;5;28;43;01mNone\u001b[39;49;00m\u001b[43m)\u001b[49m\u001b[43m,\u001b[49m\n\u001b[1;32m   1710\u001b[0m \u001b[43m    \u001b[49m\u001b[43mmemory_map\u001b[49m\u001b[38;5;241;43m=\u001b[39;49m\u001b[38;5;28;43mself\u001b[39;49m\u001b[38;5;241;43m.\u001b[39;49m\u001b[43moptions\u001b[49m\u001b[38;5;241;43m.\u001b[39;49m\u001b[43mget\u001b[49m\u001b[43m(\u001b[49m\u001b[38;5;124;43m\"\u001b[39;49m\u001b[38;5;124;43mmemory_map\u001b[39;49m\u001b[38;5;124;43m\"\u001b[39;49m\u001b[43m,\u001b[49m\u001b[43m \u001b[49m\u001b[38;5;28;43;01mFalse\u001b[39;49;00m\u001b[43m)\u001b[49m\u001b[43m,\u001b[49m\n\u001b[1;32m   1711\u001b[0m \u001b[43m    \u001b[49m\u001b[43mis_text\u001b[49m\u001b[38;5;241;43m=\u001b[39;49m\u001b[43mis_text\u001b[49m\u001b[43m,\u001b[49m\n\u001b[1;32m   1712\u001b[0m \u001b[43m    \u001b[49m\u001b[43merrors\u001b[49m\u001b[38;5;241;43m=\u001b[39;49m\u001b[38;5;28;43mself\u001b[39;49m\u001b[38;5;241;43m.\u001b[39;49m\u001b[43moptions\u001b[49m\u001b[38;5;241;43m.\u001b[39;49m\u001b[43mget\u001b[49m\u001b[43m(\u001b[49m\u001b[38;5;124;43m\"\u001b[39;49m\u001b[38;5;124;43mencoding_errors\u001b[39;49m\u001b[38;5;124;43m\"\u001b[39;49m\u001b[43m,\u001b[49m\u001b[43m \u001b[49m\u001b[38;5;124;43m\"\u001b[39;49m\u001b[38;5;124;43mstrict\u001b[39;49m\u001b[38;5;124;43m\"\u001b[39;49m\u001b[43m)\u001b[49m\u001b[43m,\u001b[49m\n\u001b[1;32m   1713\u001b[0m \u001b[43m    \u001b[49m\u001b[43mstorage_options\u001b[49m\u001b[38;5;241;43m=\u001b[39;49m\u001b[38;5;28;43mself\u001b[39;49m\u001b[38;5;241;43m.\u001b[39;49m\u001b[43moptions\u001b[49m\u001b[38;5;241;43m.\u001b[39;49m\u001b[43mget\u001b[49m\u001b[43m(\u001b[49m\u001b[38;5;124;43m\"\u001b[39;49m\u001b[38;5;124;43mstorage_options\u001b[39;49m\u001b[38;5;124;43m\"\u001b[39;49m\u001b[43m,\u001b[49m\u001b[43m \u001b[49m\u001b[38;5;28;43;01mNone\u001b[39;49;00m\u001b[43m)\u001b[49m\u001b[43m,\u001b[49m\n\u001b[1;32m   1714\u001b[0m \u001b[43m\u001b[49m\u001b[43m)\u001b[49m\n\u001b[1;32m   1715\u001b[0m \u001b[38;5;28;01massert\u001b[39;00m \u001b[38;5;28mself\u001b[39m\u001b[38;5;241m.\u001b[39mhandles \u001b[38;5;129;01mis\u001b[39;00m \u001b[38;5;129;01mnot\u001b[39;00m \u001b[38;5;28;01mNone\u001b[39;00m\n\u001b[1;32m   1716\u001b[0m f \u001b[38;5;241m=\u001b[39m \u001b[38;5;28mself\u001b[39m\u001b[38;5;241m.\u001b[39mhandles\u001b[38;5;241m.\u001b[39mhandle\n",
      "File \u001b[0;32m~/.local/lib/python3.10/site-packages/pandas/io/common.py:863\u001b[0m, in \u001b[0;36mget_handle\u001b[0;34m(path_or_buf, mode, encoding, compression, memory_map, is_text, errors, storage_options)\u001b[0m\n\u001b[1;32m    858\u001b[0m \u001b[38;5;28;01melif\u001b[39;00m \u001b[38;5;28misinstance\u001b[39m(handle, \u001b[38;5;28mstr\u001b[39m):\n\u001b[1;32m    859\u001b[0m     \u001b[38;5;66;03m# Check whether the filename is to be opened in binary mode.\u001b[39;00m\n\u001b[1;32m    860\u001b[0m     \u001b[38;5;66;03m# Binary mode does not support 'encoding' and 'newline'.\u001b[39;00m\n\u001b[1;32m    861\u001b[0m     \u001b[38;5;28;01mif\u001b[39;00m ioargs\u001b[38;5;241m.\u001b[39mencoding \u001b[38;5;129;01mand\u001b[39;00m \u001b[38;5;124m\"\u001b[39m\u001b[38;5;124mb\u001b[39m\u001b[38;5;124m\"\u001b[39m \u001b[38;5;129;01mnot\u001b[39;00m \u001b[38;5;129;01min\u001b[39;00m ioargs\u001b[38;5;241m.\u001b[39mmode:\n\u001b[1;32m    862\u001b[0m         \u001b[38;5;66;03m# Encoding\u001b[39;00m\n\u001b[0;32m--> 863\u001b[0m         handle \u001b[38;5;241m=\u001b[39m \u001b[38;5;28;43mopen\u001b[39;49m\u001b[43m(\u001b[49m\n\u001b[1;32m    864\u001b[0m \u001b[43m            \u001b[49m\u001b[43mhandle\u001b[49m\u001b[43m,\u001b[49m\n\u001b[1;32m    865\u001b[0m \u001b[43m            \u001b[49m\u001b[43mioargs\u001b[49m\u001b[38;5;241;43m.\u001b[39;49m\u001b[43mmode\u001b[49m\u001b[43m,\u001b[49m\n\u001b[1;32m    866\u001b[0m \u001b[43m            \u001b[49m\u001b[43mencoding\u001b[49m\u001b[38;5;241;43m=\u001b[39;49m\u001b[43mioargs\u001b[49m\u001b[38;5;241;43m.\u001b[39;49m\u001b[43mencoding\u001b[49m\u001b[43m,\u001b[49m\n\u001b[1;32m    867\u001b[0m \u001b[43m            \u001b[49m\u001b[43merrors\u001b[49m\u001b[38;5;241;43m=\u001b[39;49m\u001b[43merrors\u001b[49m\u001b[43m,\u001b[49m\n\u001b[1;32m    868\u001b[0m \u001b[43m            \u001b[49m\u001b[43mnewline\u001b[49m\u001b[38;5;241;43m=\u001b[39;49m\u001b[38;5;124;43m\"\u001b[39;49m\u001b[38;5;124;43m\"\u001b[39;49m\u001b[43m,\u001b[49m\n\u001b[1;32m    869\u001b[0m \u001b[43m        \u001b[49m\u001b[43m)\u001b[49m\n\u001b[1;32m    870\u001b[0m     \u001b[38;5;28;01melse\u001b[39;00m:\n\u001b[1;32m    871\u001b[0m         \u001b[38;5;66;03m# Binary mode\u001b[39;00m\n\u001b[1;32m    872\u001b[0m         handle \u001b[38;5;241m=\u001b[39m \u001b[38;5;28mopen\u001b[39m(handle, ioargs\u001b[38;5;241m.\u001b[39mmode)\n",
      "\u001b[0;31mFileNotFoundError\u001b[0m: [Errno 2] No such file or directory: 'files/Full_Analysis/cacheprof-BOCA-DataCollection-0.csv'"
     ]
    }
   ],
   "source": [
    "dir_path = \"files/Full_Analysis\"\n",
    "\n",
    "# TODO: Import as CSV here\n",
    "cacheprof_BOCA = pd.read_csv(f\"{dir_path}/cacheprof-BOCA-DataCollection-0.csv\", index_col=[0])\n",
    "cacheprof_GA = pd.read_csv(f\"{dir_path}/cacheprof-Genetic-DataCollection-0.csv\", index_col=[0])\n",
    "cacheprof_RIO = pd.read_csv(f\"{dir_path}/cacheprof-Iterative-DataCollection-0.csv\", index_col=[0])\n",
    "\n",
    "grep_BOCA = pd.read_csv(f\"{dir_path}/grep-BOCA-DataCollection-0.csv\", index_col=[0])\n",
    "grep_GA = pd.read_csv(f\"{dir_path}/grep-Genetic-DataCollection-0.csv\", index_col=[0])\n",
    "grep_RIO = pd.read_csv(f\"{dir_path}/grep-Iterative-DataCollection-0.csv\", index_col=[0])\n",
    "\n",
    "parfib_BOCA = pd.read_csv(f\"{dir_path}/parfib-BOCA-DataCollection-0.csv\", index_col=[0])\n",
    "parfib_GA = pd.read_csv(f\"{dir_path}/parfib-Genetic-DataCollection-0.csv\", index_col=[0])\n",
    "parfib_RIO = pd.read_csv(f\"{dir_path}/parfib-Iterative-DataCollection-0.csv\", index_col=[0])\n",
    "\n",
    "sorting_BOCA = pd.read_csv(f\"{dir_path}/sorting-BOCA-DataCollection-0.csv\", index_col=[0])\n",
    "sorting_GA = pd.read_csv(f\"{dir_path}/sorting-Genetic-DataCollection-0.csv\", index_col=[0])\n",
    "sorting_RIO = pd.read_csv(f\"{dir_path}/sorting-Iterative-DataCollection-0.csv\", index_col=[0])\n",
    "\n",
    "program_tables = {\"cacheprof\": {\"BOCA\": cacheprof_BOCA, \"GA\": cacheprof_GA, \"RIO\": cacheprof_RIO}, \"grep\": {\"BOCA\": grep_BOCA, \"GA\": grep_GA, \"RIO\": grep_RIO}, \"parfib\": {\"BOCA\": parfib_BOCA, \"GA\": parfib_GA, \"RIO\": parfib_RIO}, \"sorting\": {\"BOCA\": sorting_BOCA, \"GA\": sorting_GA, \"RIO\": sorting_RIO}}\n"
   ]
  },
  {
   "cell_type": "markdown",
   "id": "91b96039-98ad-4c15-99bb-a6528fe7633a",
   "metadata": {},
   "source": [
    "## Adding New Columns"
   ]
  },
  {
   "cell_type": "markdown",
   "id": "16965e26-925a-4533-854b-87f169339c90",
   "metadata": {},
   "source": [
    "### Changes to GA"
   ]
  },
  {
   "cell_type": "code",
   "execution_count": null,
   "id": "e71c74d8-e979-420f-8fd1-473227dc24b7",
   "metadata": {},
   "outputs": [],
   "source": [
    "for d_name, d in program_tables.items():\n",
    "    for type, t in d.items():\n",
    "        if type == \"GA\":\n",
    "            t.rename(columns={'Fitness': 'Runtime'}, inplace=True)"
   ]
  },
  {
   "cell_type": "markdown",
   "id": "d21ac18e-a9d9-4050-829b-efec6798a172",
   "metadata": {},
   "source": [
    "### Normalization (Z-Score)"
   ]
  },
  {
   "cell_type": "code",
   "execution_count": null,
   "id": "5ae8fa93-257b-4451-8e6b-01756aa93677",
   "metadata": {},
   "outputs": [],
   "source": [
    "normalized_tables = {}\n",
    "tick_labels = []\n",
    "\n",
    "for d_name, d in program_tables.items():\n",
    "    for type, t in d.items():\n",
    "        t[\"Norm-Z\"] = (t[\"Runtime\"] - t[\"Runtime\"].mean())/t[\"Runtime\"].std()\n",
    "        t.drop(columns=[\"Mode\"])\n",
    "        #normalized_tables[t_name] = temp_table"
   ]
  },
  {
   "cell_type": "markdown",
   "id": "c72a32f6-fd3b-4998-81af-2a36636ce7a6",
   "metadata": {},
   "source": [
    "### Noramlization (O2)"
   ]
  },
  {
   "cell_type": "code",
   "execution_count": null,
   "id": "5bec5099-5606-43b3-b00c-0b40ce814d5b",
   "metadata": {},
   "outputs": [],
   "source": [
    "for d_name, d in program_tables.items():\n",
    "    for type, t in d.items():\n",
    "        normalize_around = t[t[\"ID\"] == \"-O2\"].iloc[0][\"Runtime\"]\n",
    "        offset = normalize_around - t[\"Runtime\"].mean()\n",
    "        t[\"Norm-O2\"] = (t[\"Runtime\"] - normalize_around)/t[\"Runtime\"].std()"
   ]
  },
  {
   "cell_type": "markdown",
   "id": "7f740279-bdc0-4e57-a1c0-e328d742c476",
   "metadata": {},
   "source": [
    "## Data Visualization"
   ]
  },
  {
   "cell_type": "markdown",
   "id": "44ee6fa6-1561-43d9-afd6-cd73cc35bcc6",
   "metadata": {},
   "source": [
    "### Boxplot of Z-Score"
   ]
  },
  {
   "cell_type": "code",
   "execution_count": null,
   "id": "80ca2ff3-26f2-4741-bff8-48df7eceb31f",
   "metadata": {},
   "outputs": [],
   "source": [
    "fig, ax = plt.subplots()\n",
    "\n",
    "lst1 = []\n",
    "labels = []\n",
    "for type_name, t in program_tables[\"grep\"].items():\n",
    "    lst1.append(t[\"Norm-Z\"])\n",
    "    labels.append(type_name)\n",
    "    \n",
    "ax.boxplot(lst1)\n",
    "ax.set_xticklabels(labels)\n",
    "ax.set_ylabel(f\"Normalized Z Runtime (s)\")\n",
    "ax.set_xlabel(f\"Type of Optimization\")\n",
    "ax.set_title(f\"Grep\")\n",
    "\n",
    "plt.show()"
   ]
  },
  {
   "cell_type": "code",
   "execution_count": null,
   "id": "8e5a2d80-22f8-4f99-a01a-de6516f64965",
   "metadata": {
    "jupyter": {
     "source_hidden": true
    }
   },
   "outputs": [],
   "source": [
    "fig, ax = plt.subplots()\n",
    "\n",
    "lst1 = []\n",
    "labels = []\n",
    "for type_name, t in program_tables[\"parfib\"].items():\n",
    "    lst1.append(t[\"Norm-Z\"])\n",
    "    labels.append(type_name)\n",
    "    \n",
    "ax.boxplot(lst1)\n",
    "ax.set_xticklabels(labels)\n",
    "ax.set_ylabel(f\"Normalized Z Runtime (s)\")\n",
    "ax.set_xlabel(f\"Type of Optimization\")\n",
    "ax.set_title(f\"Parfib\")\n",
    "\n",
    "plt.show()"
   ]
  },
  {
   "cell_type": "code",
   "execution_count": null,
   "id": "1688a489-afc5-4465-bed5-ce05d992aca9",
   "metadata": {
    "jupyter": {
     "source_hidden": true
    }
   },
   "outputs": [],
   "source": [
    "fig, ax = plt.subplots()\n",
    "\n",
    "lst1 = []\n",
    "labels = []\n",
    "for type_name, t in program_tables[\"sorting\"].items():\n",
    "    lst1.append(t[\"Norm-Z\"])\n",
    "    labels.append(type_name)\n",
    "    \n",
    "ax.boxplot(lst1)\n",
    "ax.set_xticklabels(labels)\n",
    "ax.set_ylabel(f\"Normalized Z Runtime (s)\")\n",
    "ax.set_xlabel(f\"Type of Optimization\")\n",
    "ax.set_title(f\"Sorting\")\n",
    "\n",
    "plt.show()"
   ]
  },
  {
   "cell_type": "code",
   "execution_count": null,
   "id": "cb011090-85a7-42db-8dc9-aa613cae6379",
   "metadata": {
    "jupyter": {
     "source_hidden": true
    }
   },
   "outputs": [],
   "source": [
    "fig, ax = plt.subplots()\n",
    "\n",
    "lst1 = []\n",
    "labels = []\n",
    "for type_name, t in program_tables[\"cacheprof\"].items():\n",
    "    lst1.append(t[\"Norm-Z\"])\n",
    "    labels.append(type_name)\n",
    "    \n",
    "ax.boxplot(lst1)\n",
    "ax.set_xticklabels(labels)\n",
    "ax.set_ylabel(f\"Normalized Z Runtime (s)\")\n",
    "ax.set_xlabel(f\"Type of Optimization\")\n",
    "ax.set_title(f\"Cacheprof\")\n",
    "\n",
    "plt.show()"
   ]
  },
  {
   "cell_type": "markdown",
   "id": "601c2ad0-7626-4bde-948d-bf54177cc5ea",
   "metadata": {},
   "source": [
    "### O2 Boxplot"
   ]
  },
  {
   "cell_type": "code",
   "execution_count": null,
   "id": "56ff3fe4-81b9-4138-a220-d2ddff22223e",
   "metadata": {
    "jupyter": {
     "source_hidden": true
    }
   },
   "outputs": [],
   "source": [
    "fig, ax = plt.subplots()\n",
    "\n",
    "lst1 = []\n",
    "labels = []\n",
    "program_name = \"grep\"\n",
    "for type_name, t in program_tables[program_name].items():\n",
    "    lst1.append(t[\"Norm-O2\"])\n",
    "    labels.append(type_name)\n",
    "    \n",
    "ax.boxplot(lst1)\n",
    "ax.set_xticklabels(labels)\n",
    "ax.set_ylabel(f\"Normalized O2 Runtime (s)\")\n",
    "ax.set_xlabel(f\"Type of Optimization\")\n",
    "ax.set_title(f\"{program_name}\")\n",
    "\n",
    "plt.show()"
   ]
  },
  {
   "cell_type": "code",
   "execution_count": null,
   "id": "d4ee2d62-31b1-4f5f-aa07-eb3d74e6e5c4",
   "metadata": {
    "jupyter": {
     "source_hidden": true
    }
   },
   "outputs": [],
   "source": [
    "fig, ax = plt.subplots()\n",
    "\n",
    "lst1 = []\n",
    "labels = []\n",
    "program_name = \"parfib\"\n",
    "for type_name, t in program_tables[program_name].items():\n",
    "    lst1.append(t[\"Norm-O2\"])\n",
    "    labels.append(type_name)\n",
    "    \n",
    "ax.boxplot(lst1)\n",
    "ax.set_xticklabels(labels)\n",
    "ax.set_ylabel(f\"Normalized O2 Runtime (s)\")\n",
    "ax.set_xlabel(f\"Type of Optimization\")\n",
    "ax.set_title(f\"{program_name}\")\n",
    "\n",
    "plt.show()"
   ]
  },
  {
   "cell_type": "code",
   "execution_count": null,
   "id": "5a04c00a-3314-430e-96aa-1e0f6ab7c705",
   "metadata": {
    "jupyter": {
     "source_hidden": true
    }
   },
   "outputs": [],
   "source": [
    "fig, ax = plt.subplots()\n",
    "\n",
    "lst1 = []\n",
    "labels = []\n",
    "program_name = \"sorting\"\n",
    "for type_name, t in program_tables[program_name].items():\n",
    "    lst1.append(t[\"Norm-O2\"])\n",
    "    labels.append(type_name)\n",
    "    \n",
    "ax.boxplot(lst1)\n",
    "ax.set_xticklabels(labels)\n",
    "ax.set_ylabel(f\"Normalized O2 Runtime (s)\")\n",
    "ax.set_xlabel(f\"Type of Optimization\")\n",
    "ax.set_title(f\"{program_name}\")\n",
    "\n",
    "plt.show()"
   ]
  },
  {
   "cell_type": "code",
   "execution_count": null,
   "id": "3b9cbbfe-d49d-4fb8-a7bd-4c5c8d7d8ea7",
   "metadata": {
    "jupyter": {
     "source_hidden": true
    }
   },
   "outputs": [],
   "source": [
    "fig, ax = plt.subplots()\n",
    "\n",
    "lst1 = []\n",
    "labels = []\n",
    "program_name = \"cacheprof\"\n",
    "for type_name, t in program_tables[program_name].items():\n",
    "    lst1.append(t[\"Norm-O2\"])\n",
    "    labels.append(type_name)\n",
    "    \n",
    "ax.boxplot(lst1)\n",
    "ax.set_xticklabels(labels)\n",
    "ax.set_ylabel(f\"Normalized O2 Runtime (s)\")\n",
    "ax.set_xlabel(f\"Type of Optimization\")\n",
    "ax.set_title(f\"{program_name}\")\n",
    "\n",
    "plt.show()"
   ]
  }
 ],
 "metadata": {
  "kernelspec": {
   "display_name": "Python 3 (ipykernel)",
   "language": "python",
   "name": "python3"
  },
  "language_info": {
   "codemirror_mode": {
    "name": "ipython",
    "version": 3
   },
   "file_extension": ".py",
   "mimetype": "text/x-python",
   "name": "python",
   "nbconvert_exporter": "python",
   "pygments_lexer": "ipython3",
   "version": "3.10.12"
  }
 },
 "nbformat": 4,
 "nbformat_minor": 5
}
