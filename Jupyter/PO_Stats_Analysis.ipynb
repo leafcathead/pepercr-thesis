{
 "cells": [
  {
   "cell_type": "markdown",
   "id": "5165ab57-4dc9-440b-9802-3aac488d718f",
   "metadata": {},
   "source": [
    "# Statistical Analysis"
   ]
  },
  {
   "cell_type": "markdown",
   "id": "4b4bdfac-35ec-47b2-b285-e3256dad734f",
   "metadata": {},
   "source": [
    "## Imports"
   ]
  },
  {
   "cell_type": "code",
   "execution_count": 2,
   "id": "5a09dfb8-7ca6-4dd2-9830-b23031bcdb79",
   "metadata": {},
   "outputs": [],
   "source": [
    "import numpy as np\n",
    "import pandas as pd\n",
    "import matplotlib.pyplot as plt\n",
    "import re\n",
    "from scipy.stats import f_oneway\n",
    "from scipy.stats import ttest_rel"
   ]
  },
  {
   "cell_type": "markdown",
   "id": "40fa6bbe-ff43-4226-8087-2c1963f38a2d",
   "metadata": {},
   "source": [
    "## Load in Files"
   ]
  },
  {
   "cell_type": "code",
   "execution_count": 3,
   "id": "79e439f0-6d32-4e50-af7f-03db22142e7d",
   "metadata": {},
   "outputs": [],
   "source": [
    "dir_path = \"files/PO_FirstTest\"\n",
    "\n",
    "# Test Results\n",
    "cacheprof = pd.read_csv(f\"{dir_path}/cacheprof-PHASEORDER-Iterative-NEW_PHASEORDER_RIO-0.csv\", index_col=[0])\n",
    "sorting = pd.read_csv(f\"{dir_path}/sorting-PHASEORDER-Iterative-NEW_PHASEORDER_RIO-0.csv\", index_col=[0])\n",
    "maillist = pd.read_csv(f\"{dir_path}/maillist-PHASEORDER-Iterative-NEW_PHASEORDER_RIO-0.csv\", index_col=[0])\n",
    "hidden = pd.read_csv(f\"{dir_path}/hidden-PHASEORDER-Iterative-NEW_PHASEORDER_RIO-0.csv\", index_col=[0])\n",
    "\n",
    "# Control Group (O2 In Default Order)\n",
    "cacheprof_default = pd.read_csv(f\"{dir_path}/cacheprof-PHASEORDER-Iterative-BIGRIO-0.csv\", index_col=[0])\n",
    "hidden_default = pd.read_csv(f\"{dir_path}/hidden-PHASEORDER-Iterative-PHASEORDERRIO-0.csv\", index_col=[0])\n",
    "maillist_default =  pd.read_csv(f\"{dir_path}/maillist-PHASEORDER-Iterative-PHASEORDERRIO-0.csv\", index_col=[0])\n",
    "sorting_default = pd.read_csv(f\"{dir_path}/sorting-PHASEORDER-Iterative-PHASEORDERRIO-0.csv\", index_col=[0])\n",
    "\n"
   ]
  },
  {
   "cell_type": "markdown",
   "id": "f4ae5910-cf36-4eda-98e6-83c3d1957653",
   "metadata": {},
   "source": [
    "## Statistics"
   ]
  },
  {
   "cell_type": "code",
   "execution_count": 4,
   "id": "e5420a8d-fe21-48f9-859b-86ec34e5a3c2",
   "metadata": {},
   "outputs": [],
   "source": [
    "alpha = 0.05"
   ]
  },
  {
   "cell_type": "markdown",
   "id": "e5261b44-66dc-4c93-98ae-2e8cf228111a",
   "metadata": {},
   "source": [
    "### ANOVA"
   ]
  },
  {
   "cell_type": "markdown",
   "id": "53f1fba0-7744-418f-afae-4ffc0d98ce68",
   "metadata": {},
   "source": [
    "### Mann-Whitney U Test"
   ]
  },
  {
   "cell_type": "markdown",
   "id": "5b961c40-cecf-46eb-b2f9-bfc5b6f23000",
   "metadata": {},
   "source": [
    "### t-Test"
   ]
  },
  {
   "cell_type": "markdown",
   "id": "e478624d-dd9c-41ef-af35-2e418ba7b393",
   "metadata": {},
   "source": [
    "#### Transform the Data into one DF"
   ]
  },
  {
   "cell_type": "code",
   "execution_count": 5,
   "id": "d7280c1e-8df8-492e-a676-7028306a1860",
   "metadata": {},
   "outputs": [],
   "source": [
    "# Cacheprof\n",
    "cacheprof_new = cacheprof.drop([\"ID\",\"Mode\",\"Elapsed_Time\"], axis=1)\n",
    "cacheprof_new['Phase'] = cacheprof_new.index.map(lambda x: f'Phase-{x}')\n",
    "#cacheprof_new.loc[len(cacheprof_new)] = [\"DEFAULT\", float(cacheprof_default.columns[0])]\n",
    "\n",
    "# Maillist\n",
    "maillist_new = maillist.drop([\"ID\",\"Mode\",\"Elapsed_Time\"], axis=1)\n",
    "maillist_new['Phase'] = maillist_new.index.map(lambda x: f'Phase-{x}')\n",
    "#maillist_new.loc[len(maillist_new)] = [\"DEFAULT\", float(maillist_default.columns[0])]\n",
    "\n",
    "# Hidden\n",
    "hidden_new = hidden.drop([\"ID\",\"Mode\",\"Elapsed_Time\"], axis=1)\n",
    "hidden_new['Phase'] = hidden_new.index.map(lambda x: f'Phase-{x}')\n",
    "#hidden_new.loc[len(hidden_new)] = [\"DEFAULT\", float(hidden_default.columns[0])]\n",
    "\n",
    "# Sorting\n",
    "sorting_new = sorting.drop([\"ID\",\"Mode\",\"Elapsed_Time\"], axis=1)\n",
    "sorting_new['Phase'] = sorting_new.index.map(lambda x: f'Phase-{x}')\n",
    "#sorting_new.loc[len(sorting_new)] = [\"DEFAULT\", float(sorting_default.columns[0])]\n",
    "\n",
    "\n",
    "tables = {\"cacheprof\": cacheprof_new, \"maillist\": maillist_new, \"hidden\": hidden_new, \"sorting\": sorting_new}\n",
    "O2_table = {\"cacheprof\": cacheprof_default, \"maillist\": maillist_default, \"hidden\": hidden_default, \"sorting\": sorting_default}"
   ]
  },
  {
   "cell_type": "code",
   "execution_count": 6,
   "id": "046b046b-b210-4b56-b74a-220b5ff761d0",
   "metadata": {},
   "outputs": [
    {
     "name": "stdout",
     "output_type": "stream",
     "text": [
      "Results:\n",
      "cacheprof:\n",
      "    t-stat: 21.01272885185273\n",
      "    p_value: 7.777800637539709e-61\n",
      "\n",
      "maillist:\n",
      "    t-stat: -4.250380448576844\n",
      "    p_value: 2.8552522243960524e-05\n",
      "\n",
      "hidden:\n",
      "    t-stat: 3.6466385037886795\n",
      "    p_value: 0.0003133119865201059\n",
      "\n",
      "sorting:\n",
      "    t-stat: 18.33846741235785\n",
      "    p_value: 7.381768243770834e-51\n",
      "\n"
     ]
    }
   ],
   "source": [
    "result_list = []\n",
    "for t_name, t in tables.items():\n",
    "    #default_value = t[t['Phase'] == 'DEFAULT'][\"Runtime\"].values[0]\n",
    "    #t = t.drop(t.index[-1])\n",
    "    #lst = []\n",
    "    #for i in range(0, t.shape[0]):\n",
    "    #    lst.append(default_value)\n",
    "    t_statistic, p_value = ttest_rel(O2_table[t_name][\"Runtime\"].transpose(), t[\"Runtime\"].transpose())  # Paired t-test\n",
    "    #t_statistic, p_value = ttest_rel([default_value], [t[\"Runtime\"].mean()])  # Paired t-test\n",
    "    result_list.append((t_name, t_statistic, p_value))\n",
    "\n",
    "print(\"Results:\")\n",
    "for t in result_list:\n",
    "    print(f'{t[0]}:\\n    t-stat: {t[1]}\\n    p_value: {t[2]}\\n')\n",
    "\n",
    "    "
   ]
  },
  {
   "cell_type": "code",
   "execution_count": 7,
   "id": "447a0871-8bc3-4130-85a5-a30cdada5203",
   "metadata": {},
   "outputs": [
    {
     "data": {
      "text/html": [
       "<div>\n",
       "<style scoped>\n",
       "    .dataframe tbody tr th:only-of-type {\n",
       "        vertical-align: middle;\n",
       "    }\n",
       "\n",
       "    .dataframe tbody tr th {\n",
       "        vertical-align: top;\n",
       "    }\n",
       "\n",
       "    .dataframe thead th {\n",
       "        text-align: right;\n",
       "    }\n",
       "</style>\n",
       "<table border=\"1\" class=\"dataframe\">\n",
       "  <thead>\n",
       "    <tr style=\"text-align: right;\">\n",
       "      <th></th>\n",
       "      <th>Phase</th>\n",
       "      <th>Runtime</th>\n",
       "    </tr>\n",
       "  </thead>\n",
       "  <tbody>\n",
       "    <tr>\n",
       "      <th>62</th>\n",
       "      <td>Phase-62</td>\n",
       "      <td>0.115</td>\n",
       "    </tr>\n",
       "    <tr>\n",
       "      <th>227</th>\n",
       "      <td>Phase-227</td>\n",
       "      <td>0.115</td>\n",
       "    </tr>\n",
       "    <tr>\n",
       "      <th>0</th>\n",
       "      <td>Phase-0</td>\n",
       "      <td>0.116</td>\n",
       "    </tr>\n",
       "    <tr>\n",
       "      <th>225</th>\n",
       "      <td>Phase-225</td>\n",
       "      <td>0.116</td>\n",
       "    </tr>\n",
       "    <tr>\n",
       "      <th>61</th>\n",
       "      <td>Phase-61</td>\n",
       "      <td>0.116</td>\n",
       "    </tr>\n",
       "  </tbody>\n",
       "</table>\n",
       "</div>"
      ],
      "text/plain": [
       "         Phase  Runtime\n",
       "62    Phase-62    0.115\n",
       "227  Phase-227    0.115\n",
       "0      Phase-0    0.116\n",
       "225  Phase-225    0.116\n",
       "61    Phase-61    0.116"
      ]
     },
     "execution_count": 7,
     "metadata": {},
     "output_type": "execute_result"
    }
   ],
   "source": [
    "cacheprof_new.sort_values(\"Runtime\").head()"
   ]
  },
  {
   "cell_type": "code",
   "execution_count": 8,
   "id": "fbcff538-48fc-4c23-b797-b2e09c8c3e9e",
   "metadata": {},
   "outputs": [
    {
     "data": {
      "text/html": [
       "<div>\n",
       "<style scoped>\n",
       "    .dataframe tbody tr th:only-of-type {\n",
       "        vertical-align: middle;\n",
       "    }\n",
       "\n",
       "    .dataframe tbody tr th {\n",
       "        vertical-align: top;\n",
       "    }\n",
       "\n",
       "    .dataframe thead th {\n",
       "        text-align: right;\n",
       "    }\n",
       "</style>\n",
       "<table border=\"1\" class=\"dataframe\">\n",
       "  <thead>\n",
       "    <tr style=\"text-align: right;\">\n",
       "      <th></th>\n",
       "      <th>ID</th>\n",
       "      <th>Phase</th>\n",
       "      <th>Mode</th>\n",
       "      <th>Runtime</th>\n",
       "      <th>Elapsed_Time</th>\n",
       "    </tr>\n",
       "  </thead>\n",
       "  <tbody>\n",
       "    <tr>\n",
       "      <th>107</th>\n",
       "      <td>c777c447-5672-4f2b-9859-92ef0ad3da7e</td>\n",
       "      <td>0|1|2|3|4|5|6|7|8|9|10|11|12|13|20|17|23|14|19...</td>\n",
       "      <td>fast</td>\n",
       "      <td>0.117</td>\n",
       "      <td>0.117</td>\n",
       "    </tr>\n",
       "    <tr>\n",
       "      <th>270</th>\n",
       "      <td>58f578fd-b134-41b2-aad2-3c525db93eb4</td>\n",
       "      <td>0|1|2|3|4|5|6|7|8|9|10|11|12|13|19|15|16|22|20...</td>\n",
       "      <td>fast</td>\n",
       "      <td>0.117</td>\n",
       "      <td>0.117</td>\n",
       "    </tr>\n",
       "    <tr>\n",
       "      <th>90</th>\n",
       "      <td>ff5c80c4-cb89-45b8-8c76-1d5fba142275</td>\n",
       "      <td>0|1|2|3|4|5|6|7|8|9|10|11|12|13|15|22|18|21|14...</td>\n",
       "      <td>fast</td>\n",
       "      <td>0.117</td>\n",
       "      <td>0.117</td>\n",
       "    </tr>\n",
       "    <tr>\n",
       "      <th>262</th>\n",
       "      <td>6e7e4f7a-45db-4eb9-965a-5ea23fe38996</td>\n",
       "      <td>0|1|2|3|4|5|6|7|8|9|10|11|12|13|18|21|20|16|14...</td>\n",
       "      <td>fast</td>\n",
       "      <td>0.117</td>\n",
       "      <td>0.117</td>\n",
       "    </tr>\n",
       "    <tr>\n",
       "      <th>260</th>\n",
       "      <td>faa9ab19-2a2b-4b28-a2d5-d4ad73438893</td>\n",
       "      <td>0|1|2|3|4|5|6|7|8|9|10|11|12|13|17|15|18|14|19...</td>\n",
       "      <td>fast</td>\n",
       "      <td>0.117</td>\n",
       "      <td>0.117</td>\n",
       "    </tr>\n",
       "  </tbody>\n",
       "</table>\n",
       "</div>"
      ],
      "text/plain": [
       "                                       ID  \\\n",
       "107  c777c447-5672-4f2b-9859-92ef0ad3da7e   \n",
       "270  58f578fd-b134-41b2-aad2-3c525db93eb4   \n",
       "90   ff5c80c4-cb89-45b8-8c76-1d5fba142275   \n",
       "262  6e7e4f7a-45db-4eb9-965a-5ea23fe38996   \n",
       "260  faa9ab19-2a2b-4b28-a2d5-d4ad73438893   \n",
       "\n",
       "                                                 Phase  Mode  Runtime  \\\n",
       "107  0|1|2|3|4|5|6|7|8|9|10|11|12|13|20|17|23|14|19...  fast    0.117   \n",
       "270  0|1|2|3|4|5|6|7|8|9|10|11|12|13|19|15|16|22|20...  fast    0.117   \n",
       "90   0|1|2|3|4|5|6|7|8|9|10|11|12|13|15|22|18|21|14...  fast    0.117   \n",
       "262  0|1|2|3|4|5|6|7|8|9|10|11|12|13|18|21|20|16|14...  fast    0.117   \n",
       "260  0|1|2|3|4|5|6|7|8|9|10|11|12|13|17|15|18|14|19...  fast    0.117   \n",
       "\n",
       "     Elapsed_Time  \n",
       "107         0.117  \n",
       "270         0.117  \n",
       "90          0.117  \n",
       "262         0.117  \n",
       "260         0.117  "
      ]
     },
     "execution_count": 8,
     "metadata": {},
     "output_type": "execute_result"
    }
   ],
   "source": [
    "cacheprof_default.sort_values(\"Runtime\").head()"
   ]
  },
  {
   "cell_type": "code",
   "execution_count": 9,
   "id": "bc9b9b77-943d-454b-ad77-7509d1ed119b",
   "metadata": {},
   "outputs": [
    {
     "data": {
      "text/html": [
       "<div>\n",
       "<style scoped>\n",
       "    .dataframe tbody tr th:only-of-type {\n",
       "        vertical-align: middle;\n",
       "    }\n",
       "\n",
       "    .dataframe tbody tr th {\n",
       "        vertical-align: top;\n",
       "    }\n",
       "\n",
       "    .dataframe thead th {\n",
       "        text-align: right;\n",
       "    }\n",
       "</style>\n",
       "<table border=\"1\" class=\"dataframe\">\n",
       "  <thead>\n",
       "    <tr style=\"text-align: right;\">\n",
       "      <th></th>\n",
       "      <th>ID</th>\n",
       "      <th>Phase</th>\n",
       "      <th>Mode</th>\n",
       "      <th>Runtime</th>\n",
       "      <th>Elapsed_Time</th>\n",
       "    </tr>\n",
       "  </thead>\n",
       "  <tbody>\n",
       "    <tr>\n",
       "      <th>0</th>\n",
       "      <td>37d2dd82-8f6a-45b4-8fc2-bb265943deca</td>\n",
       "      <td>0|1|2|3|4|5|6|7|8|9|10|11|12|13|21|15|20|17|23...</td>\n",
       "      <td>fast</td>\n",
       "      <td>0.116</td>\n",
       "      <td>0.116</td>\n",
       "    </tr>\n",
       "    <tr>\n",
       "      <th>1</th>\n",
       "      <td>021d4073-8c82-42b3-849e-a5236f7d9606</td>\n",
       "      <td>0|1|2|3|4|5|6|7|8|9|10|11|12|13|15|14|22|20|17...</td>\n",
       "      <td>fast</td>\n",
       "      <td>0.117</td>\n",
       "      <td>0.117</td>\n",
       "    </tr>\n",
       "    <tr>\n",
       "      <th>2</th>\n",
       "      <td>3b219f7b-270d-484a-bd56-8b0666568a0e</td>\n",
       "      <td>0|1|2|3|4|5|6|7|8|9|10|11|12|13|22|21|15|14|18...</td>\n",
       "      <td>fast</td>\n",
       "      <td>0.116</td>\n",
       "      <td>0.116</td>\n",
       "    </tr>\n",
       "    <tr>\n",
       "      <th>3</th>\n",
       "      <td>6e62530b-523c-4fd5-892b-d773f3e557ae</td>\n",
       "      <td>0|1|2|3|4|5|6|7|8|9|10|11|12|13|15|23|18|17|22...</td>\n",
       "      <td>fast</td>\n",
       "      <td>0.117</td>\n",
       "      <td>0.117</td>\n",
       "    </tr>\n",
       "    <tr>\n",
       "      <th>4</th>\n",
       "      <td>0a51412b-5d4d-49cf-b14e-d46396061a06</td>\n",
       "      <td>0|1|2|3|4|5|6|7|8|9|10|11|12|13|19|16|21|22|18...</td>\n",
       "      <td>fast</td>\n",
       "      <td>0.117</td>\n",
       "      <td>0.117</td>\n",
       "    </tr>\n",
       "  </tbody>\n",
       "</table>\n",
       "</div>"
      ],
      "text/plain": [
       "                                     ID  \\\n",
       "0  37d2dd82-8f6a-45b4-8fc2-bb265943deca   \n",
       "1  021d4073-8c82-42b3-849e-a5236f7d9606   \n",
       "2  3b219f7b-270d-484a-bd56-8b0666568a0e   \n",
       "3  6e62530b-523c-4fd5-892b-d773f3e557ae   \n",
       "4  0a51412b-5d4d-49cf-b14e-d46396061a06   \n",
       "\n",
       "                                               Phase  Mode  Runtime  \\\n",
       "0  0|1|2|3|4|5|6|7|8|9|10|11|12|13|21|15|20|17|23...  fast    0.116   \n",
       "1  0|1|2|3|4|5|6|7|8|9|10|11|12|13|15|14|22|20|17...  fast    0.117   \n",
       "2  0|1|2|3|4|5|6|7|8|9|10|11|12|13|22|21|15|14|18...  fast    0.116   \n",
       "3  0|1|2|3|4|5|6|7|8|9|10|11|12|13|15|23|18|17|22...  fast    0.117   \n",
       "4  0|1|2|3|4|5|6|7|8|9|10|11|12|13|19|16|21|22|18...  fast    0.117   \n",
       "\n",
       "   Elapsed_Time  \n",
       "0         0.116  \n",
       "1         0.117  \n",
       "2         0.116  \n",
       "3         0.117  \n",
       "4         0.117  "
      ]
     },
     "execution_count": 9,
     "metadata": {},
     "output_type": "execute_result"
    }
   ],
   "source": [
    "cacheprof.head()"
   ]
  },
  {
   "cell_type": "markdown",
   "id": "9974a5f9-709c-4aaf-8ca8-e9563311f6f4",
   "metadata": {},
   "source": [
    "## Scatter plots of slow and fast rule"
   ]
  },
  {
   "cell_type": "code",
   "execution_count": null,
   "id": "5356c213-8c02-469f-bf86-14a42888d3b9",
   "metadata": {},
   "outputs": [],
   "source": []
  }
 ],
 "metadata": {
  "kernelspec": {
   "display_name": "Python 3 (ipykernel)",
   "language": "python",
   "name": "python3"
  },
  "language_info": {
   "codemirror_mode": {
    "name": "ipython",
    "version": 3
   },
   "file_extension": ".py",
   "mimetype": "text/x-python",
   "name": "python",
   "nbconvert_exporter": "python",
   "pygments_lexer": "ipython3",
   "version": "3.10.12"
  }
 },
 "nbformat": 4,
 "nbformat_minor": 5
}
