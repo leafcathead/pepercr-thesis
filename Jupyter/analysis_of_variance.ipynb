{
 "cells": [
  {
   "cell_type": "markdown",
   "id": "ecf32e87-a297-4b7f-a829-a0cb7420571f",
   "metadata": {},
   "source": [
    "# Analysis of Variance"
   ]
  },
  {
   "cell_type": "markdown",
   "id": "8b82d7d1-0ef2-4ae2-951d-0481811081c9",
   "metadata": {},
   "source": [
    "## Imports"
   ]
  },
  {
   "cell_type": "code",
   "execution_count": 1,
   "id": "948a009c-c7d7-4b7e-acf6-557bdfa07c19",
   "metadata": {},
   "outputs": [],
   "source": [
    "import numpy as np\n",
    "import pandas as pd\n",
    "import matplotlib.pyplot as plt\n",
    "import re\n",
    "from scipy.stats import f_oneway\n",
    "from scipy.stats import ttest_rel"
   ]
  },
  {
   "cell_type": "code",
   "execution_count": 2,
   "id": "741ec2ea-8e59-47b9-93a1-8d4246846906",
   "metadata": {},
   "outputs": [],
   "source": [
    "dir_path = \"files/Buffalo_Display\"\n",
    "dir_path_explore = \"files/AOV\"\n",
    "\n",
    "binary_trees_iterative = pd.read_csv(f\"{dir_path}/binary-trees-Iterative-COMPLETE-0.csv\", index_col=[0])\n",
    "cacheprof_iterative = pd.read_csv(f\"{dir_path}/cacheprof-Iterative-COMPLETE-0.csv\", index_col=[0])\n",
    "fem_iterative = pd.read_csv(f\"{dir_path}/fem-Iterative-COMPLETE-0.csv\", index_col=[0])\n",
    "grep_iterative = pd.read_csv(f\"{dir_path}/grep-Iterative-COMPLETE-0.csv\", index_col=[0])\n",
    "prolog_iterative = pd.read_csv(f\"{dir_path}/prolog-Iterative-COMPLETE-0.csv\", index_col=[0])\n",
    "rsa_iterative = pd.read_csv(f\"{dir_path}/rsa-Iterative-COMPLETE-0.csv\", index_col=[0])\n",
    "sorting_iterative = pd.read_csv(f\"{dir_path}/sorting-Iterative-COMPLETE-0.csv\", index_col=[0])\n",
    "\n",
    "# New Test (Less Iterations, but I hope the results are still passable)\n",
    "fluid = pd.read_csv(f\"{dir_path_explore}/fluid-Iterative-EXPLORE-0.csv\", index_col=[0])\n",
    "grep_2 = pd.read_csv(f\"{dir_path_explore}/grep-Iterative-EXPLORE-0.csv\", index_col=[0])\n",
    "integrate = pd.read_csv(f\"{dir_path_explore}/integrate-Iterative-EXPLORE-0.csv\", index_col=[0])\n",
    "nbody = pd.read_csv(f\"{dir_path_explore}/nbody-Iterative-EXPLORE-0.csv\", index_col=[0])\n",
    "parfib = pd.read_csv(f\"{dir_path_explore}/parfib-Iterative-EXPLORE-0.csv\", index_col=[0])\n",
    "primes = pd.read_csv(f\"{dir_path_explore}/primes-Iterative-EXPLORE-0.csv\", index_col=[0])\n",
    "rsa = pd.read_csv(f\"{dir_path_explore}/rsa-Iterative-EXPLORE-0.csv\", index_col=[0])\n",
    "sorting_2 = pd.read_csv(f\"{dir_path_explore}/sorting-Iterative-EXPLORE-0.csv\", index_col=[0])\n",
    "\n",
    "tables = {\"binary_trees\": binary_trees_iterative, \"cacheprof\": cacheprof_iterative, \"fem\": fem_iterative, \"grep\": grep_iterative, \"prolog\": prolog_iterative, \"rsa\": rsa_iterative, \"sorting\": sorting_iterative}\n",
    "tables_new = {\"fluid\": fluid, \"grep_2\": grep_2, \"integrate\": integrate, \"nbody\": nbody, \"parfib\": parfib, \"primes\": primes, \"rsa\": rsa, \"sorting_2\": sorting_2}\n",
    "tables.update(tables_new)"
   ]
  },
  {
   "cell_type": "code",
   "execution_count": 3,
   "id": "8f76bf19-6b0e-4c5c-854f-6d723a7ca727",
   "metadata": {},
   "outputs": [],
   "source": [
    "flags = [\"-fcall-arity\",\"-fcase-merge\",\"-fcmm-elim-common-blocks\",\"-fcmm-sink\",\"-fcpr-anal\",\"-fcse\",\"-fdicts-cheap\",\"-fdicts-strict\",\"-fdmd-tx-dict-sel\",\"-fdo-eta-reduction\",\"-fdo-lambda-eta-expansion\",\"-feager-blackholing\",\"-fenable-rewrite-rules\",\"-fexcess-precision\",\"-fexpose-all-unfoldings\",\"-ffloat-in\",\"-ffull-laziness\",\"-ffun-to-thunk\",\"-fignore-asserts\",\"-fignore-interface-pragmas\",\"-flate-dmd-anal\",\"-fliberate-case\",\"-fliberate-case-threshold=2000\",\"-floopification\",\"-fmax-inline-alloc-size=128\",\"-fmax-inline-memcpy-insns=32\",\"-fmax-inline-memset-insns=32\",\"-fmax-relevant-binds=6\",\"-fmax-simplifier-iterations=4\",\"-fmax-worker-args=10\",\"-fno-opt-coercion\",\"-fno-pre-inlining\",\"-fno-state-hack\",\"-fomit-interface-pragmas\",\"-fomit-yields\",\"-foptimal-applicative-do\",\"-fpedantic-bottoms\",\"-fregs-graph\",\"-fregs-iterative\",\"-fsimplifier-phases=2\",\"-fsimpl-tick-factor=100\",\"-fspec-constr\",\"-fspec-constr-count=3\",\"-fspec-constr-threshold=2000\",\"-fspecialise\",\"-fcross-module-specialise\",\"-fstatic-argument-transformation\",\"-fstrictness\",\"-fstrictness-before=1\",\"-funbox-small-strict-fields\",\"-funbox-strict-fields\",\"-funfolding-creation-threshold=750\",\"-funfolding-dict-discount=30\",\"-funfolding-fun-discount=60\",\"-funfolding-keeness-factor=1.5\",\"-funfolding-use-threshold=60\",\"-fvectorisation-avoidance\",\"-fvectorise\",\"-fworker-wrapper\"]"
   ]
  },
  {
   "cell_type": "code",
   "execution_count": 4,
   "id": "ac1c453f-e419-4d49-b61e-b92d5cf24fa2",
   "metadata": {},
   "outputs": [],
   "source": [
    "## Analysis"
   ]
  },
  {
   "cell_type": "code",
   "execution_count": 5,
   "id": "7dc567de-a38b-4460-81db-a45562167101",
   "metadata": {},
   "outputs": [
    {
     "name": "stdout",
     "output_type": "stream",
     "text": [
      "grep: \n",
      "    F-Score: 0.9083748572156526 \n",
      "    P-Value: 0.6704730930874075\n",
      "sorting: \n",
      "    F-Score: 0.7426179494033303 \n",
      "    P-Value: 0.9272848306824816\n",
      "nbody: \n",
      "    F-Score: 0.7056869136383663 \n",
      "    P-Value: 0.9561639423656274\n",
      "cacheprof: \n",
      "    F-Score: 0.5375999103264983 \n",
      "    P-Value: 0.998456069569635\n",
      "parfib: \n",
      "    F-Score: 0.5329518839163778 \n",
      "    P-Value: 0.9986179311002419\n",
      "fem: \n",
      "    F-Score: 0.5108590720251889 \n",
      "    P-Value: 0.9992708161211594\n",
      "fluid: \n",
      "    F-Score: 0.5000516377397739 \n",
      "    P-Value: 0.999416625249031\n",
      "sorting_2: \n",
      "    F-Score: 0.4992397341318194 \n",
      "    P-Value: 0.9994746211554407\n",
      "integrate: \n",
      "    F-Score: 0.46523494787986625 \n",
      "    P-Value: 0.9998084156280425\n",
      "primes: \n",
      "    F-Score: 0.4530843548920564 \n",
      "    P-Value: 0.9998723687624037\n",
      "binary_trees: \n",
      "    F-Score: 0.44148867242610795 \n",
      "    P-Value: 0.9999285185951172\n",
      "grep_2: \n",
      "    F-Score: 0.430484673763543 \n",
      "    P-Value: 0.99995461549191\n",
      "rsa: \n",
      "    F-Score: 0.4182211137451388 \n",
      "    P-Value: 0.9999715819586016\n",
      "prolog: \n",
      "    F-Score: 0.40643981223844033 \n",
      "    P-Value: 0.999983057324501\n"
     ]
    }
   ],
   "source": [
    "lst = []\n",
    "for t_name, t in tables.items():\n",
    "    \n",
    "    flag_matches = []\n",
    "    \n",
    "    for f in flags:\n",
    "        flag_matches.append(t[t[\"Flags\"].apply(lambda x: f in x)][\"Runtime\"])\n",
    "    f_score, p_value = f_oneway(*flag_matches)\n",
    "    lst.append((t_name, f_score, p_value))\n",
    "\n",
    "\n",
    "lst.sort(key=lambda x: x[1], reverse=True)\n",
    "\n",
    "for i in lst:   \n",
    "    print(f'{i[0]}: \\n    F-Score: {i[1]} \\n    P-Value: {i[2]}')"
   ]
  },
  {
   "cell_type": "code",
   "execution_count": null,
   "id": "7bea692a-f802-4b42-acd5-ef667b1dc7cd",
   "metadata": {},
   "outputs": [],
   "source": []
  },
  {
   "cell_type": "code",
   "execution_count": null,
   "id": "9b204d21-1fc9-44f5-b2f3-f75863dc0d6b",
   "metadata": {},
   "outputs": [],
   "source": []
  }
 ],
 "metadata": {
  "kernelspec": {
   "display_name": "Python 3 (ipykernel)",
   "language": "python",
   "name": "python3"
  },
  "language_info": {
   "codemirror_mode": {
    "name": "ipython",
    "version": 3
   },
   "file_extension": ".py",
   "mimetype": "text/x-python",
   "name": "python",
   "nbconvert_exporter": "python",
   "pygments_lexer": "ipython3",
   "version": "3.10.12"
  }
 },
 "nbformat": 4,
 "nbformat_minor": 5
}
