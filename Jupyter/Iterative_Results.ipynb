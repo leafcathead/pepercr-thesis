{
 "cells": [
  {
   "cell_type": "markdown",
   "id": "edaa6bd3-51fe-427a-9aeb-63bea5aba9c2",
   "metadata": {},
   "source": [
    "# Analysis of Iterative Optimization Results"
   ]
  },
  {
   "cell_type": "markdown",
   "id": "6a014daa-5ad1-4989-bd06-2365838cace1",
   "metadata": {},
   "source": [
    "## Imports"
   ]
  },
  {
   "cell_type": "code",
   "execution_count": 50,
   "id": "a9957557-ef5c-478f-adad-e1af051ad4ca",
   "metadata": {},
   "outputs": [],
   "source": [
    "import numpy as np\n",
    "import pandas as pd\n",
    "import matplotlib.pyplot as plt\n",
    "import re"
   ]
  },
  {
   "cell_type": "code",
   "execution_count": 51,
   "id": "1c7b9920-ce3e-4bd9-804a-7c8d06b25488",
   "metadata": {},
   "outputs": [],
   "source": [
    "dir_path = \"files/Buffalo_Display\"\n",
    "\n",
    "binary_trees_iterative = pd.read_csv(f\"{dir_path}/binary-trees-Iterative-COMPLETE-0.csv\", index_col=[0])\n",
    "cacheprof_iterative = pd.read_csv(f\"{dir_path}/cacheprof-Iterative-COMPLETE-0.csv\", index_col=[0])\n",
    "fem_iterative = pd.read_csv(f\"{dir_path}/fem-Iterative-COMPLETE-0.csv\", index_col=[0])\n",
    "grep_iterative = pd.read_csv(f\"{dir_path}/grep-Iterative-COMPLETE-0.csv\", index_col=[0])\n",
    "linear_iterative = pd.read_csv(f\"{dir_path}/linear-Iterative-COMPLETE-0.csv\", index_col=[0])\n",
    "prolog_iterative = pd.read_csv(f\"{dir_path}/prolog-Iterative-COMPLETE-0.csv\", index_col=[0])\n",
    "rsa_iterative = pd.read_csv(f\"{dir_path}/rsa-Iterative-COMPLETE-0.csv\", index_col=[0])\n",
    "sorting_iterative = pd.read_csv(f\"{dir_path}/sorting-Iterative-COMPLETE-0.csv\", index_col=[0])\n",
    "tables = [binary_trees_iterative, cacheprof_iterative, compress_iterative, fem_iterative, grep_iterative, linear_iterative, prolog_iterative, rsa_iterative, sorting_iterative]"
   ]
  },
  {
   "cell_type": "markdown",
   "id": "fad7adac-c782-49dd-a2a0-45cd599f8c0b",
   "metadata": {},
   "source": [
    "## Improvements"
   ]
  },
  {
   "cell_type": "markdown",
   "id": "d57f13a0-c7d6-45da-9b31-9106a3574a5b",
   "metadata": {},
   "source": [
    "## Ideal preset for each program"
   ]
  },
  {
   "cell_type": "code",
   "execution_count": 55,
   "id": "7400ddbd-aaa3-4010-9beb-7b390cec6f05",
   "metadata": {},
   "outputs": [
    {
     "data": {
      "text/plain": [
       "[Empty DataFrame\n",
       " Columns: [ID, Flags, Mode, Runtime, Elapsed_Time]\n",
       " Index: [],\n",
       "     ID    Flags  Mode  Runtime  Elapsed_Time\n",
       " 0  -O0  ['-O0']  norm      NaN           NaN,\n",
       "     ID    Flags  Mode  Runtime  Elapsed_Time\n",
       " 1  -O2  ['-O2']  norm      NaN           NaN]"
      ]
     },
     "execution_count": 55,
     "metadata": {},
     "output_type": "execute_result"
    }
   ],
   "source": [
    "\n"
   ]
  },
  {
   "cell_type": "code",
   "execution_count": 53,
   "id": "91c17071-098f-47af-a208-43b53f1c626e",
   "metadata": {},
   "outputs": [
    {
     "name": "stdout",
     "output_type": "stream",
     "text": [
      "binary_trees\n",
      "20    ['-O0' '-fliberate-case-threshold=2000' '-fexc...\n",
      "Name: Flags, dtype: object\n",
      "cacheprof\n",
      "161    ['-O0' '-fdo-eta-reduction' '-fdo-lambda-eta-e...\n",
      "Name: Flags, dtype: object\n",
      "fem\n",
      "Series([], Name: Flags, dtype: object)\n"
     ]
    },
    {
     "ename": "IndexError",
     "evalue": "single positional indexer is out-of-bounds",
     "output_type": "error",
     "traceback": [
      "\u001b[0;31m---------------------------------------------------------------------------\u001b[0m",
      "\u001b[0;31mIndexError\u001b[0m                                Traceback (most recent call last)",
      "Cell \u001b[0;32mIn[53], line 6\u001b[0m\n\u001b[1;32m      4\u001b[0m \u001b[38;5;28mprint\u001b[39m(entry)\n\u001b[1;32m      5\u001b[0m \u001b[38;5;28mprint\u001b[39m(optimized_results[entry][\u001b[38;5;241m0\u001b[39m][\u001b[38;5;124m\"\u001b[39m\u001b[38;5;124mFlags\u001b[39m\u001b[38;5;124m\"\u001b[39m])\n\u001b[0;32m----> 6\u001b[0m optimized_table\u001b[38;5;241m.\u001b[39mloc[\u001b[38;5;28mlen\u001b[39m(optimized_table\u001b[38;5;241m.\u001b[39mindex)] \u001b[38;5;241m=\u001b[39m [entry, \u001b[43moptimized_results\u001b[49m\u001b[43m[\u001b[49m\u001b[43mentry\u001b[49m\u001b[43m]\u001b[49m\u001b[43m[\u001b[49m\u001b[38;5;241;43m0\u001b[39;49m\u001b[43m]\u001b[49m\u001b[43m[\u001b[49m\u001b[38;5;124;43m\"\u001b[39;49m\u001b[38;5;124;43mFlags\u001b[39;49m\u001b[38;5;124;43m\"\u001b[39;49m\u001b[43m]\u001b[49m\u001b[38;5;241;43m.\u001b[39;49m\u001b[43miloc\u001b[49m\u001b[43m[\u001b[49m\u001b[38;5;241;43m0\u001b[39;49m\u001b[43m]\u001b[49m, optimized_results[entry][\u001b[38;5;241m0\u001b[39m][\u001b[38;5;124m\"\u001b[39m\u001b[38;5;124mRuntime\u001b[39m\u001b[38;5;124m\"\u001b[39m]\u001b[38;5;241m.\u001b[39miloc[\u001b[38;5;241m0\u001b[39m], optimized_results[entry][\u001b[38;5;241m1\u001b[39m][\u001b[38;5;124m\"\u001b[39m\u001b[38;5;124mRuntime\u001b[39m\u001b[38;5;124m\"\u001b[39m]\u001b[38;5;241m.\u001b[39miloc[\u001b[38;5;241m0\u001b[39m], optimized_results[entry][\u001b[38;5;241m2\u001b[39m][\u001b[38;5;124m\"\u001b[39m\u001b[38;5;124mRuntime\u001b[39m\u001b[38;5;124m\"\u001b[39m]\u001b[38;5;241m.\u001b[39miloc[\u001b[38;5;241m0\u001b[39m]]\n",
      "File \u001b[0;32m~/.local/lib/python3.10/site-packages/pandas/core/indexing.py:1153\u001b[0m, in \u001b[0;36m_LocationIndexer.__getitem__\u001b[0;34m(self, key)\u001b[0m\n\u001b[1;32m   1150\u001b[0m axis \u001b[38;5;241m=\u001b[39m \u001b[38;5;28mself\u001b[39m\u001b[38;5;241m.\u001b[39maxis \u001b[38;5;129;01mor\u001b[39;00m \u001b[38;5;241m0\u001b[39m\n\u001b[1;32m   1152\u001b[0m maybe_callable \u001b[38;5;241m=\u001b[39m com\u001b[38;5;241m.\u001b[39mapply_if_callable(key, \u001b[38;5;28mself\u001b[39m\u001b[38;5;241m.\u001b[39mobj)\n\u001b[0;32m-> 1153\u001b[0m \u001b[38;5;28;01mreturn\u001b[39;00m \u001b[38;5;28;43mself\u001b[39;49m\u001b[38;5;241;43m.\u001b[39;49m\u001b[43m_getitem_axis\u001b[49m\u001b[43m(\u001b[49m\u001b[43mmaybe_callable\u001b[49m\u001b[43m,\u001b[49m\u001b[43m \u001b[49m\u001b[43maxis\u001b[49m\u001b[38;5;241;43m=\u001b[39;49m\u001b[43maxis\u001b[49m\u001b[43m)\u001b[49m\n",
      "File \u001b[0;32m~/.local/lib/python3.10/site-packages/pandas/core/indexing.py:1714\u001b[0m, in \u001b[0;36m_iLocIndexer._getitem_axis\u001b[0;34m(self, key, axis)\u001b[0m\n\u001b[1;32m   1711\u001b[0m     \u001b[38;5;28;01mraise\u001b[39;00m \u001b[38;5;167;01mTypeError\u001b[39;00m(\u001b[38;5;124m\"\u001b[39m\u001b[38;5;124mCannot index by location index with a non-integer key\u001b[39m\u001b[38;5;124m\"\u001b[39m)\n\u001b[1;32m   1713\u001b[0m \u001b[38;5;66;03m# validate the location\u001b[39;00m\n\u001b[0;32m-> 1714\u001b[0m \u001b[38;5;28;43mself\u001b[39;49m\u001b[38;5;241;43m.\u001b[39;49m\u001b[43m_validate_integer\u001b[49m\u001b[43m(\u001b[49m\u001b[43mkey\u001b[49m\u001b[43m,\u001b[49m\u001b[43m \u001b[49m\u001b[43maxis\u001b[49m\u001b[43m)\u001b[49m\n\u001b[1;32m   1716\u001b[0m \u001b[38;5;28;01mreturn\u001b[39;00m \u001b[38;5;28mself\u001b[39m\u001b[38;5;241m.\u001b[39mobj\u001b[38;5;241m.\u001b[39m_ixs(key, axis\u001b[38;5;241m=\u001b[39maxis)\n",
      "File \u001b[0;32m~/.local/lib/python3.10/site-packages/pandas/core/indexing.py:1647\u001b[0m, in \u001b[0;36m_iLocIndexer._validate_integer\u001b[0;34m(self, key, axis)\u001b[0m\n\u001b[1;32m   1645\u001b[0m len_axis \u001b[38;5;241m=\u001b[39m \u001b[38;5;28mlen\u001b[39m(\u001b[38;5;28mself\u001b[39m\u001b[38;5;241m.\u001b[39mobj\u001b[38;5;241m.\u001b[39m_get_axis(axis))\n\u001b[1;32m   1646\u001b[0m \u001b[38;5;28;01mif\u001b[39;00m key \u001b[38;5;241m>\u001b[39m\u001b[38;5;241m=\u001b[39m len_axis \u001b[38;5;129;01mor\u001b[39;00m key \u001b[38;5;241m<\u001b[39m \u001b[38;5;241m-\u001b[39mlen_axis:\n\u001b[0;32m-> 1647\u001b[0m     \u001b[38;5;28;01mraise\u001b[39;00m \u001b[38;5;167;01mIndexError\u001b[39;00m(\u001b[38;5;124m\"\u001b[39m\u001b[38;5;124msingle positional indexer is out-of-bounds\u001b[39m\u001b[38;5;124m\"\u001b[39m)\n",
      "\u001b[0;31mIndexError\u001b[0m: single positional indexer is out-of-bounds"
     ]
    }
   ],
   "source": []
  },
  {
   "cell_type": "code",
   "execution_count": null,
   "id": "ab4d84d8-6152-4999-8c20-3973b654df54",
   "metadata": {},
   "outputs": [],
   "source": [
    "optimized_table"
   ]
  },
  {
   "cell_type": "code",
   "execution_count": null,
   "id": "337398b2-ed18-48e5-bf98-21f2ed111bc2",
   "metadata": {},
   "outputs": [],
   "source": []
  }
 ],
 "metadata": {
  "kernelspec": {
   "display_name": "Python 3 (ipykernel)",
   "language": "python",
   "name": "python3"
  },
  "language_info": {
   "codemirror_mode": {
    "name": "ipython",
    "version": 3
   },
   "file_extension": ".py",
   "mimetype": "text/x-python",
   "name": "python",
   "nbconvert_exporter": "python",
   "pygments_lexer": "ipython3",
   "version": "3.10.12"
  }
 },
 "nbformat": 4,
 "nbformat_minor": 5
}
