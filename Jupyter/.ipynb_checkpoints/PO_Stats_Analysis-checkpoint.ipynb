{
 "cells": [
  {
   "cell_type": "markdown",
   "id": "5165ab57-4dc9-440b-9802-3aac488d718f",
   "metadata": {},
   "source": [
    "# Statistical Analysis"
   ]
  },
  {
   "cell_type": "markdown",
   "id": "4b4bdfac-35ec-47b2-b285-e3256dad734f",
   "metadata": {},
   "source": [
    "## Imports"
   ]
  },
  {
   "cell_type": "code",
   "execution_count": 51,
   "id": "5a09dfb8-7ca6-4dd2-9830-b23031bcdb79",
   "metadata": {},
   "outputs": [],
   "source": [
    "import numpy as np\n",
    "import pandas as pd\n",
    "import matplotlib.pyplot as plt\n",
    "import re\n",
    "from scipy.stats import f_oneway\n",
    "from scipy.stats import ttest_rel"
   ]
  },
  {
   "cell_type": "markdown",
   "id": "40fa6bbe-ff43-4226-8087-2c1963f38a2d",
   "metadata": {},
   "source": [
    "## Load in Files"
   ]
  },
  {
   "cell_type": "code",
   "execution_count": 52,
   "id": "79e439f0-6d32-4e50-af7f-03db22142e7d",
   "metadata": {},
   "outputs": [],
   "source": [
    "dir_path = \"files/PO_FirstTest\"\n",
    "\n",
    "# Test Results\n",
    "cacheprof = pd.read_csv(f\"{dir_path}/cacheprof-PHASEORDER-Iterative-NEW_PHASEORDER_RIO-0.csv\", index_col=[0])\n",
    "sorting = pd.read_csv(f\"{dir_path}/sorting-PHASEORDER-Iterative-NEW_PHASEORDER_RIO-0.csv\", index_col=[0])\n",
    "maillist = pd.read_csv(f\"{dir_path}/maillist-PHASEORDER-Iterative-NEW_PHASEORDER_RIO-0.csv\", index_col=[0])\n",
    "hidden = pd.read_csv(f\"{dir_path}/hidden-PHASEORDER-Iterative-NEW_PHASEORDER_RIO-0.csv\", index_col=[0])\n",
    "\n",
    "# Control Group (O2 In Default Order)\n",
    "cacheprof_default = pd.read_csv(f\"{dir_path}/cacheprof-PHASEORDER-Iterative-BIGRIO-0.csv\", index_col=[0])\n",
    "hidden_default = pd.read_csv(f\"{dir_path}/hidden-PHASEORDER-Iterative-PHASEORDERRIO-0.csv\", index_col=[0])\n",
    "maillist_default =  pd.read_csv(f\"{dir_path}/maillist-PHASEORDER-Iterative-PHASEORDERRIO-0.csv\", index_col=[0])\n",
    "sorting_default = pd.read_csv(f\"{dir_path}/sorting-PHASEORDER-Iterative-PHASEORDERRIO-0.csv\", index_col=[0])"
   ]
  },
  {
   "cell_type": "markdown",
   "id": "f4ae5910-cf36-4eda-98e6-83c3d1957653",
   "metadata": {},
   "source": [
    "## Statistics"
   ]
  },
  {
   "cell_type": "code",
   "execution_count": 53,
   "id": "e5420a8d-fe21-48f9-859b-86ec34e5a3c2",
   "metadata": {},
   "outputs": [],
   "source": [
    "alpha = 0.05"
   ]
  },
  {
   "cell_type": "markdown",
   "id": "e5261b44-66dc-4c93-98ae-2e8cf228111a",
   "metadata": {},
   "source": [
    "### ANOVA"
   ]
  },
  {
   "cell_type": "markdown",
   "id": "53f1fba0-7744-418f-afae-4ffc0d98ce68",
   "metadata": {},
   "source": [
    "### Mann-Whitney U Test"
   ]
  },
  {
   "cell_type": "markdown",
   "id": "5b961c40-cecf-46eb-b2f9-bfc5b6f23000",
   "metadata": {},
   "source": [
    "### t-Test"
   ]
  },
  {
   "cell_type": "markdown",
   "id": "e478624d-dd9c-41ef-af35-2e418ba7b393",
   "metadata": {},
   "source": [
    "#### Transform the Data into one DF"
   ]
  },
  {
   "cell_type": "code",
   "execution_count": 54,
   "id": "d7280c1e-8df8-492e-a676-7028306a1860",
   "metadata": {},
   "outputs": [],
   "source": [
    "# Cacheprof\n",
    "cacheprof_new = cacheprof.drop([\"ID\",\"Mode\",\"Elapsed_Time\"], axis=1)\n",
    "cacheprof_new['Phase'] = cacheprof_new.index.map(lambda x: f'Phase-{x}')\n",
    "#cacheprof_new.loc[len(cacheprof_new)] = [\"DEFAULT\", float(cacheprof_default.columns[0])]\n",
    "\n",
    "# Maillist\n",
    "maillist_new = maillist.drop([\"ID\",\"Mode\",\"Elapsed_Time\"], axis=1)\n",
    "maillist_new['Phase'] = maillist_new.index.map(lambda x: f'Phase-{x}')\n",
    "#maillist_new.loc[len(maillist_new)] = [\"DEFAULT\", float(maillist_default.columns[0])]\n",
    "\n",
    "# Hidden\n",
    "hidden_new = hidden.drop([\"ID\",\"Mode\",\"Elapsed_Time\"], axis=1)\n",
    "hidden_new['Phase'] = hidden_new.index.map(lambda x: f'Phase-{x}')\n",
    "#hidden_new.loc[len(hidden_new)] = [\"DEFAULT\", float(hidden_default.columns[0])]\n",
    "\n",
    "# Sorting\n",
    "sorting_new = sorting.drop([\"ID\",\"Mode\",\"Elapsed_Time\"], axis=1)\n",
    "sorting_new['Phase'] = sorting_new.index.map(lambda x: f'Phase-{x}')\n",
    "#sorting_new.loc[len(sorting_new)] = [\"DEFAULT\", float(sorting_default.columns[0])]\n",
    "\n",
    "tables = {\"cacheprof\": cacheprof_new, \"maillist\": maillist_new, \"hidden\": hidden_new, \"sorting\": sorting_new}\n",
    "O2_table = {\"cacheprof\": cacheprof_default, \"maillist\": maillist_default, \"hidden\": hidden_default, \"sorting\": sorting_default}"
   ]
  },
  {
   "cell_type": "code",
   "execution_count": 55,
   "id": "046b046b-b210-4b56-b74a-220b5ff761d0",
   "metadata": {},
   "outputs": [
    {
     "name": "stdout",
     "output_type": "stream",
     "text": [
      "Results:\n",
      "cacheprof:\n",
      "    t-stat: 21.01272885185273\n",
      "    p_value: 7.777800637539709e-61\n",
      "\n",
      "maillist:\n",
      "    t-stat: -4.250380448576844\n",
      "    p_value: 2.8552522243960524e-05\n",
      "\n",
      "hidden:\n",
      "    t-stat: 3.6466385037886795\n",
      "    p_value: 0.0003133119865201059\n",
      "\n",
      "sorting:\n",
      "    t-stat: 18.33846741235785\n",
      "    p_value: 7.381768243770834e-51\n",
      "\n"
     ]
    }
   ],
   "source": [
    "result_list = []\n",
    "for t_name, t in tables.items():\n",
    "    #default_value = t[t['Phase'] == 'DEFAULT'][\"Runtime\"].values[0]\n",
    "    #t = t.drop(t.index[-1])\n",
    "    #lst = []\n",
    "    #for i in range(0, t.shape[0]):\n",
    "    #    lst.append(default_value)\n",
    "    t_statistic, p_value = ttest_rel(O2_table[t_name][\"Runtime\"].transpose(), t[\"Runtime\"].transpose())  # Paired t-test\n",
    "    #t_statistic, p_value = ttest_rel([default_value], [t[\"Runtime\"].mean()])  # Paired t-test\n",
    "    result_list.append((t_name, t_statistic, p_value))\n",
    "\n",
    "print(\"Results:\")\n",
    "for t in result_list:\n",
    "    print(f'{t[0]}:\\n    t-stat: {t[1]}\\n    p_value: {t[2]}\\n')\n",
    "\n",
    "    "
   ]
  },
  {
   "cell_type": "code",
   "execution_count": null,
   "id": "447a0871-8bc3-4130-85a5-a30cdada5203",
   "metadata": {},
   "outputs": [],
   "source": []
  }
 ],
 "metadata": {
  "kernelspec": {
   "display_name": "Python 3 (ipykernel)",
   "language": "python",
   "name": "python3"
  },
  "language_info": {
   "codemirror_mode": {
    "name": "ipython",
    "version": 3
   },
   "file_extension": ".py",
   "mimetype": "text/x-python",
   "name": "python",
   "nbconvert_exporter": "python",
   "pygments_lexer": "ipython3",
   "version": "3.10.12"
  }
 },
 "nbformat": 4,
 "nbformat_minor": 5
}
