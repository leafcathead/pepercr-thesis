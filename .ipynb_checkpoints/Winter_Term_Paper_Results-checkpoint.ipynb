{
 "cells": [
  {
   "cell_type": "markdown",
   "id": "e27ccd91-7010-4bc3-9e41-9c45e2f94941",
   "metadata": {},
   "source": [
    "# Imports"
   ]
  },
  {
   "cell_type": "code",
   "execution_count": 2,
   "id": "5cf21dab-e2f9-4bba-8002-d344fa5a8caa",
   "metadata": {},
   "outputs": [
    {
     "data": {
      "image/png": "[encoded data removed]",
      "text/html": [
       "<div style=\"vertical-align: middle;\"><strong>rocket</strong> </div><div class=\"cmap\"><img alt=\"rocket colormap\" title=\"rocket\" style=\"border: 1px solid #555;\" src=\"data:image/png;base64,iVBORw0KGgoAAAANSUhEUgAAAgAAAABACAYAAABsv8+/AAAAFXRFWHRUaXRsZQByb2NrZXQgY29sb3JtYXCDKv+2AAAAG3RFWHREZXNjcmlwdGlvbgByb2NrZXQgY29sb3JtYXDKvedSAAAAMHRFWHRBdXRob3IATWF0cGxvdGxpYiB2My44LjAsIGh0dHBzOi8vbWF0cGxvdGxpYi5vcmefc/hPAAAAMnRFWHRTb2Z0d2FyZQBNYXRwbG90bGliIHYzLjguMCwgaHR0cHM6Ly9tYXRwbG90bGliLm9yZ7HVZ2gAAAITSURBVHic7dZLVuwgAEVRoJyE8x8odpJyBUIR7d69Oy7+8fkap7av715KKbXWUkoptRw/j3HbzZ/jzblx/2p+uqdszv13/PSd1b7h3tX87z3l2fcc+9rTe8Zz0/eUj+P5vsX++tfzx3xfzK/2L+8/5ntZnBvu6+N943fdz+/Otd7v16dz/fN90z19+H1W8/3zfL3fd/z5Sqv9fv85Xzfz7XrfPD+sj/Nt+I7Feh3faffrZbl+/MMs58dxvY7f99Zh/3X8e65exrv55fr7D9UW+9qj/ee4btZ358/1+l5fnfvv/Ord1b7rzzrt273zenb/9v37e+bvefre65jevf/03fv94/3nf2MAIIgAAIBAAgAAAgkAAAgkAAAgkAAAgEACAAACCQAACCQAACCQAACAQAIAAAIJAAAIJAAAIJAAAIBAAgAAAgkAAAgkAAAgkAAAgEACAAACCQAACCQAACCQAACAQAIAAAIJAAAIJAAAIJAAAIBAAgAAAgkAAAgkAAAgkAAAgEACAAACCQAACCQAACCQAACAQAIAAAIJAAAIJAAAIJAAAIBAAgAAAgkAAAgkAAAgkAAAgEACAAACCQAACCQAACCQAACAQAIAAAIJAAAIJAAAIJAAAIBAAgAAAgkAAAgkAAAgkAAAgEACAAACCQAACCQAACCQAACAQAIAAAIJAAAIJAAAIJAAAIBAAgAAAv0AU3UrP5ppht0AAAAASUVORK5CYII=\"></div><div style=\"vertical-align: middle; max-width: 514px; display: flex; justify-content: space-between;\"><div style=\"float: left;\"><div title=\"#03051aff\" style=\"display: inline-block; width: 1em; height: 1em; margin: 0; vertical-align: middle; border: 1px solid #555; background-color: #03051aff;\"></div> under</div><div style=\"margin: 0 auto; display: inline-block;\">bad <div title=\"#00000000\" style=\"display: inline-block; width: 1em; height: 1em; margin: 0; vertical-align: middle; border: 1px solid #555; background-color: #00000000;\"></div></div><div style=\"float: right;\">over <div title=\"#faebddff\" style=\"display: inline-block; width: 1em; height: 1em; margin: 0; vertical-align: middle; border: 1px solid #555; background-color: #faebddff;\"></div></div>"
      ],
      "text/plain": [
       "<matplotlib.colors.ListedColormap at 0x7f164c3f34c0>"
      ]
     },
     "execution_count": 2,
     "metadata": {},
     "output_type": "execute_result"
    }
   ],
   "source": [
    "import numpy as np\n",
    "import pandas as pd\n",
    "import matplotlib.pyplot as plt\n",
    "import re\n",
    "from scipy.stats import f_oneway\n",
    "from scipy.stats import ttest_rel\n",
    "import seaborn as sns\n",
    "from collections import Counter\n",
    "import ast\n",
    "from scipy.stats import norm\n",
    "from sklearn.ensemble import RandomForestClassifier, RandomForestRegressor\n",
    "from matplotlib.lines import Line2D\n",
    "import warnings\n",
    "warnings.simplefilter(action='ignore', category=FutureWarning)\n",
    "warnings.filterwarnings(\"ignore\")\n",
    "plt.style.use('seaborn-v0_8')\n",
    "sns.color_palette(\"rocket\", as_cmap=True)"
   ]
  },
  {
   "cell_type": "markdown",
   "id": "70d40373-b61e-40d5-b4b9-4e06802e6aab",
   "metadata": {},
   "source": [
    "# Data Import & Set-Up"
   ]
  },
  {
   "cell_type": "code",
   "execution_count": 3,
   "id": "3cfe1485-0d57-434d-8096-1ad5935a70f8",
   "metadata": {},
   "outputs": [
    {
     "ename": "FileNotFoundError",
     "evalue": "[Errno 2] No such file or directory: 'files/W_Paper_Files/cacheprof-PHASEORDER-Iterative-PO-PAPER-RIO-RESULTS-0.csv'",
     "output_type": "error",
     "traceback": [
      "\u001b[0;31m---------------------------------------------------------------------------\u001b[0m",
      "\u001b[0;31mFileNotFoundError\u001b[0m                         Traceback (most recent call last)",
      "Cell \u001b[0;32mIn[3], line 4\u001b[0m\n\u001b[1;32m      1\u001b[0m dir_path \u001b[38;5;241m=\u001b[39m \u001b[38;5;124m\"\u001b[39m\u001b[38;5;124mfiles/W_Paper_Files\u001b[39m\u001b[38;5;124m\"\u001b[39m\n\u001b[1;32m      3\u001b[0m \u001b[38;5;66;03m# RIO Test Results\u001b[39;00m\n\u001b[0;32m----> 4\u001b[0m cacheprof_RIO \u001b[38;5;241m=\u001b[39m \u001b[43mpd\u001b[49m\u001b[38;5;241;43m.\u001b[39;49m\u001b[43mread_csv\u001b[49m\u001b[43m(\u001b[49m\u001b[38;5;124;43mf\u001b[39;49m\u001b[38;5;124;43m\"\u001b[39;49m\u001b[38;5;132;43;01m{\u001b[39;49;00m\u001b[43mdir_path\u001b[49m\u001b[38;5;132;43;01m}\u001b[39;49;00m\u001b[38;5;124;43m/cacheprof-PHASEORDER-Iterative-PO-PAPER-RIO-RESULTS-0.csv\u001b[39;49m\u001b[38;5;124;43m\"\u001b[39;49m\u001b[43m,\u001b[49m\u001b[43m \u001b[49m\u001b[43mindex_col\u001b[49m\u001b[38;5;241;43m=\u001b[39;49m\u001b[43m[\u001b[49m\u001b[38;5;241;43m0\u001b[39;49m\u001b[43m]\u001b[49m\u001b[43m)\u001b[49m\n\u001b[1;32m      5\u001b[0m sorting_RIO \u001b[38;5;241m=\u001b[39m pd\u001b[38;5;241m.\u001b[39mread_csv(\u001b[38;5;124mf\u001b[39m\u001b[38;5;124m\"\u001b[39m\u001b[38;5;132;01m{\u001b[39;00mdir_path\u001b[38;5;132;01m}\u001b[39;00m\u001b[38;5;124m/sorting-PHASEORDER-Iterative-PO-PAPER-RIO-RESULTS-0.csv\u001b[39m\u001b[38;5;124m\"\u001b[39m, index_col\u001b[38;5;241m=\u001b[39m[\u001b[38;5;241m0\u001b[39m])\n\u001b[1;32m      6\u001b[0m maillist_RIO \u001b[38;5;241m=\u001b[39m pd\u001b[38;5;241m.\u001b[39mread_csv(\u001b[38;5;124mf\u001b[39m\u001b[38;5;124m\"\u001b[39m\u001b[38;5;132;01m{\u001b[39;00mdir_path\u001b[38;5;132;01m}\u001b[39;00m\u001b[38;5;124m/maillist-PHASEORDER-Iterative-PO-PAPER-RIO-RESULTS-0.csv\u001b[39m\u001b[38;5;124m\"\u001b[39m, index_col\u001b[38;5;241m=\u001b[39m[\u001b[38;5;241m0\u001b[39m])\n",
      "File \u001b[0;32m~/.local/lib/python3.10/site-packages/pandas/io/parsers/readers.py:948\u001b[0m, in \u001b[0;36mread_csv\u001b[0;34m(filepath_or_buffer, sep, delimiter, header, names, index_col, usecols, dtype, engine, converters, true_values, false_values, skipinitialspace, skiprows, skipfooter, nrows, na_values, keep_default_na, na_filter, verbose, skip_blank_lines, parse_dates, infer_datetime_format, keep_date_col, date_parser, date_format, dayfirst, cache_dates, iterator, chunksize, compression, thousands, decimal, lineterminator, quotechar, quoting, doublequote, escapechar, comment, encoding, encoding_errors, dialect, on_bad_lines, delim_whitespace, low_memory, memory_map, float_precision, storage_options, dtype_backend)\u001b[0m\n\u001b[1;32m    935\u001b[0m kwds_defaults \u001b[38;5;241m=\u001b[39m _refine_defaults_read(\n\u001b[1;32m    936\u001b[0m     dialect,\n\u001b[1;32m    937\u001b[0m     delimiter,\n\u001b[0;32m   (...)\u001b[0m\n\u001b[1;32m    944\u001b[0m     dtype_backend\u001b[38;5;241m=\u001b[39mdtype_backend,\n\u001b[1;32m    945\u001b[0m )\n\u001b[1;32m    946\u001b[0m kwds\u001b[38;5;241m.\u001b[39mupdate(kwds_defaults)\n\u001b[0;32m--> 948\u001b[0m \u001b[38;5;28;01mreturn\u001b[39;00m \u001b[43m_read\u001b[49m\u001b[43m(\u001b[49m\u001b[43mfilepath_or_buffer\u001b[49m\u001b[43m,\u001b[49m\u001b[43m \u001b[49m\u001b[43mkwds\u001b[49m\u001b[43m)\u001b[49m\n",
      "File \u001b[0;32m~/.local/lib/python3.10/site-packages/pandas/io/parsers/readers.py:611\u001b[0m, in \u001b[0;36m_read\u001b[0;34m(filepath_or_buffer, kwds)\u001b[0m\n\u001b[1;32m    608\u001b[0m _validate_names(kwds\u001b[38;5;241m.\u001b[39mget(\u001b[38;5;124m\"\u001b[39m\u001b[38;5;124mnames\u001b[39m\u001b[38;5;124m\"\u001b[39m, \u001b[38;5;28;01mNone\u001b[39;00m))\n\u001b[1;32m    610\u001b[0m \u001b[38;5;66;03m# Create the parser.\u001b[39;00m\n\u001b[0;32m--> 611\u001b[0m parser \u001b[38;5;241m=\u001b[39m \u001b[43mTextFileReader\u001b[49m\u001b[43m(\u001b[49m\u001b[43mfilepath_or_buffer\u001b[49m\u001b[43m,\u001b[49m\u001b[43m \u001b[49m\u001b[38;5;241;43m*\u001b[39;49m\u001b[38;5;241;43m*\u001b[39;49m\u001b[43mkwds\u001b[49m\u001b[43m)\u001b[49m\n\u001b[1;32m    613\u001b[0m \u001b[38;5;28;01mif\u001b[39;00m chunksize \u001b[38;5;129;01mor\u001b[39;00m iterator:\n\u001b[1;32m    614\u001b[0m     \u001b[38;5;28;01mreturn\u001b[39;00m parser\n",
      "File \u001b[0;32m~/.local/lib/python3.10/site-packages/pandas/io/parsers/readers.py:1448\u001b[0m, in \u001b[0;36mTextFileReader.__init__\u001b[0;34m(self, f, engine, **kwds)\u001b[0m\n\u001b[1;32m   1445\u001b[0m     \u001b[38;5;28mself\u001b[39m\u001b[38;5;241m.\u001b[39moptions[\u001b[38;5;124m\"\u001b[39m\u001b[38;5;124mhas_index_names\u001b[39m\u001b[38;5;124m\"\u001b[39m] \u001b[38;5;241m=\u001b[39m kwds[\u001b[38;5;124m\"\u001b[39m\u001b[38;5;124mhas_index_names\u001b[39m\u001b[38;5;124m\"\u001b[39m]\n\u001b[1;32m   1447\u001b[0m \u001b[38;5;28mself\u001b[39m\u001b[38;5;241m.\u001b[39mhandles: IOHandles \u001b[38;5;241m|\u001b[39m \u001b[38;5;28;01mNone\u001b[39;00m \u001b[38;5;241m=\u001b[39m \u001b[38;5;28;01mNone\u001b[39;00m\n\u001b[0;32m-> 1448\u001b[0m \u001b[38;5;28mself\u001b[39m\u001b[38;5;241m.\u001b[39m_engine \u001b[38;5;241m=\u001b[39m \u001b[38;5;28;43mself\u001b[39;49m\u001b[38;5;241;43m.\u001b[39;49m\u001b[43m_make_engine\u001b[49m\u001b[43m(\u001b[49m\u001b[43mf\u001b[49m\u001b[43m,\u001b[49m\u001b[43m \u001b[49m\u001b[38;5;28;43mself\u001b[39;49m\u001b[38;5;241;43m.\u001b[39;49m\u001b[43mengine\u001b[49m\u001b[43m)\u001b[49m\n",
      "File \u001b[0;32m~/.local/lib/python3.10/site-packages/pandas/io/parsers/readers.py:1705\u001b[0m, in \u001b[0;36mTextFileReader._make_engine\u001b[0;34m(self, f, engine)\u001b[0m\n\u001b[1;32m   1703\u001b[0m     \u001b[38;5;28;01mif\u001b[39;00m \u001b[38;5;124m\"\u001b[39m\u001b[38;5;124mb\u001b[39m\u001b[38;5;124m\"\u001b[39m \u001b[38;5;129;01mnot\u001b[39;00m \u001b[38;5;129;01min\u001b[39;00m mode:\n\u001b[1;32m   1704\u001b[0m         mode \u001b[38;5;241m+\u001b[39m\u001b[38;5;241m=\u001b[39m \u001b[38;5;124m\"\u001b[39m\u001b[38;5;124mb\u001b[39m\u001b[38;5;124m\"\u001b[39m\n\u001b[0;32m-> 1705\u001b[0m \u001b[38;5;28mself\u001b[39m\u001b[38;5;241m.\u001b[39mhandles \u001b[38;5;241m=\u001b[39m \u001b[43mget_handle\u001b[49m\u001b[43m(\u001b[49m\n\u001b[1;32m   1706\u001b[0m \u001b[43m    \u001b[49m\u001b[43mf\u001b[49m\u001b[43m,\u001b[49m\n\u001b[1;32m   1707\u001b[0m \u001b[43m    \u001b[49m\u001b[43mmode\u001b[49m\u001b[43m,\u001b[49m\n\u001b[1;32m   1708\u001b[0m \u001b[43m    \u001b[49m\u001b[43mencoding\u001b[49m\u001b[38;5;241;43m=\u001b[39;49m\u001b[38;5;28;43mself\u001b[39;49m\u001b[38;5;241;43m.\u001b[39;49m\u001b[43moptions\u001b[49m\u001b[38;5;241;43m.\u001b[39;49m\u001b[43mget\u001b[49m\u001b[43m(\u001b[49m\u001b[38;5;124;43m\"\u001b[39;49m\u001b[38;5;124;43mencoding\u001b[39;49m\u001b[38;5;124;43m\"\u001b[39;49m\u001b[43m,\u001b[49m\u001b[43m \u001b[49m\u001b[38;5;28;43;01mNone\u001b[39;49;00m\u001b[43m)\u001b[49m\u001b[43m,\u001b[49m\n\u001b[1;32m   1709\u001b[0m \u001b[43m    \u001b[49m\u001b[43mcompression\u001b[49m\u001b[38;5;241;43m=\u001b[39;49m\u001b[38;5;28;43mself\u001b[39;49m\u001b[38;5;241;43m.\u001b[39;49m\u001b[43moptions\u001b[49m\u001b[38;5;241;43m.\u001b[39;49m\u001b[43mget\u001b[49m\u001b[43m(\u001b[49m\u001b[38;5;124;43m\"\u001b[39;49m\u001b[38;5;124;43mcompression\u001b[39;49m\u001b[38;5;124;43m\"\u001b[39;49m\u001b[43m,\u001b[49m\u001b[43m \u001b[49m\u001b[38;5;28;43;01mNone\u001b[39;49;00m\u001b[43m)\u001b[49m\u001b[43m,\u001b[49m\n\u001b[1;32m   1710\u001b[0m \u001b[43m    \u001b[49m\u001b[43mmemory_map\u001b[49m\u001b[38;5;241;43m=\u001b[39;49m\u001b[38;5;28;43mself\u001b[39;49m\u001b[38;5;241;43m.\u001b[39;49m\u001b[43moptions\u001b[49m\u001b[38;5;241;43m.\u001b[39;49m\u001b[43mget\u001b[49m\u001b[43m(\u001b[49m\u001b[38;5;124;43m\"\u001b[39;49m\u001b[38;5;124;43mmemory_map\u001b[39;49m\u001b[38;5;124;43m\"\u001b[39;49m\u001b[43m,\u001b[49m\u001b[43m \u001b[49m\u001b[38;5;28;43;01mFalse\u001b[39;49;00m\u001b[43m)\u001b[49m\u001b[43m,\u001b[49m\n\u001b[1;32m   1711\u001b[0m \u001b[43m    \u001b[49m\u001b[43mis_text\u001b[49m\u001b[38;5;241;43m=\u001b[39;49m\u001b[43mis_text\u001b[49m\u001b[43m,\u001b[49m\n\u001b[1;32m   1712\u001b[0m \u001b[43m    \u001b[49m\u001b[43merrors\u001b[49m\u001b[38;5;241;43m=\u001b[39;49m\u001b[38;5;28;43mself\u001b[39;49m\u001b[38;5;241;43m.\u001b[39;49m\u001b[43moptions\u001b[49m\u001b[38;5;241;43m.\u001b[39;49m\u001b[43mget\u001b[49m\u001b[43m(\u001b[49m\u001b[38;5;124;43m\"\u001b[39;49m\u001b[38;5;124;43mencoding_errors\u001b[39;49m\u001b[38;5;124;43m\"\u001b[39;49m\u001b[43m,\u001b[49m\u001b[43m \u001b[49m\u001b[38;5;124;43m\"\u001b[39;49m\u001b[38;5;124;43mstrict\u001b[39;49m\u001b[38;5;124;43m\"\u001b[39;49m\u001b[43m)\u001b[49m\u001b[43m,\u001b[49m\n\u001b[1;32m   1713\u001b[0m \u001b[43m    \u001b[49m\u001b[43mstorage_options\u001b[49m\u001b[38;5;241;43m=\u001b[39;49m\u001b[38;5;28;43mself\u001b[39;49m\u001b[38;5;241;43m.\u001b[39;49m\u001b[43moptions\u001b[49m\u001b[38;5;241;43m.\u001b[39;49m\u001b[43mget\u001b[49m\u001b[43m(\u001b[49m\u001b[38;5;124;43m\"\u001b[39;49m\u001b[38;5;124;43mstorage_options\u001b[39;49m\u001b[38;5;124;43m\"\u001b[39;49m\u001b[43m,\u001b[49m\u001b[43m \u001b[49m\u001b[38;5;28;43;01mNone\u001b[39;49;00m\u001b[43m)\u001b[49m\u001b[43m,\u001b[49m\n\u001b[1;32m   1714\u001b[0m \u001b[43m\u001b[49m\u001b[43m)\u001b[49m\n\u001b[1;32m   1715\u001b[0m \u001b[38;5;28;01massert\u001b[39;00m \u001b[38;5;28mself\u001b[39m\u001b[38;5;241m.\u001b[39mhandles \u001b[38;5;129;01mis\u001b[39;00m \u001b[38;5;129;01mnot\u001b[39;00m \u001b[38;5;28;01mNone\u001b[39;00m\n\u001b[1;32m   1716\u001b[0m f \u001b[38;5;241m=\u001b[39m \u001b[38;5;28mself\u001b[39m\u001b[38;5;241m.\u001b[39mhandles\u001b[38;5;241m.\u001b[39mhandle\n",
      "File \u001b[0;32m~/.local/lib/python3.10/site-packages/pandas/io/common.py:863\u001b[0m, in \u001b[0;36mget_handle\u001b[0;34m(path_or_buf, mode, encoding, compression, memory_map, is_text, errors, storage_options)\u001b[0m\n\u001b[1;32m    858\u001b[0m \u001b[38;5;28;01melif\u001b[39;00m \u001b[38;5;28misinstance\u001b[39m(handle, \u001b[38;5;28mstr\u001b[39m):\n\u001b[1;32m    859\u001b[0m     \u001b[38;5;66;03m# Check whether the filename is to be opened in binary mode.\u001b[39;00m\n\u001b[1;32m    860\u001b[0m     \u001b[38;5;66;03m# Binary mode does not support 'encoding' and 'newline'.\u001b[39;00m\n\u001b[1;32m    861\u001b[0m     \u001b[38;5;28;01mif\u001b[39;00m ioargs\u001b[38;5;241m.\u001b[39mencoding \u001b[38;5;129;01mand\u001b[39;00m \u001b[38;5;124m\"\u001b[39m\u001b[38;5;124mb\u001b[39m\u001b[38;5;124m\"\u001b[39m \u001b[38;5;129;01mnot\u001b[39;00m \u001b[38;5;129;01min\u001b[39;00m ioargs\u001b[38;5;241m.\u001b[39mmode:\n\u001b[1;32m    862\u001b[0m         \u001b[38;5;66;03m# Encoding\u001b[39;00m\n\u001b[0;32m--> 863\u001b[0m         handle \u001b[38;5;241m=\u001b[39m \u001b[38;5;28;43mopen\u001b[39;49m\u001b[43m(\u001b[49m\n\u001b[1;32m    864\u001b[0m \u001b[43m            \u001b[49m\u001b[43mhandle\u001b[49m\u001b[43m,\u001b[49m\n\u001b[1;32m    865\u001b[0m \u001b[43m            \u001b[49m\u001b[43mioargs\u001b[49m\u001b[38;5;241;43m.\u001b[39;49m\u001b[43mmode\u001b[49m\u001b[43m,\u001b[49m\n\u001b[1;32m    866\u001b[0m \u001b[43m            \u001b[49m\u001b[43mencoding\u001b[49m\u001b[38;5;241;43m=\u001b[39;49m\u001b[43mioargs\u001b[49m\u001b[38;5;241;43m.\u001b[39;49m\u001b[43mencoding\u001b[49m\u001b[43m,\u001b[49m\n\u001b[1;32m    867\u001b[0m \u001b[43m            \u001b[49m\u001b[43merrors\u001b[49m\u001b[38;5;241;43m=\u001b[39;49m\u001b[43merrors\u001b[49m\u001b[43m,\u001b[49m\n\u001b[1;32m    868\u001b[0m \u001b[43m            \u001b[49m\u001b[43mnewline\u001b[49m\u001b[38;5;241;43m=\u001b[39;49m\u001b[38;5;124;43m\"\u001b[39;49m\u001b[38;5;124;43m\"\u001b[39;49m\u001b[43m,\u001b[49m\n\u001b[1;32m    869\u001b[0m \u001b[43m        \u001b[49m\u001b[43m)\u001b[49m\n\u001b[1;32m    870\u001b[0m     \u001b[38;5;28;01melse\u001b[39;00m:\n\u001b[1;32m    871\u001b[0m         \u001b[38;5;66;03m# Binary mode\u001b[39;00m\n\u001b[1;32m    872\u001b[0m         handle \u001b[38;5;241m=\u001b[39m \u001b[38;5;28mopen\u001b[39m(handle, ioargs\u001b[38;5;241m.\u001b[39mmode)\n",
      "\u001b[0;31mFileNotFoundError\u001b[0m: [Errno 2] No such file or directory: 'files/W_Paper_Files/cacheprof-PHASEORDER-Iterative-PO-PAPER-RIO-RESULTS-0.csv'"
     ]
    }
   ],
   "source": [
    "dir_path = \"files/W_Paper_Files\"\n",
    "\n",
    "# RIO Test Results\n",
    "cacheprof_RIO = pd.read_csv(f\"{dir_path}/cacheprof-PHASEORDER-Iterative-PO-PAPER-RIO-RESULTS-0.csv\", index_col=[0])\n",
    "sorting_RIO = pd.read_csv(f\"{dir_path}/sorting-PHASEORDER-Iterative-PO-PAPER-RIO-RESULTS-0.csv\", index_col=[0])\n",
    "maillist_RIO = pd.read_csv(f\"{dir_path}/maillist-PHASEORDER-Iterative-PO-PAPER-RIO-RESULTS-0.csv\", index_col=[0])\n",
    "hidden_RIO = pd.read_csv(f\"{dir_path}/hidden-PHASEORDER-Iterative-PO-PAPER-RIO-RESULTS-0.csv\", index_col=[0])\n",
    "\n",
    "# BOCA Test Results\n",
    "cacheprof_BOCA = pd.read_csv(f\"{dir_path}/cacheprof-PHASEORDER-BOCA-PO-PAPER-RESULTS-0.csv\", index_col=[0])\n",
    "sorting_BOCA = pd.read_csv(f\"{dir_path}/sorting-PHASEORDER-BOCA-PO-PAPER-RESULTS-0.csv\", index_col=[0])\n",
    "maillist_BOCA = pd.read_csv(f\"{dir_path}/maillist-PHASEORDER-BOCA-PO-PAPER-RESULTS-0.csv\", index_col=[0])\n",
    "hidden_BOCA = pd.read_csv(f\"{dir_path}/hidden-PHASEORDER-BOCA-PO-PAPER-RESULTS-0.csv\", index_col=[0])\n",
    "\n",
    "# BOCA Test Results after Bugfix\n",
    "cacheprof_BOCA_Fixed = pd.read_csv(f\"{dir_path}/cacheprof-PHASEORDER-BOCA-SINGLE_THREAD_IMPACT_BIG_TEST-0.csv\", index_col=[0])\n",
    "sorting_BOCA_Fixed = pd.read_csv(f\"{dir_path}/sorting-PHASEORDER-BOCA-SINGLE_THREAD_IMPACT_BIG_TEST-0.csv\", index_col=[0])\n",
    "maillist_BOCA_Fixed = pd.read_csv(f\"{dir_path}/maillist-PHASEORDER-BOCA-SINGLE_THREAD_IMPACT_BIG_TEST-0.csv\", index_col=[0])\n",
    "hidden_BOCA_Fixed = pd.read_csv(f\"{dir_path}/hidden-PHASEORDER-BOCA-SINGLE_THREAD_IMPACT_BIG_TEST-0.csv\", index_col=[0])\n",
    "\n",
    "# Control Group (O2 In Default Order)\n",
    "cacheprof_default = pd.read_csv(f\"{dir_path}/cacheprof-PHASEORDER-Iterative-BIGRIO-0.csv\", index_col=[0])\n",
    "hidden_default = pd.read_csv(f\"{dir_path}/hidden-PHASEORDER-Iterative-PHASEORDERRIO-0.csv\", index_col=[0])\n",
    "maillist_default =  pd.read_csv(f\"{dir_path}/maillist-PHASEORDER-Iterative-PHASEORDERRIO-0.csv\", index_col=[0])\n",
    "sorting_default = pd.read_csv(f\"{dir_path}/sorting-PHASEORDER-Iterative-PHASEORDERRIO-0.csv\", index_col=[0])\n",
    "\n",
    "# Add additional RIO Results\n",
    "for i in range(1,4):\n",
    "    cacheprof_RIO = pd.concat([cacheprof_RIO, pd.read_csv(f\"{dir_path}/cacheprof-PHASEORDER-Iterative-PO-PAPER-RIO-RESULTS-{i}.csv\", index_col=[0])])\n",
    "    sorting_RIO= pd.concat([sorting_RIO, pd.read_csv(f\"{dir_path}/sorting-PHASEORDER-Iterative-PO-PAPER-RIO-RESULTS-{i}.csv\", index_col=[0])])\n",
    "    maillist_RIO = pd.concat([maillist_RIO, pd.read_csv(f\"{dir_path}/maillist-PHASEORDER-Iterative-PO-PAPER-RIO-RESULTS-{i}.csv\", index_col=[0])])\n",
    "    hidden_RIO = pd.concat([hidden_RIO, pd.read_csv(f\"{dir_path}/hidden-PHASEORDER-Iterative-PO-PAPER-RIO-RESULTS-{i}.csv\", index_col=[0])])\n",
    "\n",
    "\n",
    "# New Slow + Fast Rule:\n",
    "cacheprof_special = pd.read_csv(f\"{dir_path}/cacheprof-PHASEORDER-BOCA-PO-PAPER-RESULTS-SPECIAL-RULE-10P-0.csv\", index_col=[0])\n",
    "hidden_special = pd.read_csv(f\"{dir_path}/hidden-PHASEORDER-BOCA-PO-PAPER-RESULTS-SPECIAL-RULE-10P-0.csv\", index_col=[0])\n",
    "maillist_special = pd.read_csv(f\"{dir_path}/maillist-PHASEORDER-BOCA-PO-PAPER-RESULTS-SPECIAL-RULE-10P-0.csv\", index_col=[0])\n",
    "sorting_special = pd.read_csv(f\"{dir_path}/sorting-PHASEORDER-BOCA-PO-PAPER-RESULTS-SPECIAL-RULE-10P-0.csv\", index_col=[0])\n",
    "\n",
    "cacheprof_special_5p = pd.read_csv(f\"{dir_path}/cacheprof-PHASEORDER-BOCA-PO-PAPER-SPECIAL-RULE-5P-0.csv\", index_col=[0])\n",
    "hidden_special_5p = pd.read_csv(f\"{dir_path}/hidden-PHASEORDER-BOCA-PO-PAPER-SPECIAL-RULE-5P-0.csv\", index_col=[0])\n",
    "maillist_special_5p = pd.read_csv(f\"{dir_path}/maillist-PHASEORDER-BOCA-PO-PAPER-SPECIAL-RULE-5P-0.csv\", index_col=[0])\n",
    "sorting_special_5p = pd.read_csv(f\"{dir_path}/sorting-PHASEORDER-BOCA-PO-PAPER-SPECIAL-RULE-5P-0.csv\", index_col=[0])\n",
    "\n",
    "cacheprof_special_1p = pd.read_csv(f\"{dir_path}/cacheprof-PHASEORDER-BOCA-PO-PAPER-SPECIAL-RULE-1P-0.csv\", index_col=[0])\n",
    "hidden_special_1p = pd.read_csv(f\"{dir_path}/hidden-PHASEORDER-BOCA-PO-PAPER-SPECIAL-RULE-1P-0.csv\", index_col=[0])\n",
    "maillist_special_1p = pd.read_csv(f\"{dir_path}/maillist-PHASEORDER-BOCA-PO-PAPER-SPECIAL-RULE-1P-0.csv\", index_col=[0])\n",
    "sorting_special_1p = pd.read_csv(f\"{dir_path}/sorting-PHASEORDER-BOCA-PO-PAPER-SPECIAL-RULE-1P-0.csv\", index_col=[0])\n",
    "\n",
    "\n",
    "cacheprof_special_005p = pd.read_csv(f\"{dir_path}/cacheprof-PHASEORDER-BOCA-PO-PAPER-SPECIAL-RULE-005P-0.csv\", index_col=[0])\n",
    "hidden_special_005p = pd.read_csv(f\"{dir_path}/hidden-PHASEORDER-BOCA-PO-PAPER-SPECIAL-RULE-005P-0.csv\", index_col=[0])\n",
    "maillist_special_005p = pd.read_csv(f\"{dir_path}/maillist-PHASEORDER-BOCA-PO-PAPER-SPECIAL-RULE-005P-0.csv\", index_col=[0])\n",
    "sorting_special_005p = pd.read_csv(f\"{dir_path}/sorting-PHASEORDER-BOCA-PO-PAPER-SPECIAL-RULE-005P-0.csv\", index_col=[0])\n",
    "\n",
    "# Multi-Table test\n",
    "\n",
    "cacheprof_special_multi = pd.read_csv(f\"{dir_path}/cacheprof-PHASEORDER-BOCA-PO-PAPER-SPECIAL-MULTI-RULE-0.csv\", index_col=[0])\n",
    "hidden_special_multi = pd.read_csv(f\"{dir_path}/hidden-PHASEORDER-BOCA-PO-PAPER-SPECIAL-MULTI-RULE-0.csv\", index_col=[0])\n",
    "maillist_special_multi = pd.read_csv(f\"{dir_path}/maillist-PHASEORDER-BOCA-PO-PAPER-SPECIAL-MULTI-RULE-0.csv\", index_col=[0])\n",
    "sorting_special_multi = pd.read_csv(f\"{dir_path}/sorting-PHASEORDER-BOCA-PO-PAPER-SPECIAL-MULTI-RULE-0.csv\", index_col=[0])\n",
    "\n",
    "# Multi-table 1% Test\n",
    "cacheprof_special_multi_1p = pd.read_csv(f\"{dir_path}/cacheprof-PHASEORDER-BOCA-PO-PAPER-SPECIAL-MULTI-RULE-1P-0.csv\", index_col=[0])\n",
    "sorting_special_multi_1p = pd.read_csv(f\"{dir_path}/sorting-PHASEORDER-BOCA-PO-PAPER-SPECIAL-MULTI-RULE-1P-0.csv\", index_col=[0])\n",
    "maillist_special_multi_1p = pd.read_csv(f\"{dir_path}/maillist-PHASEORDER-BOCA-PO-PAPER-SPECIAL-MULTI-RULE-1P-0.csv\", index_col=[0])\n",
    "hidden_special_multi_1p = pd.read_csv(f\"{dir_path}/hidden-PHASEORDER-BOCA-PO-PAPER-SPECIAL-MULTI-RULE-1P-0.csv\", index_col=[0])\n",
    "\n",
    "# Multi-Threading Test\n",
    "cacheprof_multi_thread = pd.read_csv(f\"{dir_path}/cacheprof-PHASEORDER-BOCA-PCA_THREADING_TEST-0.csv\", index_col=[0])\n",
    "sorting_multi_thread = pd.read_csv(f\"{dir_path}/sorting-PHASEORDER-BOCA-PCA_THREADING_TEST-0.csv\", index_col=[0])\n",
    "maillist_multi_thread = pd.read_csv(f\"{dir_path}/maillist-PHASEORDER-BOCA-PCA_THREADING_TEST-0.csv\", index_col=[0])\n",
    "hidden_multi_thread = pd.read_csv(f\"{dir_path}/hidden-PHASEORDER-BOCA-PCA_THREADING_TEST-0.csv\", index_col=[0])\n",
    "\n",
    "cacheprof_multi_thread_2 = pd.read_csv(f\"{dir_path}/cacheprof-PHASEORDER-BOCA-PCA_THREADING_TEST_2-0.csv\", index_col=[0])\n",
    "sorting_multi_thread_2 = pd.read_csv(f\"{dir_path}/sorting-PHASEORDER-BOCA-PCA_THREADING_TEST_2-0.csv\", index_col=[0])\n",
    "maillist_multi_thread_2 = pd.read_csv(f\"{dir_path}/maillist-PHASEORDER-BOCA-PCA_THREADING_TEST_2-0.csv\", index_col=[0])\n",
    "hidden_multi_thread_2 = pd.read_csv(f\"{dir_path}/hidden-PHASEORDER-BOCA-PCA_THREADING_TEST_2-0.csv\", index_col=[0])\n",
    "\n",
    "# Combined Test \n",
    "cacheprof_combined = pd.read_csv(f\"{dir_path}/cacheprof-PHASEORDER-BOCA-Combined_Large_Features_Test-0.csv\", index_col=[0])\n",
    "sorting_combined = pd.read_csv(f\"{dir_path}/sorting-PHASEORDER-BOCA-Combined_Large_Features_Test-0.csv\", index_col=[0])\n",
    "maillist_combined = pd.read_csv(f\"{dir_path}/maillist-PHASEORDER-BOCA-Combined_Large_Features_Test-0.csv\", index_col=[0])\n",
    "hidden_combined = pd.read_csv(f\"{dir_path}/hidden-PHASEORDER-BOCA-Combined_Large_Features_Test-0.csv\", index_col=[0])\n",
    "\n",
    "# Large Features Test Combined 2\n",
    "cacheprof_combined_2 = pd.read_csv(f\"{dir_path}/cacheprof-PHASEORDER-BOCA-Combined_Large_Features_Test_2-0.csv\", index_col=[0])\n",
    "sorting_combined_2 = pd.read_csv(f\"{dir_path}/sorting-PHASEORDER-BOCA-Combined_Large_Features_Test_2-0.csv\", index_col=[0])\n",
    "maillist_combined_2 = pd.read_csv(f\"{dir_path}/maillist-PHASEORDER-BOCA-Combined_Large_Features_Test_2-0.csv\", index_col=[0])\n",
    "hidden_combined_2 = pd.read_csv(f\"{dir_path}/hidden-PHASEORDER-BOCA-Combined_Large_Features_Test_2-0.csv\", index_col=[0])\n",
    "\n",
    "# Impactful Features 10% Test to see if it can still pick them all up\n",
    "cacheprof_impact_10p = pd.read_csv(f\"{dir_path}/cacheprof-PHASEORDER-BOCA-Impactful_Features_Test_10p-0.csv\", index_col=[0])\n",
    "sorting_impact_10p = pd.read_csv(f\"{dir_path}/sorting-PHASEORDER-BOCA-Impactful_Features_Test_10p-0.csv\", index_col=[0])\n",
    "maillist_impact_10p = pd.read_csv(f\"{dir_path}/maillist-PHASEORDER-BOCA-Impactful_Features_Test_10p-0.csv\", index_col=[0])\n",
    "hidden_impact_10p = pd.read_csv(f\"{dir_path}/hidden-PHASEORDER-BOCA-Impactful_Features_Test_10p-0.csv\", index_col=[0])\n",
    "\n",
    "# Gini List Change\n",
    "cacheprof_gini = pd.read_csv(f\"{dir_path}/cacheprof-PHASEORDER-BOCA-Gini_List_Sort_Removed_Test-0.csv\", index_col=[0])\n",
    "sorting_gini = pd.read_csv(f\"{dir_path}/sorting-PHASEORDER-BOCA-Gini_List_Sort_Removed_Test-0.csv\", index_col=[0])\n",
    "maillist_gini = pd.read_csv(f\"{dir_path}/maillist-PHASEORDER-BOCA-Gini_List_Sort_Removed_Test-0.csv\", index_col=[0])\n",
    "hidden_gini = pd.read_csv(f\"{dir_path}/hidden-PHASEORDER-BOCA-Gini_List_Sort_Removed_Test-0.csv\", index_col=[0])\n",
    "\n",
    "# Alternate Calc Test Using Random Forest Estimators instead of Decision Tree Estimators\n",
    "cacheprof_alt = pd.read_csv(f\"{dir_path}/cacheprof-PHASEORDER-BOCA-Alternate_Impact_Calc_Test-0.csv\", index_col=[0])\n",
    "sorting_alt = pd.read_csv(f\"{dir_path}/sorting-PHASEORDER-BOCA-Alternate_Impact_Calc_Test-0.csv\", index_col=[0])\n",
    "maillist_alt = pd.read_csv(f\"{dir_path}/maillist-PHASEORDER-BOCA-Alternate_Impact_Calc_Test-0.csv\", index_col=[0])\n",
    "hidden_alt = pd.read_csv(f\"{dir_path}/hidden-PHASEORDER-BOCA-Alternate_Impact_Calc_Test-0.csv\", index_col=[0])\n",
    "\n",
    "# Decision Calc Test Using Single Threading\n",
    "cacheprof_st_calc = pd.read_csv(f\"{dir_path}/cacheprof-PHASEORDER-BOCA-SINGLE_THREAD_AFTER_IMPACT_CHANGE_SMALL-0.csv\", index_col=[0])\n",
    "sorting_st_calc = pd.read_csv(f\"{dir_path}/sorting-PHASEORDER-BOCA-SINGLE_THREAD_AFTER_IMPACT_CHANGE_SMALL-0.csv\", index_col=[0])\n",
    "maillist_st_calc = pd.read_csv(f\"{dir_path}/maillist-PHASEORDER-BOCA-SINGLE_THREAD_AFTER_IMPACT_CHANGE_SMALL-0.csv\", index_col=[0])\n",
    "hidden_st_calc = pd.read_csv(f\"{dir_path}/hidden-PHASEORDER-BOCA-SINGLE_THREAD_AFTER_IMPACT_CHANGE_SMALL-0.csv\", index_col=[0])\n",
    "\n",
    "\n",
    "# Post-BugFix Mini-Test\n",
    "cacheprof_bug = pd.read_csv(f\"{dir_path}/cacheprof-PHASEORDER-BOCA-Single_Threaded_After_BugFix-0.csv\", index_col=[0])\n",
    "sorting_bug = pd.read_csv(f\"{dir_path}/sorting-PHASEORDER-BOCA-Single_Threaded_After_BugFix-0.csv\", index_col=[0])\n",
    "maillist_bug = pd.read_csv(f\"{dir_path}/maillist-PHASEORDER-BOCA-Single_Threaded_After_BugFix-0.csv\", index_col=[0])\n",
    "hidden_bug = pd.read_csv(f\"{dir_path}/hidden-PHASEORDER-BOCA-Single_Threaded_After_BugFix-0.csv\", index_col=[0])\n",
    "\n",
    "\n",
    "# slow_tables = {\"cacheprof\": cacheprof_slow, \"maillist\": maillist_slow, \"hidden\": hidden_slow, \"sorting\": sorting_slow}\n",
    "# fast_tables = tables = {\"cacheprof\": cacheprof_fast, \"maillist\": maillist_fast, \"hidden\": hidden_fast, \"sorting\": sorting_fast}\n",
    "program_tables = {\"cacheprof\": {\"BOCA\": cacheprof_BOCA, \"BOCPA\":cacheprof_BOCA_Fixed, \"RIO\": cacheprof_RIO, \"O2\": cacheprof_default}, \"sorting\": {\"BOCA\": sorting_BOCA, \"BOCPA\": sorting_BOCA_Fixed, \"RIO\": sorting_RIO, \"O2\": sorting_default}, \"hidden\": {\"BOCA\": hidden_BOCA, \"BOCPA\": hidden_BOCA_Fixed, \"RIO\":  hidden_RIO, \"O2\": hidden_default}, \"maillist\": {\"BOCA\": maillist_BOCA, \"BOCPA\": maillist_BOCA_Fixed, \"RIO\": maillist_RIO, \"O2\": maillist_default}}\n",
    "program_tables_BOCA_fixed = {\"cacheprof\": cacheprof_BOCA_Fixed , \"hidden\": hidden_BOCA_Fixed , \"maillist\": maillist_BOCA_Fixed , \"sorting\": sorting_BOCA_Fixed}\n",
    "correctness_tables = {\"cacheprof\": cacheprof_special, \"hidden\": hidden_special, \"maillist\": maillist_special, \"sorting\": sorting_special}\n",
    "correctness_tables_5p = {\"cacheprof\": cacheprof_special_5p, \"hidden\": hidden_special_5p, \"maillist\": maillist_special_5p, \"sorting\": sorting_special_5p}\n",
    "correctness_tables_1p = {\"cacheprof\": cacheprof_special_1p, \"hidden\": hidden_special_1p, \"maillist\": maillist_special_1p, \"sorting\": sorting_special_1p}\n",
    "correctness_tables_005p = {\"cacheprof\": cacheprof_special_005p, \"hidden\": hidden_special_005p, \"maillist\": maillist_special_005p, \"sorting\": sorting_special_005p}\n",
    "correctness_tables_multi = {\"cacheprof\": cacheprof_special_multi, \"hidden\": hidden_special_multi, \"maillist\": maillist_special_multi, \"sorting\": sorting_special_multi}\n",
    "correctness_tables_multi_1p = {\"cacheprof\": cacheprof_special_multi_1p, \"hidden\": hidden_special_multi_1p, \"maillist\": maillist_special_multi_1p, \"sorting\": sorting_special_multi_1p}\n",
    "multi_threading = {\"cacheprof\": cacheprof_multi_thread, \"hidden\": hidden_multi_thread, \"maillist\": maillist_multi_thread, \"sorting\": sorting_multi_thread}\n",
    "multi_threading_2 = {\"cacheprof\": cacheprof_multi_thread_2, \"hidden\": hidden_multi_thread_2, \"maillist\": maillist_multi_thread_2, \"sorting\": sorting_multi_thread_2}\n",
    "combined_test = {\"cacheprof\": cacheprof_combined, \"hidden\": hidden_combined, \"maillist\": maillist_combined, \"sorting\": sorting_combined}\n",
    "combined_test_2 = {\"cacheprof\": cacheprof_combined_2, \"hidden\": hidden_combined_2, \"maillist\": maillist_combined_2, \"sorting\": sorting_combined_2}\n",
    "impactful_10p = {\"cacheprof\": cacheprof_impact_10p, \"hidden\": hidden_impact_10p, \"maillist\": maillist_impact_10p, \"sorting\": sorting_impact_10p}\n",
    "gini_tables = {\"cacheprof\": cacheprof_gini, \"hidden\": hidden_gini, \"maillist\": maillist_gini, \"sorting\": sorting_gini}\n",
    "rf_tables = {\"cacheprof\": cacheprof_alt, \"hidden\": hidden_alt, \"maillist\": maillist_alt, \"sorting\": sorting_alt}\n",
    "single_thread_calc = {\"cacheprof\": cacheprof_st_calc, \"hidden\": hidden_st_calc, \"maillist\": maillist_st_calc, \"sorting\": sorting_st_calc}\n",
    "comparison_impact = {\"cacheprof\": cacheprof_BOCA_Fixed , \"hidden\": hidden_BOCA_Fixed , \"maillist\": maillist_BOCA_Fixed , \"sorting\": sorting_BOCA_Fixed}\n",
    "tables_post_bugfix = {\"cacheprof\": cacheprof_bug , \"hidden\": hidden_bug , \"maillist\": maillist_bug , \"sorting\": sorting_bug}"
   ]
  },
  {
   "cell_type": "markdown",
   "id": "0b19dc68-2ab7-4403-91d8-a5003b2c2a17",
   "metadata": {},
   "source": [
    "# Normalization Results"
   ]
  },
  {
   "cell_type": "markdown",
   "id": "8bbdb1bb-9672-4578-974a-b0bee654d7a7",
   "metadata": {
    "jp-MarkdownHeadingCollapsed": true
   },
   "source": [
    "## Z-Score"
   ]
  },
  {
   "cell_type": "code",
   "execution_count": null,
   "id": "30407eef-6582-47fd-af64-90f956e17557",
   "metadata": {},
   "outputs": [],
   "source": [
    "normalized_tables = {}\n",
    "tick_labels = []\n",
    "\n",
    "for d_name, d in program_tables.items():\n",
    "    for type, t in d.items():\n",
    "        t[\"Norm-Z\"] = (t[\"Runtime\"] - t[\"Runtime\"].mean())/t[\"Runtime\"].std()\n",
    "        t.drop(columns=[\"Mode\"])"
   ]
  },
  {
   "cell_type": "markdown",
   "id": "57790e9a-a39c-4c1e-b950-0963eb096d37",
   "metadata": {},
   "source": [
    "## O2"
   ]
  },
  {
   "cell_type": "code",
   "execution_count": null,
   "id": "fce579e1-f6af-4493-8d78-b0d70bae8ad6",
   "metadata": {},
   "outputs": [],
   "source": [
    "for d_name, d in program_tables.items():\n",
    "    O2_numbers = program_tables[d_name][\"O2\"][\"Runtime\"].mean()\n",
    "    for type, t in d.items():\n",
    "        normalize_around = O2_numbers\n",
    "        offset = normalize_around - t[\"Runtime\"].mean()\n",
    "        t[\"Norm-Default\"] = (t[\"Runtime\"] - normalize_around)/t[\"Runtime\"].std()"
   ]
  },
  {
   "cell_type": "code",
   "execution_count": null,
   "id": "cda2c41a-42c5-439b-af98-b356bf6443b5",
   "metadata": {},
   "outputs": [],
   "source": [
    "for d_name, d in program_tables_BOCA_Fixed.items():\n",
    "    O2_numbers = program_tables[d_name][\"O2\"][\"Runtime\"].mean()\n",
    "    normalize_around = O2_numbers\n",
    "    offset = normalize_around - d[\"Runtime\"].mean()\n",
    "    d[\"Norm-Default\"] = (d[\"Runtime\"] - normalize_around)/d[\"Runtime\"].std()"
   ]
  },
  {
   "cell_type": "markdown",
   "id": "996ddbf0-14c9-44c1-8069-b77cdd6ca8be",
   "metadata": {},
   "source": [
    "## Data Visualization"
   ]
  },
  {
   "cell_type": "markdown",
   "id": "bdde07c0-0315-45b5-8e68-b24d6959859d",
   "metadata": {
    "jp-MarkdownHeadingCollapsed": true
   },
   "source": [
    "### Z-Score Plots"
   ]
  },
  {
   "cell_type": "code",
   "execution_count": null,
   "id": "adf04b6c-a467-40b8-9384-059ca78f9c29",
   "metadata": {},
   "outputs": [],
   "source": [
    "fig, ax = plt.subplots()\n",
    "\n",
    "program_name = \"cacheprof\"\n",
    "\n",
    "lst1 = []\n",
    "labels = []\n",
    "for type_name, t in program_tables[program_name].items():\n",
    "    if type_name != \"O2\":\n",
    "        lst1.append(t[\"Norm-Z\"])\n",
    "        labels.append(type_name)\n",
    "    \n",
    "ax.boxplot(lst1)\n",
    "ax.set_xticklabels(labels)\n",
    "ax.set_ylabel(f\"Normalized Z Runtime (std)\")\n",
    "ax.set_xlabel(f\"Type of Optimization\")\n",
    "ax.set_title(program_name)\n",
    "\n",
    "plt.savefig(\"PO_Z_cacheprof.svg\", format=\"svg\")\n",
    "plt.show()"
   ]
  },
  {
   "cell_type": "code",
   "execution_count": null,
   "id": "19bc0ce9-abfa-486f-bba0-7fe68b50ab41",
   "metadata": {},
   "outputs": [],
   "source": [
    "fig, ax = plt.subplots()\n",
    "\n",
    "program_name = \"sorting\"\n",
    "\n",
    "lst1 = []\n",
    "labels = []\n",
    "for type_name, t in program_tables[program_name].items():\n",
    "    if type_name != \"O2\":\n",
    "        lst1.append(t[\"Norm-Z\"])\n",
    "        labels.append(type_name)\n",
    "    \n",
    "ax.boxplot(lst1)\n",
    "ax.set_xticklabels(labels)\n",
    "ax.set_ylabel(f\"Normalized Z Runtime (std)\")\n",
    "ax.set_xlabel(f\"Type of Optimization\")\n",
    "ax.set_title(program_name)\n",
    "\n",
    "plt.savefig(\"PO_Z_sorting.svg\", format=\"svg\")\n",
    "plt.show()"
   ]
  },
  {
   "cell_type": "code",
   "execution_count": null,
   "id": "b5143a90-4272-4b86-8f2c-42d9d58050d0",
   "metadata": {},
   "outputs": [],
   "source": [
    "fig, ax = plt.subplots()\n",
    "\n",
    "program_name = \"hidden\"\n",
    "\n",
    "lst1 = []\n",
    "labels = []\n",
    "for type_name, t in program_tables[program_name].items():\n",
    "    if type_name != \"O2\":\n",
    "        lst1.append(t[\"Norm-Z\"])\n",
    "        labels.append(type_name)\n",
    "    \n",
    "ax.boxplot(lst1)\n",
    "ax.set_xticklabels(labels)\n",
    "ax.set_ylabel(f\"Normalized Z Runtime (std)\")\n",
    "ax.set_xlabel(f\"Type of Optimization\")\n",
    "ax.set_title(program_name)\n",
    "\n",
    "plt.savefig(\"PO_Z_hidden.svg\", format=\"svg\")\n",
    "plt.show()"
   ]
  },
  {
   "cell_type": "code",
   "execution_count": null,
   "id": "5ee474c2-b6e2-4798-8bde-f2e1d420030c",
   "metadata": {},
   "outputs": [],
   "source": [
    "fig, ax = plt.subplots()\n",
    "\n",
    "program_name = \"maillist\"\n",
    "\n",
    "lst1 = []\n",
    "labels = []\n",
    "for type_name, t in program_tables[program_name].items():\n",
    "    if type_name != \"O2\":\n",
    "        lst1.append(t[\"Norm-Z\"])\n",
    "        labels.append(type_name)\n",
    "    \n",
    "ax.boxplot(lst1)\n",
    "ax.set_xticklabels(labels)\n",
    "ax.set_ylabel(f\"Normalized Z Runtime (std)\")\n",
    "ax.set_xlabel(f\"Type of Optimization\")\n",
    "ax.set_title(program_name)\n",
    "\n",
    "plt.savefig(\"PO_Z_maillist.svg\", format=\"svg\")\n",
    "plt.show()"
   ]
  },
  {
   "cell_type": "markdown",
   "id": "7bbd1701-7165-444a-a129-ffc33588627b",
   "metadata": {},
   "source": [
    "### O2 Plots"
   ]
  },
  {
   "cell_type": "code",
   "execution_count": null,
   "id": "7c73ebeb-3af1-41b3-950f-a99bfbfc3b44",
   "metadata": {},
   "outputs": [],
   "source": [
    "## Make O2 Plot Function\n",
    "\n",
    "def make_O2_boxplot(program_name, hash_map):\n",
    "    fig, ax = plt.subplots()\n",
    "\n",
    "    lst1 = []\n",
    "    labels = []\n",
    "    program_name = program_name\n",
    "    for type_name, t in hash_map[program_name].items():\n",
    "        if type_name != \"O2\":\n",
    "            lst1.append(t[\"Norm-Default\"])\n",
    "            labels.append(type_name)\n",
    "        \n",
    "    ax.boxplot(lst1)\n",
    "    ax.set_xticklabels(labels)\n",
    "    ax.set_ylabel(f\"Normalized O2 Runtime (std)\")\n",
    "    ax.set_xlabel(f\"Type of Optimization\")\n",
    "    ax.set_title(f\"{program_name}\")\n",
    "    \n",
    "    plt.savefig(f\"PO_O2_{program_name}.svg\", format=\"svg\")\n",
    "    plt.show()\n",
    "    "
   ]
  },
  {
   "cell_type": "code",
   "execution_count": null,
   "id": "904561fa-31f6-460a-b6d5-1b27d19cbc66",
   "metadata": {},
   "outputs": [],
   "source": [
    "# fig, ax = plt.subplots()\n",
    "\n",
    "# lst1 = []\n",
    "# labels = []\n",
    "# program_name = \"cacheprof\"\n",
    "# for type_name, t in program_tables[program_name].items():\n",
    "#     if type_name != \"O2\":\n",
    "#         lst1.append(t[\"Norm-Default\"])\n",
    "#         labels.append(type_name)\n",
    "    \n",
    "# ax.boxplot(lst1)\n",
    "# ax.set_xticklabels(labels)\n",
    "# ax.set_ylabel(f\"Normalized O2 Runtime (std)\")\n",
    "# ax.set_xlabel(f\"Type of Optimization\")\n",
    "# ax.set_title(f\"{program_name}\")\n",
    "\n",
    "# plt.savefig(\"PO_O2_cacheprof.svg\", format=\"svg\")\n",
    "# plt.show()\n",
    "\n",
    "make_O2_boxplot(\"cacheprof\", program_tables)"
   ]
  },
  {
   "cell_type": "code",
   "execution_count": null,
   "id": "d422a84b-3f22-4c1e-afff-398d4857e246",
   "metadata": {},
   "outputs": [],
   "source": [
    "make_O2_boxplot(\"sorting\", program_tables)"
   ]
  },
  {
   "cell_type": "code",
   "execution_count": null,
   "id": "1a317625-9ad3-4523-aecc-bb079944d231",
   "metadata": {},
   "outputs": [],
   "source": [
    "make_O2_boxplot(\"maillist\", program_tables)"
   ]
  },
  {
   "cell_type": "code",
   "execution_count": null,
   "id": "4b38e701-d2f0-4597-82f6-527f6102f4c1",
   "metadata": {},
   "outputs": [],
   "source": [
    "make_O2_boxplot(\"hidden\", program_tables)"
   ]
  },
  {
   "cell_type": "markdown",
   "id": "2f0ba95a-05e9-4223-b04e-0804a3cef438",
   "metadata": {},
   "source": [
    "#### O2 Plot with new BOCPA"
   ]
  },
  {
   "cell_type": "code",
   "execution_count": null,
   "id": "58529408-6a1c-42a6-a777-6056310bce43",
   "metadata": {},
   "outputs": [],
   "source": [
    "def build_box_plot(program_name):\n",
    "    fig, ax = plt.subplots()\n",
    "    lst1 = []\n",
    "    labels = []\n",
    "    for type_name, t in program_tables[program_name].items():\n",
    "        if type_name != \"O2\":\n",
    "            lst1.append(t[\"Norm-Default\"])\n",
    "            labels.append(type_name)\n",
    "    lst1.append(program_tables_BOCA_Fixed[program_name][\"Norm-Default\"])\n",
    "    labels.append(\"BOCPA\")\n",
    "        \n",
    "    ax.boxplot(lst1)\n",
    "    ax.set_xticklabels(labels)\n",
    "    ax.set_ylabel(f\"Normalized O2 Runtime (std)\")\n",
    "    ax.set_xlabel(f\"Type of Optimization\")\n",
    "    ax.set_title(f\"{program_name}\")\n",
    "    \n",
    "    plt.savefig(f\"PO_O2_{program_name}_w_BOCPA.svg\", format=\"svg\")\n",
    "    plt.show()"
   ]
  },
  {
   "cell_type": "code",
   "execution_count": null,
   "id": "ad1f6ca2-87b3-49e8-9208-76be62e5cd84",
   "metadata": {},
   "outputs": [],
   "source": [
    "build_box_plot(\"cacheprof\")"
   ]
  },
  {
   "cell_type": "code",
   "execution_count": null,
   "id": "8c6e88b8-bc02-4161-8c1c-297d281583f6",
   "metadata": {},
   "outputs": [],
   "source": [
    "build_box_plot(\"sorting\")"
   ]
  },
  {
   "cell_type": "code",
   "execution_count": null,
   "id": "e1a2c627-d880-4564-9099-c093aec0ce56",
   "metadata": {},
   "outputs": [],
   "source": [
    "build_box_plot(\"maillist\")"
   ]
  },
  {
   "cell_type": "code",
   "execution_count": null,
   "id": "10f62293-0232-4998-8f19-36262929c13b",
   "metadata": {},
   "outputs": [],
   "source": [
    "build_box_plot(\"hidden\")"
   ]
  },
  {
   "cell_type": "markdown",
   "id": "bb4a9f1a-89df-47c3-9592-993320ecec0c",
   "metadata": {},
   "source": [
    "# Table of Improvement"
   ]
  },
  {
   "cell_type": "markdown",
   "id": "5110de13-1eb5-4cc6-ba87-17b7632b8b20",
   "metadata": {},
   "source": [
    "## Old Impact Calculation"
   ]
  },
  {
   "cell_type": "code",
   "execution_count": null,
   "id": "fa5c2d87-7386-467f-adc6-b50414c85cba",
   "metadata": {},
   "outputs": [],
   "source": [
    "\n",
    "# THIS IS USING THE BEST RUNTIME\n",
    "\n",
    "data = []\n",
    "programs = list(program_tables.keys())\n",
    "configurations = [\"BOCA\", \"RIO\"]\n",
    "columns = [\"Optimal\", \"Default\", \"Improvement\", \"Avg. Improvement\"]\n",
    "\n",
    "for program in programs:\n",
    "    program_data = []\n",
    "    row_O0s = []\n",
    "    row_O2s = []\n",
    "    for config in configurations:\n",
    "        if program_tables[program][config] is not None:\n",
    "            row_Optimal = round(program_tables[program][config].sort_values(\"Runtime\", ascending=True).iloc[0][\"Runtime\"],3)\n",
    "            row_Default = round(program_tables[program][\"O2\"][\"Runtime\"].mean(),3)\n",
    "            improvement = f\"{round(-1*(1 - row_Optimal/row_Default)*100,3)}%\"\n",
    "            average = f\"{round(-1*(1 - program_tables[program][config]['Runtime'].mean()/row_Default)*100,3)}%\"\n",
    "            program_data.append([row_Optimal, row_Default, improvement, average])\n",
    "            row_O0s.append(row_Optimal)\n",
    "            row_O2s.append(row_Default)\n",
    "        else:\n",
    "            program_data.append([None, None, None])\n",
    "    data.extend(program_data)\n",
    "    \n",
    "    # for config in configurations:\n",
    "    #     updated_program_tables[program][config][\"-O0\"][\"Runtime\"] = round(np.mean(row_O0s),3)\n",
    "    #     row_O2 = updated_program_tables[program][config][\"-O2\"][\"Runtime\"] = round(np.mean(row_O2s),3)\n",
    "\n",
    "# Create a MultiIndex with program and configuration levels\n",
    "index = pd.MultiIndex.from_product([programs, configurations], names=[\"Program\", \"Configuration\"])\n",
    "\n",
    "# print(index)\n",
    "# print(data)\n",
    "\n",
    "# Reshape data into a DataFrame\n",
    "df = pd.DataFrame(data, columns=columns)\n",
    "\n",
    "\n",
    "# Assign the MultiIndex\n",
    "df.index = index\n",
    "\n",
    "\n",
    "print(df)\n",
    "df.to_csv(\"PO_table_results.csv\")\n"
   ]
  },
  {
   "cell_type": "code",
   "execution_count": null,
   "id": "689c7b32-fce7-4626-933d-6ba7deb8dad7",
   "metadata": {},
   "outputs": [],
   "source": [
    "BOCA_Optimal = []\n",
    "RIO_Optimal = []\n",
    "\n",
    "for program, models in program_tables.items():\n",
    "    for m, t in models.items():\n",
    "        if m == \"BOCA\":\n",
    "            BOCA_Optimal.append(program_tables[program][m].sort_values(\"Runtime\", ascending=True).iloc[0][\"Phase\"])      \n",
    "        elif m == \"RIO\":\n",
    "            RIO_Optimal.append(program_tables[program][m].sort_values(\"Runtime\", ascending=True).iloc[0][\"Phase\"])\n",
    "\n",
    "# BOCA_Optimal.add program_tables[\"sorting\"][\"BOCA\"].sort_values(\"Runtime\", ascending=True).iloc[0][\"Phase\"]\n",
    "# RIO_Optimal = program_tables[\"sorting\"][\"RIO\"].sort_values(\"Runtime\", ascending=True).iloc[0][\"Phase\"]\n",
    "\n",
    "\n",
    "print(BOCA_Optimal)\n",
    "print(RIO_Optimal)"
   ]
  },
  {
   "cell_type": "markdown",
   "id": "7dca543f-bf4c-44c3-8347-ff7f47cced25",
   "metadata": {},
   "source": [
    "## New Impact Calculation"
   ]
  },
  {
   "cell_type": "code",
   "execution_count": null,
   "id": "5a1ba833-a1b4-4504-ba17-416277e329e5",
   "metadata": {},
   "outputs": [],
   "source": [
    "\n",
    "# # THIS IS USING THE BEST RUNTIME\n",
    "\n",
    "# data = []\n",
    "# programs = list(program_tables.keys())\n",
    "# configurations = [\"BOCPA-Old\", \"BOCPA-New\", \"RIO\"]\n",
    "# columns = [\"Optimal\", \"Default\", \"Improvement\", \"Avg. Improvement\"]\n",
    "\n",
    "# for program in programs:\n",
    "#     program_data = []\n",
    "#     row_O0s = []\n",
    "#     row_O2s = []\n",
    "#     for config in configurations:\n",
    "#         row_Default = round(program_tables[program][\"O2\"][\"Runtime\"].mean(),3)\n",
    "#         if config == \"BOCPA-Old\":\n",
    "            \n",
    "            \n",
    "            \n",
    "#         if program_tables[program][config] is not None:\n",
    "#             row_Optimal = round(program_tables[program][config].sort_values(\"Runtime\", ascending=True).iloc[0][\"Runtime\"],3)\n",
    "#             row_Default = round(program_tables[program][\"O2\"][\"Runtime\"].mean(),3)\n",
    "#             improvement = f\"{round(-1*(1 - row_Optimal/row_Default)*100,3)}%\"\n",
    "#             average = f\"{round(-1*(1 - program_tables[program][config]['Runtime'].mean()/row_Default)*100,3)}%\"\n",
    "#             program_data.append([row_Optimal, row_Default, improvement, average])\n",
    "#             row_O0s.append(row_Optimal)\n",
    "#             row_O2s.append(row_Default)\n",
    "#         else:\n",
    "#             program_data.append([None, None, None])\n",
    "#     data.extend(program_data)\n",
    "    \n",
    "#     # for config in configurations:\n",
    "#     #     updated_program_tables[program][config][\"-O0\"][\"Runtime\"] = round(np.mean(row_O0s),3)\n",
    "#     #     row_O2 = updated_program_tables[program][config][\"-O2\"][\"Runtime\"] = round(np.mean(row_O2s),3)\n",
    "\n",
    "# # Create a MultiIndex with program and configuration levels\n",
    "# index = pd.MultiIndex.from_product([programs, configurations], names=[\"Program\", \"Configuration\"])\n",
    "\n",
    "# # print(index)\n",
    "# # print(data)\n",
    "\n",
    "# # Reshape data into a DataFrame\n",
    "# df = pd.DataFrame(data, columns=columns)\n",
    "\n",
    "\n",
    "# # Assign the MultiIndex\n",
    "# df.index = index\n",
    "\n",
    "\n",
    "# print(df)\n",
    "# df.to_csv(\"PO_table_results.csv\")\n"
   ]
  },
  {
   "cell_type": "markdown",
   "id": "d06d113a-d91b-4191-bd17-07ebbaf4869a",
   "metadata": {},
   "source": [
    "# Correctness Stuff"
   ]
  },
  {
   "cell_type": "code",
   "execution_count": null,
   "id": "dc87b97c-c75d-467a-b1f2-749d4d1e2ed6",
   "metadata": {},
   "outputs": [],
   "source": [
    "def has_required_tuples(tuple_list):\n",
    "    for tup in  [(\"my_good_optimization\", \"my_neutral_optimization\"), (\"my_bad_optimization\", \"my_neutral_optimization\")]:\n",
    "        if tup in tuple_list:\n",
    "            return True\n",
    "    return False\n",
    "\n",
    "def which_tuple(tuple_list):\n",
    "    if (\"my_good_optimization\", \"my_neutral_optimization\") in tuple_list and (\"my_bad_optimization\", \"my_neutral_optimization\") in tuple_list:\n",
    "        return \"Both\"\n",
    "    elif (\"my_good_optimization\", \"my_neutral_optimization\") in tuple_list:\n",
    "        return \"Good Only\"\n",
    "    elif (\"my_bad_optimization\", \"my_neutral_optimization\") in tuple_list:\n",
    "        return \"Bad Only\"\n",
    "    else:\n",
    "        return \"Neither\""
   ]
  },
  {
   "cell_type": "markdown",
   "id": "23f9c8d8-c846-47aa-b3b5-69e4eb1250de",
   "metadata": {
    "jp-MarkdownHeadingCollapsed": true
   },
   "source": [
    "## Single Rule Test"
   ]
  },
  {
   "cell_type": "code",
   "execution_count": null,
   "id": "d28c6c46-8595-4cb3-8d71-a32e61a7d15f",
   "metadata": {},
   "outputs": [],
   "source": [
    "def weird_apply(iteration, df, category):\n",
    "    training_set = df[df[\"Iteration\"] <= iteration]\n",
    "    total_size = training_set.count()\n",
    "    groups = training_set.groupby(\"Rules\")\n",
    "    both_rule = groups.size()[\"Both\"] if \"Both\" in groups.groups else 0\n",
    "    good_rule = groups.size()[\"Good Only\"] + both_rule if \"Good Only\" in groups.groups else 0\n",
    "    bad_rule = groups.size()[\"Bad Only\"] + both_rule if \"Bad Only\" in groups.groups else 0\n",
    "    good_rule = good_rule / total_size\n",
    "    bad_rule = bad_rule / total_size\n",
    "    if category == \"Good Only\":\n",
    "        return good_rule\n",
    "    else:\n",
    "        return bad_rule"
   ]
  },
  {
   "cell_type": "code",
   "execution_count": null,
   "id": "0a077d6d-3c68-4f58-9d2a-824e935c80ff",
   "metadata": {},
   "outputs": [],
   "source": [
    "def build_discrimination_graph(dictionary, table_name, file_name):\n",
    "    fig, axes = plt.subplots(4, 1)\n",
    "    colors = [\"blue\", \"red\", \"purple\"]\n",
    "    # labels = [\"Both\", \"Slow\", \"Fast\"]\n",
    "    \n",
    "    # Scatter plot\n",
    "    \n",
    "    count = 0\n",
    "    handles = []  # Collect handles from all scatter plots\n",
    "    labels = []   # Collect labels from all scatter plots\n",
    "    for program_name, df in dictionary.items():\n",
    "        df_temp = df[[\"Iteration\", \"Rules\", \"Runtime\"]]\n",
    "        df_temp[\"Rules\"] = df_temp[\"Rules\"].apply(ast.literal_eval)\n",
    "        #filtered_df = df_temp[df_temp['Rules'].apply(has_required_tuples)]\n",
    "        filtered_df = df_temp.copy()\n",
    "        filtered_df[\"Rules\"] = filtered_df[\"Rules\"].apply(which_tuple)\n",
    "    \n",
    "        filtered_df[\"PercentGood\"] = filtered_df[\"Iteration\"].apply(weird_apply, df=filtered_df, category=\"Good Only\")[\"Iteration\"]\n",
    "        filtered_df[\"PercentBad\"] = filtered_df[\"Iteration\"].apply(weird_apply, df=filtered_df, category=\"Bad Only\")[\"Iteration\"]\n",
    "        \n",
    "        count_2 = 0\n",
    "        filtered_df = filtered_df.sort_values(\"Rules\", ascending=True)\n",
    "        scatter = sns.lineplot(x=filtered_df[\"Iteration\"], y=filtered_df[\"PercentGood\"], color=sns.color_palette(\"husl\")[count % 4], sizes=(0, 10), label=program_name, ax=axes[count], legend=False)\n",
    "        scatter = sns.lineplot(x=filtered_df[\"Iteration\"], y=filtered_df[\"PercentBad\"], linestyle='--', color=sns.color_palette(\"husl\")[count % 4], sizes=(0, 10), label=program_name, ax=axes[count], legend=False)\n",
    "        handles.append(scatter.collections[0])  # Append handle for legend\n",
    "        labels.append(program_name)  # Append label for legend\n",
    "        count_2 += 1\n",
    "        \n",
    "        axes[count].set_title(None)\n",
    "        axes[count].set_xlabel(None)\n",
    "        axes[count].set_ylabel(None)\n",
    "        axes[count].set_yticks([i/4 for i in range(5)])\n",
    "        \n",
    "        count += 1\n",
    "    \n",
    "    # Add labels and title\n",
    "\n",
    "    fig.supxlabel('Iteration')\n",
    "    fig.supylabel('% of Total Population')\n",
    "    fig.suptitle(table_name)\n",
    "    \n",
    "    # Show the legend\n",
    "    # handles, labels = axes[0].get_legend_handles_labels()\n",
    "    fig.legend(handles, labels, loc='upper left', bbox_to_anchor=(0.42, 0.01))\n",
    "    \n",
    "    legend_elements = [\n",
    "        Line2D([0], [0], linestyle='-', color='k', label='Included Fast Rule'),\n",
    "        Line2D([0], [0], linestyle='--', color='k', label='Included Slow Rule')\n",
    "    ]\n",
    "    \n",
    "    fig.legend(handles=legend_elements, loc='upper left', bbox_to_anchor=(0.62, 0.01))\n",
    "    # plt.legend(title=\"Y-Values\", labels=[\"Value 0\", \"Value 1\", \"Value 2\"])\n",
    "    \n",
    "    # Show the plot\n",
    "    fig.tight_layout()\n",
    "    plt.savefig(file_name, bbox_inches='tight')\n",
    "    plt.show()\n"
   ]
  },
  {
   "cell_type": "markdown",
   "id": "b8c9cc7d-6e88-43ed-b05c-81f06f835bc8",
   "metadata": {},
   "source": [
    "### 10%"
   ]
  },
  {
   "cell_type": "code",
   "execution_count": null,
   "id": "3930d727-87a1-4415-823f-a0a061815f96",
   "metadata": {},
   "outputs": [],
   "source": [
    "build_discrimination_graph(correctness_tables, \"Special Rule Inclusion (10%)\", 'Distribution_Scatter_Line.png')"
   ]
  },
  {
   "cell_type": "markdown",
   "id": "df8908d8-040f-44e9-9e1e-86efcdfad11d",
   "metadata": {},
   "source": [
    "### 5%"
   ]
  },
  {
   "cell_type": "code",
   "execution_count": null,
   "id": "d55b6b1b-4675-40aa-a525-24027d10d848",
   "metadata": {},
   "outputs": [],
   "source": [
    "build_discrimination_graph(correctness_tables_5p, \"Special Rule Inclusion (5%)\", 'Distribution_Scatter_Line_5p.png')"
   ]
  },
  {
   "cell_type": "markdown",
   "id": "f8444308-bd25-4a12-b3d5-53cdb115ab6c",
   "metadata": {},
   "source": [
    "### 1%"
   ]
  },
  {
   "cell_type": "code",
   "execution_count": null,
   "id": "4e15d01c-e980-4d8a-b217-af7a9fb8b9a5",
   "metadata": {},
   "outputs": [],
   "source": [
    "build_discrimination_graph(correctness_tables_1p, \"Special Rule Inclusion (1%)\", 'Distribution_Scatter_Line_1p.png')"
   ]
  },
  {
   "cell_type": "markdown",
   "id": "c0e6a24f-e6a7-4fbe-a384-5ed5e42d9cef",
   "metadata": {
    "jp-MarkdownHeadingCollapsed": true
   },
   "source": [
    "### 0.5%"
   ]
  },
  {
   "cell_type": "code",
   "execution_count": null,
   "id": "d584a0f0-a9e9-41fc-9526-f5fefd382902",
   "metadata": {},
   "outputs": [],
   "source": [
    "build_discrimination_graph(correctness_tables_005p, \"Special Rule Inclusion (0.5%)\", 'Distribution_Scatter_Line_005p.png')"
   ]
  },
  {
   "cell_type": "markdown",
   "id": "ea49021a-0008-4b93-9dcd-af1bbbc89267",
   "metadata": {
    "jp-MarkdownHeadingCollapsed": true
   },
   "source": [
    "### Discrimination after First Impactfulness Change (Inline with paper equation)"
   ]
  },
  {
   "cell_type": "code",
   "execution_count": null,
   "id": "b5e50ff0-323d-48c7-809a-d20ad0790571",
   "metadata": {},
   "outputs": [],
   "source": [
    "build_discrimination_graph(impactful_10p, \"Special Rule Inclusion (10%) w/out Slow Rule Impact\", 'Distribution_Line_Impact_10p.png')"
   ]
  },
  {
   "cell_type": "markdown",
   "id": "e6a724d2-0784-4b47-92e6-8f1824213fd1",
   "metadata": {},
   "source": [
    "## Multi-Rule Test"
   ]
  },
  {
   "cell_type": "markdown",
   "id": "47e36925-aea6-4076-ade7-549e2879cbc8",
   "metadata": {
    "jp-MarkdownHeadingCollapsed": true
   },
   "source": [
    "### Function Set-Up"
   ]
  },
  {
   "cell_type": "code",
   "execution_count": null,
   "id": "7bad1b16-5e1b-4e36-b29c-b89f604721b2",
   "metadata": {},
   "outputs": [],
   "source": [
    "def has_required_tuples_multi(tuple_list):\n",
    "    for tup in  [(\"my_good_optimization\", \"my_neutral_optimization\"), (\"my_good_optimization_2\", \"my_neutral_optimization\"), (\"my_good_optimization_3\", \"my_neutral_optimization\"), (\"my_good_optimization_4\", \"my_neutral_optimization\"), (\"my_good_optimization_5\", \"my_neutral_optimization\"), (\"my_good_optimization_6\", \"my_neutral_optimization\")]:\n",
    "        if tup in tuple_list:\n",
    "            return True\n",
    "    return False\n",
    "\n",
    "def which_tuple_multi(tuple_list):\n",
    "    intersection_list = list(set(tuple_list).intersection(set([(\"my_good_optimization\", \"my_neutral_optimization\"), (\"my_good_optimization_2\", \"my_neutral_optimization\"), (\"my_good_optimization_3\", \"my_neutral_optimization\"), (\"my_good_optimization_4\", \"my_neutral_optimization\"), (\"my_good_optimization_5\", \"my_neutral_optimization\"), (\"my_good_optimization_6\", \"my_neutral_optimization\")])))\n",
    "    return len(intersection_list)"
   ]
  },
  {
   "cell_type": "code",
   "execution_count": null,
   "id": "519ebef2-e1a2-4b9a-bf5b-0d42757049dc",
   "metadata": {},
   "outputs": [],
   "source": [
    "# Builds Cummulative Test for Rules (NOT IMPACT LIST)\n",
    "def build_cummulative_rule_graph(dictionary, graph_title, file_name):\n",
    "    fig, axes = plt.subplots(4, 1)\n",
    "    colors = [\"blue\", \"red\", \"purple\"]\n",
    "    # labels = [\"Both\", \"Slow\", \"Fast\"]\n",
    "    \n",
    "    # Scatter plot\n",
    "    \n",
    "    count = 0\n",
    "    handles = []  # Collect handles from all scatter plots\n",
    "    labels = []   # Collect labels from all scatter plots\n",
    "    for program_name, df in dictionary.items():\n",
    "        df_temp = df[[\"Iteration\", \"Rules\", \"Runtime\"]]\n",
    "        df_temp[\"Rules\"] = df_temp[\"Rules\"].apply(ast.literal_eval)\n",
    "        filtered_df = df_temp.copy()\n",
    "        filtered_df[\"Rules\"] = filtered_df[\"Rules\"].apply(which_tuple_multi)\n",
    "        filtered_df[\"Rules\"] = filtered_df[\"Rules\"]/6\n",
    "        filtered_df[\"PercentCollected\"] = filtered_df[\"Rules\"]\n",
    "        \n",
    "        count_2 = 0\n",
    "        filtered_df = filtered_df.sort_values(\"Rules\", ascending=True)\n",
    "        scatter = sns.lineplot(x=filtered_df[\"Iteration\"], y=filtered_df[\"PercentCollected\"], color=sns.color_palette(\"husl\")[count % 4], sizes=(0, 10), label=program_name, ax=axes[count], legend=False)\n",
    "        handles.append(scatter.collections[0])  # Append handle for legend\n",
    "        labels.append(program_name)  # Append label for legend\n",
    "        count_2 += 1\n",
    "            \n",
    "        # Set custom y-axis labels\n",
    "        \n",
    "        axes[count].set_title(None)\n",
    "        axes[count].set_xlabel(None)\n",
    "        axes[count].set_ylabel(None)\n",
    "        ticks = [i/6 for i in range(7)]\n",
    "        tick_labels = [f'{i}/6' for i in range(7)]\n",
    "        \n",
    "        axes[count].set_yticks(ticks)\n",
    "        axes[count].set_yticklabels(tick_labels)\n",
    "        \n",
    "        count += 1\n",
    "    \n",
    "    # Add labels and title\n",
    "    fig.supxlabel('Iteration')\n",
    "    fig.supylabel('Number of Rules Collected in Candidate')\n",
    "    fig.suptitle(graph_title)\n",
    "    \n",
    "    # Show the legend\n",
    "    # handles, labels = axes[0].get_legend_handles_labels()\n",
    "    fig.legend(handles, labels, loc='upper left', bbox_to_anchor=(0.42, 0.01))\n",
    "    \n",
    "    \n",
    "    # Show the plot\n",
    "    fig.tight_layout()\n",
    "    plt.savefig(file_name, bbox_inches='tight')\n",
    "    plt.show()"
   ]
  },
  {
   "cell_type": "code",
   "execution_count": null,
   "id": "a82c7cec-fc17-4ddc-a09d-f707b3c324af",
   "metadata": {},
   "outputs": [],
   "source": [
    "# Builds Cummulative Test for Impact List (NOT RULE LIST)\n",
    "def build_cummulative_impact_graph(dictionary, graph_title, file_name):\n",
    "    fig, axes = plt.subplots(4, 1)\n",
    "    colors = [\"blue\", \"red\", \"purple\"]\n",
    "    # labels = [\"Both\", \"Slow\", \"Fast\"]\n",
    "    \n",
    "    # Scatter plot\n",
    "    \n",
    "    count = 0\n",
    "    handles = []  # Collect handles from all scatter plots\n",
    "    labels = []   # Collect labels from all scatter plots\n",
    "    for program_name, df in dictionary.items():\n",
    "        df_temp = df[[\"Iteration\", \"Rules\", \"Impactful Rules\", \"Runtime\"]].dropna()\n",
    "        df_temp[\"Rules\"] = df_temp[\"Rules\"].apply(ast.literal_eval)\n",
    "        df_temp[\"Impactful Rules\"] = df_temp[\"Impactful Rules\"].apply(ast.literal_eval)\n",
    "        \n",
    "        filtered_df = df_temp.copy()\n",
    "        filtered_df = df_temp.copy()\n",
    "        filtered_df[\"Impactful Rules\"] = filtered_df[\"Impactful Rules\"].apply(which_tuple_multi)\n",
    "        filtered_df[\"Impactful Rules\"] = filtered_df[\"Impactful Rules\"]/6\n",
    "        filtered_df[\"PercentCollected\"] = filtered_df[\"Impactful Rules\"]\n",
    "        \n",
    "        count_2 = 0\n",
    "        filtered_df = filtered_df.sort_values(\"Rules\", ascending=True)\n",
    "        scatter = sns.lineplot(x=filtered_df[\"Iteration\"], y=filtered_df[\"PercentCollected\"], color=sns.color_palette(\"husl\")[count % 4], sizes=(0, 10), label=program_name, ax=axes[count], legend=False)\n",
    "        handles.append(scatter.collections[0])  # Append handle for legend\n",
    "        labels.append(program_name)  # Append label for legend\n",
    "        count_2 += 1\n",
    "            \n",
    "        # Set custom y-axis labels\n",
    "        axes[count].set_title(None)\n",
    "        axes[count].set_xlabel(None)\n",
    "        axes[count].set_ylabel(None)\n",
    "        ticks = [i/6 for i in range(7)]\n",
    "        tick_labels = [f'{i}/6' for i in range(7)]\n",
    "        \n",
    "        axes[count].set_yticks(ticks)\n",
    "        axes[count].set_yticklabels(tick_labels)\n",
    "        \n",
    "        # Adjust y-axis limits to prevent clipping of markers\n",
    "        count += 1\n",
    "    \n",
    "    # Add labels and title\n",
    "    fig.supxlabel('Iteration')\n",
    "    fig.supylabel('Number of Rules Collected in Candidate')\n",
    "    fig.suptitle(graph_title)\n",
    "    \n",
    "    # Show the legend\n",
    "    fig.legend(handles, labels, loc='upper left', bbox_to_anchor=(0.42, 0.01))\n",
    "    \n",
    "    # Show the plot\n",
    "    fig.tight_layout()\n",
    "    plt.savefig(file_name, bbox_inches='tight')\n",
    "    plt.show()"
   ]
  },
  {
   "cell_type": "code",
   "execution_count": null,
   "id": "207c7bdd-9757-4adc-9725-8e195ffce7cd",
   "metadata": {},
   "outputs": [],
   "source": [
    "def build_cummulative_graph_reg(dictionary, graph_title, file_name):\n",
    "    fig, axes = plt.subplots(4, 1)\n",
    "    colors = [\"blue\", \"red\", \"purple\"]\n",
    "    \n",
    "    count = 0\n",
    "    handles = []  # Collect handles from all scatter plots\n",
    "    labels = []   # Collect labels from all scatter plots\n",
    "    for program_name, df in dictionary.items():\n",
    "        df_temp = df[[\"Iteration\", \"Rules\", \"Impactful Rules\", \"Runtime\"]].dropna()\n",
    "        df_temp[\"Rules\"] = df_temp[\"Rules\"].apply(ast.literal_eval)\n",
    "        \n",
    "        filtered_df = df_temp.copy()\n",
    "        filtered_df = df_temp.copy()\n",
    "        filtered_df[\"Rules\"] = filtered_df[\"Rules\"].apply(which_tuple_multi)\n",
    "        filtered_df[\"Rules\"] = filtered_df[\"Rules\"]/6\n",
    "        filtered_df[\"PercentCollected\"] = filtered_df[\"Rules\"]\n",
    "        \n",
    "        count_2 = 0\n",
    "        filtered_df = filtered_df.sort_values(\"Rules\", ascending=True)\n",
    "        scatter = sns.regplot(x=filtered_df[\"Iteration\"], y=filtered_df[\"PercentCollected\"], color=sns.color_palette(\"husl\")[count % 4], label=program_name, ax=axes[count])\n",
    "        handles.append(scatter.collections[0])  # Append handle for legend\n",
    "        labels.append(program_name)  # Append label for legend\n",
    "        count_2 += 1\n",
    "            \n",
    "        # Set custom y-axis labels\n",
    "        axes[count].set_title(None)\n",
    "        axes[count].set_xlabel(None)\n",
    "        axes[count].set_ylabel(None)\n",
    "        ticks = [i/6 for i in range(7)]\n",
    "        tick_labels = [f'{i}/6' for i in range(7)]\n",
    "        \n",
    "        axes[count].set_yticks(ticks)\n",
    "        axes[count].set_yticklabels(tick_labels)\n",
    "        \n",
    "        count += 1\n",
    "    \n",
    "    # Add labels and title\n",
    "    fig.supxlabel('Iteration')\n",
    "    fig.supylabel('Number of Rules Collected in Candidate')\n",
    "    fig.suptitle(graph_title)\n",
    "    \n",
    "    # Show the legend\n",
    "    fig.legend(handles, labels, loc='upper left', bbox_to_anchor=(0.42, 0.01))\n",
    "    \n",
    "    # Show the plot\n",
    "    fig.tight_layout()\n",
    "    plt.savefig(file_name, bbox_inches='tight')\n",
    "    plt.show()"
   ]
  },
  {
   "cell_type": "markdown",
   "id": "8c81e27d-2476-4f3d-bf3b-149a196813a8",
   "metadata": {
    "jp-MarkdownHeadingCollapsed": true
   },
   "source": [
    "### Multi-Rule apperance in actual rule list"
   ]
  },
  {
   "cell_type": "markdown",
   "id": "a9b36b3c-cc8a-4287-8956-758823b74837",
   "metadata": {
    "jp-MarkdownHeadingCollapsed": true
   },
   "source": [
    "#### (0.5%)"
   ]
  },
  {
   "cell_type": "code",
   "execution_count": null,
   "id": "f27d7a3c-a692-40f7-abca-a0e90af534e2",
   "metadata": {},
   "outputs": [],
   "source": [
    "build_cummulative_rule_graph(correctness_tables_multi, \"Cummulative Rule Collection (0.5%/rule)\", 'Distribution_Scatter_Line_Multi.png')"
   ]
  },
  {
   "cell_type": "markdown",
   "id": "e45355b7-f8b2-4845-91f5-19f477e95d96",
   "metadata": {
    "jp-MarkdownHeadingCollapsed": true
   },
   "source": [
    "#### (1% Each)"
   ]
  },
  {
   "cell_type": "code",
   "execution_count": null,
   "id": "c47e24f6-8237-4929-a4cd-d2f4902936c1",
   "metadata": {},
   "outputs": [],
   "source": [
    "build_cummulative_rule_graph(correctness_tables_multi_1p, \"Cummulative Rule Collection (1%/rule)\", 'Distribution_Scatter_Line_Multi.png')"
   ]
  },
  {
   "cell_type": "markdown",
   "id": "f50b0115-f434-4b3a-a2a1-8982152fede4",
   "metadata": {
    "jp-MarkdownHeadingCollapsed": true
   },
   "source": [
    "### Multi Impact List Rule"
   ]
  },
  {
   "cell_type": "code",
   "execution_count": null,
   "id": "d36fda53-98c5-4ec2-85d5-cf923a3a3e8d",
   "metadata": {
    "scrolled": true
   },
   "outputs": [],
   "source": [
    "build_cummulative_rule_graph(combined_test, \"Cummulative Rule Collection after Impact Change\", 'Random_Looking_Impact_Change.png')"
   ]
  },
  {
   "cell_type": "markdown",
   "id": "5d67d16b-3d8a-408e-951f-66478544e16e",
   "metadata": {},
   "source": [
    "#### Regression Plot"
   ]
  },
  {
   "cell_type": "code",
   "execution_count": null,
   "id": "73118fa0-044c-442b-ab32-942b72a52f33",
   "metadata": {},
   "outputs": [],
   "source": [
    "build_cummulative_graph_reg(combined_test_2, \"Cummulative Rule Collection after Impact Change - Second Test\", 'Multi_Impact_Line.png')"
   ]
  },
  {
   "cell_type": "markdown",
   "id": "e2098313-0a93-4651-9709-522a42d0147b",
   "metadata": {
    "jp-MarkdownHeadingCollapsed": true
   },
   "source": [
    "#### Just Sorting"
   ]
  },
  {
   "cell_type": "code",
   "execution_count": null,
   "id": "a602c9f6-9432-48e3-be03-32bbf0f385a4",
   "metadata": {},
   "outputs": [],
   "source": [
    "fix, ax = plt.subplots()\n",
    "\n",
    "colors = [\"blue\", \"red\", \"purple\"]\n",
    "# labels = [\"Both\", \"Slow\", \"Fast\"]\n",
    "\n",
    "# Scatter plot\n",
    "\n",
    "count = 0\n",
    "handles = []  # Collect handles from all scatter plots\n",
    "labels = []   # Collect labels from all scatter plots\n",
    "df_temp = combined_test_2[\"sorting\"][[\"Iteration\", \"Rules\", \"Impactful Rules\", \"Runtime\"]].copy()\n",
    "df_temp[\"Rules\"] = df_temp[\"Rules\"].apply(ast.literal_eval)\n",
    "# df_temp[\"Rules\"] = df_temp[\"Rules\"].apply(ast.literal_eval)\n",
    "\n",
    "filtered_df = df_temp.copy()\n",
    "filtered_df[\"Rules\"] = filtered_df[\"Rules\"].apply(which_tuple_multi)\n",
    "filtered_df[\"Rules\"] = filtered_df[\"Rules\"]/6\n",
    "\n",
    "# print(filtered_df)\n",
    "# filtered_df[\"PercentCollected\"] = filtered_df[\"Iteration\"].apply(weird_apply_multi, df=filtered_df)[\"Iteration\"]\n",
    "# filtered_df[\"PercentCollected\"] = filtered_df[\"Rules\"]\n",
    "# filtered_df[\"PercentBad\"] = filtered_df[\"Iteration\"].apply(weird_apply, df=filtered_df, category=\"Bad Only\")[\"Iteration\"]\n",
    "\n",
    "count_2 = 0\n",
    "filtered_df = filtered_df.sort_values(\"Rules\", ascending=True)\n",
    "line = sns.regplot(x=filtered_df[\"Iteration\"], y=filtered_df[\"Rules\"])\n",
    "# scatter = sns.lineplot(x=filtered_df[\"Iteration\"], y=filtered_df[\"PercentBad\"], linestyle='--', color=sns.color_palette(\"husl\")[count % 4], sizes=(0, 10), label=program_name, ax=axes[count], legend=False)\n",
    "# handles.append(scatter.collections[0])  # Append handle for legend\n",
    "# labels.append(program_name)  # Append label for legend\n",
    "# count_2 += 1\n",
    "    \n",
    "# Set custom y-axis labels\n",
    "# y_labels = filtered_df[\"Rules\"].unique()\n",
    "# axes[count].set_yticks(range(len(y_labels)))\n",
    "# axes[count].set_yticklabels(y_labels)\n",
    "\n",
    "ax.set_title(\"Inclusion of Arbitrary Speed-Up Rules in Impactful List in Sorting\")\n",
    "ax.set_xlabel(\"Iterations\")\n",
    "ax.set_ylabel(\"Number of Arbitrary Rules Included in Candidate (Out of 6)\")\n",
    "ticks = [i/6 for i in range(7)]\n",
    "tick_labels = [f'{i}/6' for i in range(7)]\n",
    "\n",
    "ax.set_yticks(ticks)\n",
    "ax.set_yticklabels(tick_labels)\n",
    "\n",
    "# count += 1\n",
    "\n",
    "# Add labels and title\n",
    "# plt.xlabel('Iteration')\n",
    "# plt.ylabel('Category')\n",
    "# fig.supxlabel('Iteration')\n",
    "# fig.supylabel('Number of Rules Collected in Candidate')\n",
    "# fig.suptitle(\"Cummulative Rule Collection (1%/rule)\")\n",
    "\n",
    "# Show the legend\n",
    "# handles, labels = axes[0].get_legend_handles_labels()\n",
    "# fig.legend(handles, labels, loc='upper left', bbox_to_anchor=(0.42, 0.01))\n",
    "\n",
    "# legend_elements = [\n",
    "#     Line2D([0], [0], linestyle='-', color='k', label='Included Fast Rule'),\n",
    "#     Line2D([0], [0], linestyle='--', color='k', label='Included Slow Rule')\n",
    "# ]\n",
    "\n",
    "# fig.legend(handles=legend_elements, loc='upper left', bbox_to_anchor=(0.62, 0.01))\n",
    "# plt.legend(title=\"Y-Values\", labels=[\"Value 0\", \"Value 1\", \"Value 2\"])\n",
    "\n",
    "# Show the plot\n",
    "fig.tight_layout()\n",
    "plt.savefig('Sorting_Trend_Line_Impactfulness.png', bbox_inches='tight')\n",
    "plt.show()\n",
    "\n",
    "# which_tuple_multi"
   ]
  },
  {
   "cell_type": "markdown",
   "id": "6c0e5f86-5ac3-40ea-b877-9942cba5e51a",
   "metadata": {},
   "source": [
    "#### Third Test 10%"
   ]
  },
  {
   "cell_type": "markdown",
   "id": "f5bb1d74-1ba3-47b7-bb9e-ad3a2946c49f",
   "metadata": {},
   "source": [
    "##### Line Plot"
   ]
  },
  {
   "cell_type": "code",
   "execution_count": null,
   "id": "7ad795c8-e82e-4cbb-9896-1bc4decf38f4",
   "metadata": {},
   "outputs": [],
   "source": [
    "build_cummulative_rule_graph(impactful_10p, \"Cummulative Rule Collection after Impact Change (10%)\", 'Impact_Change_Line_10p.png')"
   ]
  },
  {
   "cell_type": "markdown",
   "id": "fdc0398b-4a2d-4d4c-950f-1942a84d3223",
   "metadata": {},
   "source": [
    "#### Regression Plot"
   ]
  },
  {
   "cell_type": "code",
   "execution_count": null,
   "id": "32f8450b-4e5f-4116-a854-76cfb8be70f7",
   "metadata": {},
   "outputs": [],
   "source": [
    "build_cummulative_graph_reg(impactful_10p, \"Cummulative Rule Collection after Impact Change (10%)\",  'Impact_Change_Reg_10p.png')"
   ]
  },
  {
   "cell_type": "markdown",
   "id": "20c0e58f-aacb-4424-a48a-34633b1c047e",
   "metadata": {},
   "source": [
    "#### Fourth Test - Removed Gini List Sort"
   ]
  },
  {
   "cell_type": "code",
   "execution_count": null,
   "id": "ef2a5494-bdad-44d0-a3d6-69d4c3d6f464",
   "metadata": {},
   "outputs": [],
   "source": [
    "build_cummulative_rule_graph(gini_tables, \"Cummulative Rule Collection after Gini List Change (10%)\",  'Gini_Change_Line.png')"
   ]
  },
  {
   "cell_type": "markdown",
   "id": "b37416b1-81b6-43d6-929f-9b1de1e6e3ee",
   "metadata": {},
   "source": [
    "#### Regression Plot"
   ]
  },
  {
   "cell_type": "code",
   "execution_count": null,
   "id": "7b8a3425-e994-49ce-9b17-8df9ecc12515",
   "metadata": {},
   "outputs": [],
   "source": [
    "build_cummulative_graph_reg(gini_tables, \"Cummulative Rule Collection after Gini List Change (10%) - Regression Plot\",  'Gini_Change_Reg.png')"
   ]
  },
  {
   "cell_type": "markdown",
   "id": "274ddbbb-d30b-4e7b-90e7-f1edf62ccb44",
   "metadata": {},
   "source": [
    "#### Impactful Rules List"
   ]
  },
  {
   "cell_type": "code",
   "execution_count": null,
   "id": "fdabd211-82db-4571-95e5-25d443e08ee9",
   "metadata": {},
   "outputs": [],
   "source": [
    "build_cummulative_impact_graph(gini_tables, \"Cummulative Rule Collection in Impactful List after Gini List Change (10%)\", 'Gini_Impact_List_Change_Line.png')"
   ]
  },
  {
   "cell_type": "markdown",
   "id": "e2437fdf-09b7-40ba-af9a-e82aeeda0138",
   "metadata": {},
   "source": [
    "#### Discrimination Plot w/out Slow Rule"
   ]
  },
  {
   "cell_type": "code",
   "execution_count": null,
   "id": "f36b8e81-f39b-4b78-9059-ba059df50c8c",
   "metadata": {},
   "outputs": [],
   "source": [
    "build_discrimination_graph(gini_tables, \"Special Rule Inclusion (10%) w/out Slow Rule after Gini Change\", 'Distribution_Line_Gini_Change.png')"
   ]
  },
  {
   "cell_type": "markdown",
   "id": "d920e2da-fdef-45be-90e6-dc68f48653f2",
   "metadata": {
    "jp-MarkdownHeadingCollapsed": true
   },
   "source": [
    "## Alternative Impact Calculation using RandomForest Estimators"
   ]
  },
  {
   "cell_type": "markdown",
   "id": "ccd8ffd3-0e7a-4a09-85ed-844dbb361e14",
   "metadata": {},
   "source": [
    "### Cummulative Stuff"
   ]
  },
  {
   "cell_type": "markdown",
   "id": "649afa6c-711e-4fb0-bf28-0c79a9a6a737",
   "metadata": {},
   "source": [
    "#### Line Plot"
   ]
  },
  {
   "cell_type": "code",
   "execution_count": null,
   "id": "bf1193fd-3821-4504-b884-f131223674f0",
   "metadata": {},
   "outputs": [],
   "source": [
    "build_cummulative_rule_graph(rf_tables, \"Cummulative Rule Collection using Random Forest Estimators (10%)\",  'Alt_rf_Calc_Line.png')"
   ]
  },
  {
   "cell_type": "markdown",
   "id": "cf9916fb-09f7-4106-8e96-38630ebf75ca",
   "metadata": {},
   "source": [
    "#### Reg Plot"
   ]
  },
  {
   "cell_type": "code",
   "execution_count": null,
   "id": "46e37e01-fed1-473a-8efd-4407611db267",
   "metadata": {},
   "outputs": [],
   "source": [
    "build_cummulative_graph_reg(rf_tables, \"Cummulative Rule Collection using Random Forest Estimators (10%) - Regression Plot\",  'Alt_rf_Calc_Reg.png')"
   ]
  },
  {
   "cell_type": "markdown",
   "id": "f0af0335-c27a-49db-ad9b-c89d745259fb",
   "metadata": {},
   "source": [
    "### Inclusion in Impact List"
   ]
  },
  {
   "cell_type": "code",
   "execution_count": null,
   "id": "0b4f0116-7fab-424e-a261-9538a05a7324",
   "metadata": {},
   "outputs": [],
   "source": [
    "build_cummulative_impact_graph(rf_tables, \"Cummulative Rule Collection in Impactful List using Random Forest Estimators (10%)\", 'rf_List_Change_Line.png')"
   ]
  },
  {
   "cell_type": "markdown",
   "id": "d82b70c4-4b38-49ea-87f2-1845348cf1b9",
   "metadata": {},
   "source": [
    "### Discrimination Stuff"
   ]
  },
  {
   "cell_type": "code",
   "execution_count": null,
   "id": "5f0860eb-22da-4643-8c99-338f27398ed9",
   "metadata": {},
   "outputs": [],
   "source": [
    "build_discrimination_graph(rf_tables, \"Special Rule Inclusion (10%) w/out Slow Rule after Random Forest\", 'Distribution_Line_rf_Change.png')"
   ]
  },
  {
   "cell_type": "markdown",
   "id": "998cd450-d60e-4b20-a906-2ed6d8a2cfb5",
   "metadata": {
    "jp-MarkdownHeadingCollapsed": true
   },
   "source": [
    "## Single Threaded Impact Calculation using Decision Trees"
   ]
  },
  {
   "cell_type": "markdown",
   "id": "4d947ef8-66ab-42db-8eaa-f8ee0e6f4588",
   "metadata": {},
   "source": [
    "### Cummulative Stuff"
   ]
  },
  {
   "cell_type": "markdown",
   "id": "ab035ccd-50d9-4f60-b6ab-a5deffc40a09",
   "metadata": {},
   "source": [
    "#### Line Plot"
   ]
  },
  {
   "cell_type": "code",
   "execution_count": null,
   "id": "6ba37d02-f0f2-4321-b2b8-5ad78b16f8b0",
   "metadata": {},
   "outputs": [],
   "source": [
    "build_cummulative_rule_graph(single_thread_calc, \"Cummulative Rule Collection using Decision Tree Estimators Single-Threaded\",  'DT_Calc_ST_Line.png')"
   ]
  },
  {
   "cell_type": "markdown",
   "id": "abfd51cf-215b-48eb-9ff1-4a59b2ee5707",
   "metadata": {},
   "source": [
    "#### Reg Plot"
   ]
  },
  {
   "cell_type": "code",
   "execution_count": null,
   "id": "0449c519-7a97-4db2-97c6-72390320476a",
   "metadata": {},
   "outputs": [],
   "source": [
    "build_cummulative_graph_reg(single_thread_calc, \"Cummulative Rule Collection using Decision Tree Estimators (10%) - Single Threaded - Regression Plot\",  'DT_Calc_ST_Reg.png')"
   ]
  },
  {
   "cell_type": "markdown",
   "id": "dd555e19-0217-479b-b27c-c02719e31842",
   "metadata": {},
   "source": [
    "### Impact List Stuff"
   ]
  },
  {
   "cell_type": "code",
   "execution_count": null,
   "id": "fda446db-d89a-41f8-95a4-ad8163821c9f",
   "metadata": {},
   "outputs": [],
   "source": [
    "build_cummulative_impact_graph(single_thread_calc, \"Cummulative Rule Collection in Impactful List using Decision Tree Estimators - Single Threaded - (10%)\", 'DT_ST_Impact_Line.png')"
   ]
  },
  {
   "cell_type": "markdown",
   "id": "05ae7dfc-3844-4ff3-8cd8-8c7087b1c76a",
   "metadata": {},
   "source": [
    "### Discrimination Stuff"
   ]
  },
  {
   "cell_type": "code",
   "execution_count": null,
   "id": "7c98722d-d9d0-4e82-8d27-b74c3298beae",
   "metadata": {},
   "outputs": [],
   "source": [
    "build_discrimination_graph(single_thread_calc, \"Special Rule Inclusion (10%) w/out Slow Rule after Decision Tree Estimators\", 'Distribution_Line_DT_ST_Change.png')"
   ]
  },
  {
   "cell_type": "markdown",
   "id": "8bcc0144-1f78-4e75-b58f-932da764cafd",
   "metadata": {
    "jp-MarkdownHeadingCollapsed": true
   },
   "source": [
    "## Post-Bugfix Analysis"
   ]
  },
  {
   "cell_type": "markdown",
   "id": "2c0204b9-ce35-4659-8cb2-bd8446385364",
   "metadata": {},
   "source": [
    "### Cummulation in Rule List"
   ]
  },
  {
   "cell_type": "markdown",
   "id": "453f28f3-4b92-42e9-9b01-85b34d0c9c7b",
   "metadata": {},
   "source": [
    "#### Line Plot"
   ]
  },
  {
   "cell_type": "code",
   "execution_count": null,
   "id": "3c736a98-9b2d-4f9b-88d5-de29e980d538",
   "metadata": {},
   "outputs": [],
   "source": [
    "build_cummulative_rule_graph(tables_post_bugfix, \"Cummulative Rule Collection after BugFix w/ Various %-Thresholds for Rules 1-6\",  'Post_Bugfix_Cummulative.png')"
   ]
  },
  {
   "cell_type": "markdown",
   "id": "48f5d729-ee89-4dce-9fe0-89e2412e23c9",
   "metadata": {},
   "source": [
    "#### Reg Plot"
   ]
  },
  {
   "cell_type": "code",
   "execution_count": null,
   "id": "34e08d4e-c3e5-43db-961c-d21a1716903d",
   "metadata": {},
   "outputs": [],
   "source": [
    "build_cummulative_graph_reg(tables_post_bugfix, \"Cummulative Rule Collection after BugFix w/ Various %-Thresholds for Rules 1-6 - Regression Plot\",  'Post_Bugfix_Cummulative_Reg.png')"
   ]
  },
  {
   "cell_type": "markdown",
   "id": "4aa159c2-b80e-4545-873d-6b848446f751",
   "metadata": {},
   "source": [
    "### Prevelance in Impact List"
   ]
  },
  {
   "cell_type": "code",
   "execution_count": null,
   "id": "bc39016e-3151-477f-bfd9-30649665edca",
   "metadata": {},
   "outputs": [],
   "source": [
    "build_cummulative_impact_graph(tables_post_bugfix, \"Collection of Rules in Impact List after BugFix w/ Various %-Thresholds for Rules 1-6\", 'Post_Bugfix_Impact_Line.png')"
   ]
  },
  {
   "cell_type": "markdown",
   "id": "47781b02-ea1e-4bd8-9bb0-08dc7b9839d7",
   "metadata": {},
   "source": [
    "### Discrimination Still Works?"
   ]
  },
  {
   "cell_type": "code",
   "execution_count": null,
   "id": "31a0184b-72f7-4733-b88f-d39cde19d70e",
   "metadata": {},
   "outputs": [],
   "source": [
    "build_discrimination_graph(tables_post_bugfix, \"Special Rule Inclusion (75%) w/out Slow Rule after BugFix\", 'Discrimination_Line_Post_Bugfix.png')"
   ]
  },
  {
   "cell_type": "markdown",
   "id": "87b2e4c1-81bf-4515-aafe-d25a6508257f",
   "metadata": {
    "jp-MarkdownHeadingCollapsed": true
   },
   "source": [
    "## Multi-Rule Impact Test on Sorting"
   ]
  },
  {
   "cell_type": "markdown",
   "id": "e5a3c6e7-46bf-423a-b5be-4a3e3558aaeb",
   "metadata": {
    "jp-MarkdownHeadingCollapsed": true
   },
   "source": [
    "### Classic"
   ]
  },
  {
   "cell_type": "code",
   "execution_count": null,
   "id": "bc96bda0-6a2c-474f-b08e-e8ad382b430e",
   "metadata": {},
   "outputs": [],
   "source": [
    "sorting_impact = pd.read_csv(f\"{dir_path}/sorting-PHASEORDER-BOCA-SORTING_IMPACT_TEST-0.csv\", index_col=[0])\n",
    "sorting_impact = sorting_impact.dropna()"
   ]
  },
  {
   "cell_type": "code",
   "execution_count": null,
   "id": "1543ae9c-6ccb-45f6-bdfb-9bd1be566ba3",
   "metadata": {},
   "outputs": [],
   "source": [
    "fix, ax = plt.subplots()\n",
    "\n",
    "colors = [\"blue\", \"red\", \"purple\"]\n",
    "# labels = [\"Both\", \"Slow\", \"Fast\"]\n",
    "\n",
    "# Scatter plot\n",
    "\n",
    "count = 0\n",
    "handles = []  # Collect handles from all scatter plots\n",
    "labels = []   # Collect labels from all scatter plots\n",
    "df_temp = sorting_impact[[\"Iteration\", \"Rules\", \"Impactful Rules\", \"Runtime\"]]\n",
    "df_temp[\"Rules\"] = df_temp[\"Rules\"].apply(ast.literal_eval)\n",
    "df_temp[\"Impactful Rules\"] = df_temp[\"Impactful Rules\"].apply(ast.literal_eval)\n",
    "\n",
    "filtered_df = df_temp.copy()\n",
    "filtered_df[\"Impactful Rules\"] = filtered_df[\"Impactful Rules\"].apply(which_tuple_multi)\n",
    "print(filtered_df.head())\n",
    "# print(filtered_df)\n",
    "# filtered_df[\"PercentCollected\"] = filtered_df[\"Iteration\"].apply(weird_apply_multi, df=filtered_df)[\"Iteration\"]\n",
    "# filtered_df[\"PercentCollected\"] = filtered_df[\"Rules\"]\n",
    "# filtered_df[\"PercentBad\"] = filtered_df[\"Iteration\"].apply(weird_apply, df=filtered_df, category=\"Bad Only\")[\"Iteration\"]\n",
    "\n",
    "count_2 = 0\n",
    "filtered_df = filtered_df.sort_values(\"Rules\", ascending=True)\n",
    "line = sns.lineplot(x=filtered_df[\"Iteration\"], y=filtered_df[\"Impactful Rules\"], sizes=(0, 10))\n",
    "# scatter = sns.lineplot(x=filtered_df[\"Iteration\"], y=filtered_df[\"PercentBad\"], linestyle='--', color=sns.color_palette(\"husl\")[count % 4], sizes=(0, 10), label=program_name, ax=axes[count], legend=False)\n",
    "# handles.append(scatter.collections[0])  # Append handle for legend\n",
    "# labels.append(program_name)  # Append label for legend\n",
    "# count_2 += 1\n",
    "    \n",
    "# Set custom y-axis labels\n",
    "# y_labels = filtered_df[\"Rules\"].unique()\n",
    "# axes[count].set_yticks(range(len(y_labels)))\n",
    "# axes[count].set_yticklabels(y_labels)\n",
    "\n",
    "ax.set_title(\"Inclusion of Arbitrary Speed-Up Rules in Impactful List in BOCPA\")\n",
    "ax.set_xlabel(\"Iterations\")\n",
    "ax.set_ylabel(\"Number of Arbitrary Rules in Impactful List (Out of 6)\")\n",
    "ticks = [i/6 for i in range(7)]\n",
    "tick_labels = [f'{i}/6' for i in range(7)]\n",
    "\n",
    "ax.set_yticks(ticks)\n",
    "ax.set_yticklabels(tick_labels)\n",
    "\n",
    "# count += 1\n",
    "\n",
    "# Add labels and title\n",
    "# plt.xlabel('Iteration')\n",
    "# plt.ylabel('Category')\n",
    "# fig.supxlabel('Iteration')\n",
    "# fig.supylabel('Number of Rules Collected in Candidate')\n",
    "# fig.suptitle(\"Cummulative Rule Collection (1%/rule)\")\n",
    "\n",
    "# Show the legend\n",
    "# handles, labels = axes[0].get_legend_handles_labels()\n",
    "# fig.legend(handles, labels, loc='upper left', bbox_to_anchor=(0.42, 0.01))\n",
    "\n",
    "# legend_elements = [\n",
    "#     Line2D([0], [0], linestyle='-', color='k', label='Included Fast Rule'),\n",
    "#     Line2D([0], [0], linestyle='--', color='k', label='Included Slow Rule')\n",
    "# ]\n",
    "\n",
    "# fig.legend(handles=legend_elements, loc='upper left', bbox_to_anchor=(0.62, 0.01))\n",
    "# plt.legend(title=\"Y-Values\", labels=[\"Value 0\", \"Value 1\", \"Value 2\"])\n",
    "\n",
    "# Show the plot\n",
    "fig.tight_layout()\n",
    "plt.savefig('Sorting_Multi_Impactful_List_Test_Plot.png', bbox_inches='tight')\n",
    "plt.show()\n",
    "\n",
    "# which_tuple_multi"
   ]
  },
  {
   "cell_type": "markdown",
   "id": "6cece0b6-e304-4a81-9bde-9233bc0f87a9",
   "metadata": {
    "jp-MarkdownHeadingCollapsed": true
   },
   "source": [
    "### Small Intial Set"
   ]
  },
  {
   "cell_type": "code",
   "execution_count": null,
   "id": "01f89cae-8fee-4726-b88e-4b533d0c5fec",
   "metadata": {},
   "outputs": [],
   "source": [
    "sorting_impact = pd.read_csv(f\"{dir_path}/sorting-PHASEORDER-BOCA-SORTING_IMPACT_TEST_SMALL_INITIAL-0.csv\", index_col=[0])\n",
    "sorting_impact = sorting_impact.dropna()"
   ]
  },
  {
   "cell_type": "code",
   "execution_count": null,
   "id": "d04ba209-3d0d-4619-a432-89aedde4877e",
   "metadata": {},
   "outputs": [],
   "source": [
    "fix, ax = plt.subplots()\n",
    "\n",
    "colors = [\"blue\", \"red\", \"purple\"]\n",
    "# labels = [\"Both\", \"Slow\", \"Fast\"]\n",
    "\n",
    "# Scatter plot\n",
    "\n",
    "count = 0\n",
    "handles = []  # Collect handles from all scatter plots\n",
    "labels = []   # Collect labels from all scatter plots\n",
    "df_temp = sorting_impact[[\"Iteration\", \"Rules\", \"Impactful Rules\", \"Runtime\"]]\n",
    "df_temp[\"Rules\"] = df_temp[\"Rules\"].apply(ast.literal_eval)\n",
    "df_temp[\"Impactful Rules\"] = df_temp[\"Impactful Rules\"].apply(ast.literal_eval)\n",
    "\n",
    "filtered_df = df_temp.copy()\n",
    "filtered_df[\"Impactful Rules\"] = filtered_df[\"Impactful Rules\"].apply(which_tuple_multi)\n",
    "print(filtered_df.head())\n",
    "\n",
    "\n",
    "count_2 = 0\n",
    "filtered_df = filtered_df.sort_values(\"Rules\", ascending=True)\n",
    "line = sns.lineplot(x=filtered_df[\"Iteration\"], y=filtered_df[\"Impactful Rules\"], sizes=(0, 10))\n",
    "# Set custom y-axis labels\n",
    "ax.set_title(\"Inclusion of Arbitrary Speed-Up Rules in Impactful List in BOCPA w/ Small Intitial Set\")\n",
    "ax.set_xlabel(\"Iterations\")\n",
    "ax.set_ylabel(\"Number of Arbitrary Rules in Impactful List (Out of 6)\")\n",
    "ticks = [i/6 for i in range(7)]\n",
    "tick_labels = [f'{i}/6' for i in range(7)]\n",
    "\n",
    "ax.set_yticks(ticks)\n",
    "ax.set_yticklabels(tick_labels)\n",
    "\n",
    "# count += 1\n",
    "\n",
    "# Show the plot\n",
    "fig.tight_layout()\n",
    "plt.savefig('Sorting_Small_Init_Multi_Impactful_List_Test_Plot.png', bbox_inches='tight')\n",
    "plt.show()\n",
    "\n",
    "# which_tuple_multi"
   ]
  },
  {
   "cell_type": "markdown",
   "id": "b92e7c3f-d3b8-4da4-b126-fe156d39ad67",
   "metadata": {
    "jp-MarkdownHeadingCollapsed": true
   },
   "source": [
    "### Removed Default Rules (Small Test)"
   ]
  },
  {
   "cell_type": "code",
   "execution_count": null,
   "id": "94726ce0-4a48-45a5-a1bd-f24748f57a59",
   "metadata": {},
   "outputs": [],
   "source": [
    "sorting_impact = pd.read_csv(f\"{dir_path}/sorting-PHASEORDER-BOCA-SORTING_IMPACT_TEST_REMOVED_DEFAULT-0.csv\", index_col=[0])\n",
    "sorting_impact = sorting_impact.dropna()"
   ]
  },
  {
   "cell_type": "code",
   "execution_count": null,
   "id": "345a04f8-c0bb-4301-a903-d872f3f79f18",
   "metadata": {},
   "outputs": [],
   "source": [
    "fix, ax = plt.subplots()\n",
    "\n",
    "colors = [\"blue\", \"red\", \"purple\"]\n",
    "# labels = [\"Both\", \"Slow\", \"Fast\"]\n",
    "\n",
    "# Scatter plot\n",
    "\n",
    "count = 0\n",
    "handles = []  # Collect handles from all scatter plots\n",
    "labels = []   # Collect labels from all scatter plots\n",
    "df_temp = sorting_impact[[\"Iteration\", \"Rules\", \"Impactful Rules\", \"Runtime\"]]\n",
    "df_temp[\"Rules\"] = df_temp[\"Rules\"].apply(ast.literal_eval)\n",
    "df_temp[\"Impactful Rules\"] = df_temp[\"Impactful Rules\"].apply(ast.literal_eval)\n",
    "\n",
    "filtered_df = df_temp.copy()\n",
    "filtered_df[\"Impactful Rules\"] = filtered_df[\"Impactful Rules\"].apply(which_tuple_multi)\n",
    "\n",
    "\n",
    "count_2 = 0\n",
    "filtered_df = filtered_df.sort_values(\"Rules\", ascending=True)\n",
    "line = sns.lineplot(x=filtered_df[\"Iteration\"], y=filtered_df[\"Impactful Rules\"], sizes=(0, 10))\n",
    "# Set custom y-axis labels\n",
    "ax.set_title(\"Inclusion of Arbitrary Speed-Up Rules in Impactful List in BOCPA w/out Default Rules\")\n",
    "ax.set_xlabel(\"Iterations\")\n",
    "ax.set_ylabel(\"Number of Arbitrary Rules in Impactful List (Out of 6)\")\n",
    "ticks = [i/6 for i in range(7)]\n",
    "tick_labels = [f'{i}/6' for i in range(7)]\n",
    "\n",
    "ax.set_yticks(ticks)\n",
    "ax.set_yticklabels(tick_labels)\n",
    "\n",
    "# count += 1\n",
    "\n",
    "# Show the plot\n",
    "fig.tight_layout()\n",
    "plt.savefig('Sorting_Small_Removed_Default_Multi_Impactful_List_Test_Plot.png', bbox_inches='tight')\n",
    "plt.show()\n",
    "\n",
    "# which_tuple_multi"
   ]
  },
  {
   "cell_type": "markdown",
   "id": "32939c46-4359-49de-a67a-84c0e56f09f3",
   "metadata": {
    "jp-MarkdownHeadingCollapsed": true
   },
   "source": [
    "### Removed Default Rules (Small Test) with High Impact Arbitrary Optimizations"
   ]
  },
  {
   "cell_type": "code",
   "execution_count": null,
   "id": "36f66b49-8603-46cc-8703-95000518eb26",
   "metadata": {},
   "outputs": [],
   "source": [
    "sorting_impact = pd.read_csv(f\"{dir_path}/sorting-PHASEORDER-BOCA-SORTING_IMPACT_TEST_REMOVED_DEFAULT_WITH_GUSTO-0.csv\", index_col=[0])\n",
    "sorting_impact = sorting_impact.dropna()"
   ]
  },
  {
   "cell_type": "code",
   "execution_count": null,
   "id": "fb877eb8-7aba-438f-8166-15e06e481e8a",
   "metadata": {},
   "outputs": [],
   "source": [
    "fix, ax = plt.subplots()\n",
    "\n",
    "colors = [\"blue\", \"red\", \"purple\"]\n",
    "# labels = [\"Both\", \"Slow\", \"Fast\"]\n",
    "\n",
    "# Scatter plot\n",
    "\n",
    "count = 0\n",
    "handles = []  # Collect handles from all scatter plots\n",
    "labels = []   # Collect labels from all scatter plots\n",
    "df_temp = sorting_impact[[\"Iteration\", \"Rules\", \"Impactful Rules\", \"Runtime\"]]\n",
    "df_temp[\"Rules\"] = df_temp[\"Rules\"].apply(ast.literal_eval)\n",
    "df_temp[\"Impactful Rules\"] = df_temp[\"Impactful Rules\"].apply(ast.literal_eval)\n",
    "\n",
    "filtered_df = df_temp.copy()\n",
    "filtered_df[\"Impactful Rules\"] = filtered_df[\"Impactful Rules\"].apply(which_tuple_multi)\n",
    "\n",
    "\n",
    "count_2 = 0\n",
    "filtered_df = filtered_df.sort_values(\"Rules\", ascending=True)\n",
    "line = sns.lineplot(x=filtered_df[\"Iteration\"], y=filtered_df[\"Impactful Rules\"], sizes=(0, 10))\n",
    "# Set custom y-axis labels\n",
    "ax.set_title(\"Inclusion of Arbitrary Speed-Up Rules in Impactful List in BOCPA w/out Default Rules\")\n",
    "ax.set_xlabel(\"Iterations\")\n",
    "ax.set_ylabel(\"Number of Arbitrary Rules in Impactful List (Out of 6)\")\n",
    "ticks = [i/6 for i in range(7)]\n",
    "tick_labels = [f'{i}/6' for i in range(7)]\n",
    "\n",
    "ax.set_yticks(ticks)\n",
    "ax.set_yticklabels(tick_labels)\n",
    "\n",
    "# count += 1\n",
    "\n",
    "# Show the plot\n",
    "fig.tight_layout()\n",
    "plt.savefig('Sorting_Small_Removed_Default_Multi_Impactful_List_Test_Plot.png', bbox_inches='tight')\n",
    "plt.show()\n",
    "\n",
    "# which_tuple_multi"
   ]
  },
  {
   "cell_type": "markdown",
   "id": "193763d7-f207-4cf0-b249-208fac0888c9",
   "metadata": {
    "jp-MarkdownHeadingCollapsed": true
   },
   "source": [
    "### Removed Default Rules (Small Test) with High Impact Arbitrary Optimizations Reversed"
   ]
  },
  {
   "cell_type": "code",
   "execution_count": null,
   "id": "6e14229f-fada-4c31-ab2e-11762f216363",
   "metadata": {},
   "outputs": [],
   "source": [
    "sorting_impact = pd.read_csv(f\"{dir_path}/sorting-PHASEORDER-BOCA-SORTING_IMPACT_TEST_REMOVED_DEFAULT_WITH_GUSTO_REVERSED-0.csv\", index_col=[0])\n",
    "sorting_impact = sorting_impact.dropna()"
   ]
  },
  {
   "cell_type": "code",
   "execution_count": null,
   "id": "72e0cc01-8e5b-4877-b1e5-3c3d2c96df72",
   "metadata": {},
   "outputs": [],
   "source": [
    "fix, ax = plt.subplots()\n",
    "\n",
    "colors = [\"blue\", \"red\", \"purple\"]\n",
    "# labels = [\"Both\", \"Slow\", \"Fast\"]\n",
    "\n",
    "# Scatter plot\n",
    "\n",
    "count = 0\n",
    "handles = []  # Collect handles from all scatter plots\n",
    "labels = []   # Collect labels from all scatter plots\n",
    "df_temp = sorting_impact[[\"Iteration\", \"Rules\", \"Impactful Rules\", \"Runtime\"]]\n",
    "df_temp[\"Rules\"] = df_temp[\"Rules\"].apply(ast.literal_eval)\n",
    "df_temp[\"Impactful Rules\"] = df_temp[\"Impactful Rules\"].apply(ast.literal_eval)\n",
    "\n",
    "filtered_df = df_temp.copy()\n",
    "filtered_df[\"Impactful Rules\"] = filtered_df[\"Impactful Rules\"].apply(which_tuple_multi)\n",
    "\n",
    "\n",
    "count_2 = 0\n",
    "filtered_df = filtered_df.sort_values(\"Rules\", ascending=True)\n",
    "line = sns.lineplot(x=filtered_df[\"Iteration\"], y=filtered_df[\"Impactful Rules\"], sizes=(0, 10))\n",
    "# Set custom y-axis labels\n",
    "ax.set_title(\"Inclusion of Arbitrary Speed-Up Rules in Impactful List in BOCPA w/out Default Rules\")\n",
    "ax.set_xlabel(\"Iterations\")\n",
    "ax.set_ylabel(\"Number of Arbitrary Rules in Impactful List (Out of 6)\")\n",
    "ticks = [i/6 for i in range(7)]\n",
    "tick_labels = [f'{i}/6' for i in range(7)]\n",
    "\n",
    "ax.set_yticks(ticks)\n",
    "ax.set_yticklabels(tick_labels)\n",
    "\n",
    "# count += 1\n",
    "\n",
    "# Show the plot\n",
    "fig.tight_layout()\n",
    "plt.savefig('Sorting_Small_Removed_Default_Multi_Impactful_List_Test_Plot.png', bbox_inches='tight')\n",
    "plt.show()\n",
    "\n",
    "# which_tuple_multi"
   ]
  },
  {
   "cell_type": "markdown",
   "id": "367731c8-22e4-40de-ab24-0cea65d007cc",
   "metadata": {
    "jp-MarkdownHeadingCollapsed": true
   },
   "source": [
    "### Removed Default Rules (Small Test) with High Impact Optimizations Test 2"
   ]
  },
  {
   "cell_type": "code",
   "execution_count": null,
   "id": "184d0dea-e85c-4877-b8f4-e971f5a26d89",
   "metadata": {},
   "outputs": [],
   "source": [
    "sorting_impact = pd.read_csv(f\"{dir_path}/sorting-PHASEORDER-BOCA-SORTING_Features_Test_2-0.csv\", index_col=[0])\n",
    "sorting_impact = sorting_impact.dropna()\n"
   ]
  },
  {
   "cell_type": "code",
   "execution_count": null,
   "id": "e75a3a22-e11e-44ea-b4b9-e8bb439ed976",
   "metadata": {},
   "outputs": [],
   "source": [
    "fix, ax = plt.subplots()\n",
    "\n",
    "colors = [\"blue\", \"red\", \"purple\"]\n",
    "# labels = [\"Both\", \"Slow\", \"Fast\"]\n",
    "\n",
    "# Scatter plot\n",
    "\n",
    "count = 0\n",
    "handles = []  # Collect handles from all scatter plots\n",
    "labels = []   # Collect labels from all scatter plots\n",
    "df_temp = sorting_impact[[\"Iteration\", \"Rules\", \"Impactful Rules\", \"Runtime\"]]\n",
    "df_temp[\"Rules\"] = df_temp[\"Rules\"].apply(ast.literal_eval)\n",
    "df_temp[\"Impactful Rules\"] = df_temp[\"Impactful Rules\"].apply(ast.literal_eval)\n",
    "\n",
    "filtered_df = df_temp.copy()\n",
    "filtered_df[\"Impactful Rules\"] = filtered_df[\"Impactful Rules\"].apply(which_tuple_multi)\n",
    "\n",
    "\n",
    "count_2 = 0\n",
    "filtered_df = filtered_df.sort_values(\"Rules\", ascending=True)\n",
    "line = sns.lineplot(x=filtered_df[\"Iteration\"], y=filtered_df[\"Impactful Rules\"], sizes=(0, 10))\n",
    "# Set custom y-axis labels\n",
    "ax.set_title(\"Inclusion of Arbitrary Speed-Up Rules in Impactful List in BOCPA w/out Default Rules\")\n",
    "ax.set_xlabel(\"Iterations\")\n",
    "ax.set_ylabel(\"Number of Arbitrary Rules in Impactful List (Out of 6)\")\n",
    "ticks = [i/6 for i in range(7)]\n",
    "tick_labels = [f'{i}/6' for i in range(7)]\n",
    "\n",
    "ax.set_yticks(ticks)\n",
    "ax.set_yticklabels(tick_labels)\n",
    "\n",
    "# count += 1\n",
    "\n",
    "# Show the plot\n",
    "fig.tight_layout()\n",
    "plt.savefig('Sorting_Small_Removed_Default_Multi_Impactful_List_Test_Plot.png', bbox_inches='tight')\n",
    "plt.show()\n",
    "\n",
    "# which_tuple_multi"
   ]
  },
  {
   "cell_type": "markdown",
   "id": "42ac9386-465a-4aaf-acc1-4b0a588a2222",
   "metadata": {
    "jp-MarkdownHeadingCollapsed": true
   },
   "source": [
    "# Shared Rules"
   ]
  },
  {
   "cell_type": "code",
   "execution_count": null,
   "id": "f3554b6d-fbef-4d4f-9852-ab035a557581",
   "metadata": {},
   "outputs": [],
   "source": [
    "good_rules = [\"liberate_case\",\"spec_constr\",\"rule_check2\",\"late_specialise\",\"triple_combo\",\"late_dmd_anal\",\"strict_anal\",\"rule_check3\",\"add_caller\",\"add_late\"]\n",
    "bad_rules = [\"static_args\",\"presimplify\",\"specialise\",\"full_laziness_1\",\"simpl3\",\"float_in_1\",\"call_arity\",\"strictness\",\"exitification\",\"full_laziness_2\",\"cse\",\"final\",\"rule_check1\"]\n",
    "\n",
    "def order_string_to_order_array(order_string):\n",
    "    return list(filter(lambda x: x != '', order_string.split(\"|\")))\n",
    "\n",
    "def generate_BOCA_rules(order_array):\n",
    "    # Creates rules for orderings. For example (\"A\", \"B\") => \"A must go before B\"\n",
    "    combined_list = bad_rules + good_rules\n",
    "    if (len(combined_list) != len(order_array)):\n",
    "        raise ValueError(f\"What the hell?: Combined List: {len(combined_list)}, Order List: {len(order_array)} \\n {order_array}\")\n",
    "    rules_list = []\n",
    "    blank_list = [None] * (len(combined_list))\n",
    "    for index, optimization in enumerate(combined_list):\n",
    "        pos_num = int(order_array[index])\n",
    "        blank_list[pos_num] = optimization\n",
    "    for index, opt_A in enumerate(blank_list):\n",
    "        for opt_B in blank_list[index:]:\n",
    "            if opt_A != opt_B:\n",
    "                rules_list.append((opt_A, opt_B))\n",
    "    # print(rules_list)\n",
    "    # print(f\"Order Array Length: {len(self.order_array)}\")\n",
    "    # print(f\"Rules Length: {len(rules_list)}\")\n",
    "    return rules_list\n",
    "\n",
    "def generate_all_possible_valid_rules():\n",
    "    # Uses the movable optimization list to create possible pairs. Does not touch the invalid list.\n",
    "    all_rules = []\n",
    "    for opt_A in good_rules:\n",
    "        for opt_B in good_rules:\n",
    "            if opt_A != opt_B:\n",
    "                all_rules.append((opt_A, opt_B))\n",
    "    return all_rules\n",
    "\n",
    "def generate_all_possible_rules():\n",
    "    all_rules = []\n",
    "    combined_list = bad_rules + good_rules\n",
    "    for opt_A in combined_list:\n",
    "        for opt_B in combined_list:\n",
    "            if opt_A != opt_B:\n",
    "                all_rules.append((opt_A, opt_B))\n",
    "    return all_rules"
   ]
  },
  {
   "cell_type": "code",
   "execution_count": null,
   "id": "9fd2ff62-06f5-4e6b-b72f-e08d697834f8",
   "metadata": {},
   "outputs": [],
   "source": [
    "all_possible_rules = generate_all_possible_rules()\n",
    "all_valid_rules = generate_all_possible_valid_rules()\n",
    "all_default_rules = list(set(all_possible_rules) - set(all_valid_rules))\n",
    "\n",
    "default_ordering_rules = generate_BOCA_rules(order_string_to_order_array(\"0|1|2|3|4|5|6|7|8|9|10|11|12|13|14|15|16|17|18|19|20|21|22\"))"
   ]
  },
  {
   "cell_type": "code",
   "execution_count": null,
   "id": "ad97fc50-0e31-4e8a-9a51-ad7247dd72ad",
   "metadata": {},
   "outputs": [],
   "source": [
    "top_entries = []\n",
    "\n",
    "for program_name, tables in program_tables.items():\n",
    "    for model, t in tables.items():\n",
    "        top_entries_t = []\n",
    "        if model == \"BOCA\":\n",
    "            t['Rules'] = t['Rules'].apply(ast.literal_eval)\n",
    "            df_sorted = t.sort_values(\"Runtime\", ascending=True)\n",
    "            top_entries.append(list(df_sorted[df_sorted[\"Runtime\"] <= program_tables[program_name][\"O2\"][\"Runtime\"].mean()][\"Rules\"]))\n",
    "\n",
    "tuple_count_per_program = []\n",
    "\n",
    "for program in top_entries:\n",
    "    flat_list = list(set([item for sublist in program for item in sublist]) - set(all_default_rules))\n",
    "    tuple_count_per_program.append(Counter(flat_list))\n",
    "\n",
    "big_counter = Counter()\n",
    "\n",
    "for program_counter in tuple_count_per_program:\n",
    "    big_counter += program_counter\n",
    "\n",
    "top_counter_25 = big_counter.most_common(10)\n",
    "\n",
    "print(\"Top 25 Elements:\")\n",
    "for element, count in top_counter_25:\n",
    "    print(f\"{element},\")"
   ]
  },
  {
   "cell_type": "code",
   "execution_count": null,
   "id": "9de311b8-8618-4835-88d1-d8df2708bde2",
   "metadata": {},
   "outputs": [],
   "source": [
    "def __get_expected_improvement(self, pred):\n",
    "    pred = np.array(pred).transpose(1, 0)\n",
    "    m = np.mean(pred, axis=1)\n",
    "    s = np.std(pred, axis=1)\n",
    "\n",
    "    def calculate_f():\n",
    "        z = (self.best_candidate.runtime - m) / s\n",
    "        return (self.best_candidate.runtime - m) * norm.cdf(z) + s * norm.pdf(z)\n",
    "\n",
    "    if np.any(s == 0.0):\n",
    "        s_copy = np.copy(s)\n",
    "        s[s_copy == 0.0] = 1.0\n",
    "        f = calculate_f()\n",
    "        f[s_copy == 0.0] = 0.0\n",
    "    else:\n",
    "        f = calculate_f()\n",
    "\n",
    "    return f"
   ]
  },
  {
   "cell_type": "markdown",
   "id": "d40b87b0-5ae4-4402-9fd9-748608e00bab",
   "metadata": {},
   "source": [
    "# Multi-Threading Stuff"
   ]
  },
  {
   "cell_type": "code",
   "execution_count": null,
   "id": "abb416d2-2333-4b63-b8a2-e99378d93070",
   "metadata": {},
   "outputs": [],
   "source": [
    "result_list = []\n",
    "for t_name, t in program_tables.items():\n",
    "    mt_table = multi_threading[t_name][\"Runtime\"]\n",
    "    t_tmp = t[\"BOCA\"][\"Runtime\"]\n",
    "    if t_tmp.size >= mt_table.size:\n",
    "        t_tmp = t_tmp.truncate(after=mt_table.size - 1)\n",
    "    else:\n",
    "        mt_table = mt_table.truncate(after=t_tmp.size - 1)\n",
    "    \n",
    "    t_statistic, p_value = ttest_rel(mt_table.transpose(), t_tmp.transpose())  # Paired t-test\n",
    "    #t_statistic, p_value = ttest_rel([default_value], [t[\"Runtime\"].mean()])  # Paired t-test\n",
    "    result_list.append((t_name, t_statistic, p_value))\n",
    "\n",
    "print(\"Results A:\")\n",
    "for t in result_list:\n",
    "    print(f'{t[0]}:\\n    t-stat: {t[1]}\\n    p_value: {t[2]}\\n')\n",
    "\n",
    "    "
   ]
  },
  {
   "cell_type": "code",
   "execution_count": null,
   "id": "8c01b70a-a495-4cae-8f82-d51a4f520ef0",
   "metadata": {},
   "outputs": [],
   "source": [
    "result_list = []\n",
    "for t_name, t in program_tables.items():\n",
    "    mt_table = multi_threading_2[t_name][\"Runtime\"]\n",
    "    t_tmp = t[\"BOCA\"][\"Runtime\"]\n",
    "    if t_tmp.size >= mt_table.size:\n",
    "        t_tmp = t_tmp.truncate(after=mt_table.size - 1)\n",
    "    else:\n",
    "        mt_table = mt_table.truncate(after=t_tmp.size - 1)\n",
    "    \n",
    "    t_statistic, p_value = ttest_rel(mt_table.transpose(), t_tmp.transpose())  # Paired t-test\n",
    "    #t_statistic, p_value = ttest_rel([default_value], [t[\"Runtime\"].mean()])  # Paired t-test\n",
    "    result_list.append((t_name, t_statistic, p_value))\n",
    "\n",
    "print(\"Results B:\")\n",
    "for t in result_list:\n",
    "    print(f'{t[0]}:\\n    t-stat: {t[1]}\\n    p_value: {t[2]}\\n')\n",
    "\n",
    "    "
   ]
  },
  {
   "cell_type": "code",
   "execution_count": null,
   "id": "3804bfd9-4563-402a-a9df-0b498afe2c50",
   "metadata": {},
   "outputs": [],
   "source": []
  }
 ],
 "metadata": {
  "kernelspec": {
   "display_name": "Python 3 (ipykernel)",
   "language": "python",
   "name": "python3"
  },
  "language_info": {
   "codemirror_mode": {
    "name": "ipython",
    "version": 3
   },
   "file_extension": ".py",
   "mimetype": "text/x-python",
   "name": "python",
   "nbconvert_exporter": "python",
   "pygments_lexer": "ipython3",
   "version": "3.10.12"
  }
 },
 "nbformat": 4,
 "nbformat_minor": 5
}
