{
 "cells": [
  {
   "cell_type": "markdown",
   "id": "e27ccd91-7010-4bc3-9e41-9c45e2f94941",
   "metadata": {},
   "source": [
    "# Imports"
   ]
  },
  {
   "cell_type": "code",
   "execution_count": 1,
   "id": "5cf21dab-e2f9-4bba-8002-d344fa5a8caa",
   "metadata": {},
   "outputs": [
    {
     "data": {
      "image/png": "[encoded data removed]",
      "text/html": [
       "<div style=\"vertical-align: middle;\"><strong>rocket</strong> </div><div class=\"cmap\"><img alt=\"rocket colormap\" title=\"rocket\" style=\"border: 1px solid #555;\" src=\"data:image/png;base64,iVBORw0KGgoAAAANSUhEUgAAAgAAAABACAYAAABsv8+/AAAAFXRFWHRUaXRsZQByb2NrZXQgY29sb3JtYXCDKv+2AAAAG3RFWHREZXNjcmlwdGlvbgByb2NrZXQgY29sb3JtYXDKvedSAAAAMHRFWHRBdXRob3IATWF0cGxvdGxpYiB2My44LjAsIGh0dHBzOi8vbWF0cGxvdGxpYi5vcmefc/hPAAAAMnRFWHRTb2Z0d2FyZQBNYXRwbG90bGliIHYzLjguMCwgaHR0cHM6Ly9tYXRwbG90bGliLm9yZ7HVZ2gAAAITSURBVHic7dZLVuwgAEVRoJyE8x8odpJyBUIR7d69Oy7+8fkap7av715KKbXWUkoptRw/j3HbzZ/jzblx/2p+uqdszv13/PSd1b7h3tX87z3l2fcc+9rTe8Zz0/eUj+P5vsX++tfzx3xfzK/2L+8/5ntZnBvu6+N943fdz+/Otd7v16dz/fN90z19+H1W8/3zfL3fd/z5Sqv9fv85Xzfz7XrfPD+sj/Nt+I7Feh3faffrZbl+/MMs58dxvY7f99Zh/3X8e65exrv55fr7D9UW+9qj/ee4btZ358/1+l5fnfvv/Ord1b7rzzrt273zenb/9v37e+bvefre65jevf/03fv94/3nf2MAIIgAAIBAAgAAAgkAAAgkAAAgkAAAgEACAAACCQAACCQAACCQAACAQAIAAAIJAAAIJAAAIJAAAIBAAgAAAgkAAAgkAAAgkAAAgEACAAACCQAACCQAACCQAACAQAIAAAIJAAAIJAAAIJAAAIBAAgAAAgkAAAgkAAAgkAAAgEACAAACCQAACCQAACCQAACAQAIAAAIJAAAIJAAAIJAAAIBAAgAAAgkAAAgkAAAgkAAAgEACAAACCQAACCQAACCQAACAQAIAAAIJAAAIJAAAIJAAAIBAAgAAAgkAAAgkAAAgkAAAgEACAAACCQAACCQAACCQAACAQAIAAAIJAAAIJAAAIJAAAIBAAgAAAv0AU3UrP5ppht0AAAAASUVORK5CYII=\"></div><div style=\"vertical-align: middle; max-width: 514px; display: flex; justify-content: space-between;\"><div style=\"float: left;\"><div title=\"#03051aff\" style=\"display: inline-block; width: 1em; height: 1em; margin: 0; vertical-align: middle; border: 1px solid #555; background-color: #03051aff;\"></div> under</div><div style=\"margin: 0 auto; display: inline-block;\">bad <div title=\"#00000000\" style=\"display: inline-block; width: 1em; height: 1em; margin: 0; vertical-align: middle; border: 1px solid #555; background-color: #00000000;\"></div></div><div style=\"float: right;\">over <div title=\"#faebddff\" style=\"display: inline-block; width: 1em; height: 1em; margin: 0; vertical-align: middle; border: 1px solid #555; background-color: #faebddff;\"></div></div>"
      ],
      "text/plain": [
       "<matplotlib.colors.ListedColormap at 0x7f9e003f1de0>"
      ]
     },
     "execution_count": 1,
     "metadata": {},
     "output_type": "execute_result"
    }
   ],
   "source": [
    "import numpy as np\n",
    "import pandas as pd\n",
    "import matplotlib.pyplot as plt\n",
    "import re\n",
    "from scipy.stats import f_oneway\n",
    "from scipy.stats import ttest_rel\n",
    "import seaborn as sns\n",
    "from collections import Counter\n",
    "import ast\n",
    "from scipy.stats import norm\n",
    "from sklearn.ensemble import RandomForestClassifier, RandomForestRegressor\n",
    "plt.style.use('seaborn-v0_8')\n",
    "sns.color_palette(\"rocket\", as_cmap=True)"
   ]
  },
  {
   "cell_type": "markdown",
   "id": "70d40373-b61e-40d5-b4b9-4e06802e6aab",
   "metadata": {},
   "source": [
    "# Data Import & Set-Up"
   ]
  },
  {
   "cell_type": "code",
   "execution_count": null,
   "id": "3cfe1485-0d57-434d-8096-1ad5935a70f8",
   "metadata": {},
   "outputs": [],
   "source": [
    "dir_path = \"files/W_Paper_Files\"\n",
    "\n",
    "# RIO Test Results\n",
    "cacheprof_RIO = pd.read_csv(f\"{dir_path}/cacheprof-PHASEORDER-Iterative-PO-PAPER-RIO-RESULTS-0.csv\", index_col=[0])\n",
    "sorting_RIO = pd.read_csv(f\"{dir_path}/sorting-PHASEORDER-Iterative-PO-PAPER-RIO-RESULTS-0.csv\", index_col=[0])\n",
    "maillist_RIO = pd.read_csv(f\"{dir_path}/maillist-PHASEORDER-Iterative-PO-PAPER-RIO-RESULTS-0.csv\", index_col=[0])\n",
    "hidden_RIO = pd.read_csv(f\"{dir_path}/hidden-PHASEORDER-Iterative-PO-PAPER-RIO-RESULTS-0.csv\", index_col=[0])\n",
    "\n",
    "# BOCA Test Results\n",
    "cacheprof_BOCA = pd.read_csv(f\"{dir_path}/cacheprof-PHASEORDER-BOCA-PO-PAPER-RESULTS-0.csv\", index_col=[0])\n",
    "sorting_BOCA = pd.read_csv(f\"{dir_path}/sorting-PHASEORDER-BOCA-PO-PAPER-RESULTS-0.csv\", index_col=[0])\n",
    "maillist_BOCA = pd.read_csv(f\"{dir_path}/maillist-PHASEORDER-BOCA-PO-PAPER-RESULTS-0.csv\", index_col=[0])\n",
    "hidden_BOCA = pd.read_csv(f\"{dir_path}/hidden-PHASEORDER-BOCA-PO-PAPER-RESULTS-0.csv\", index_col=[0])\n",
    "\n",
    "# Control Group (O2 In Default Order)\n",
    "cacheprof_default = pd.read_csv(f\"{dir_path}/cacheprof-PHASEORDER-Iterative-BIGRIO-0.csv\", index_col=[0])\n",
    "hidden_default = pd.read_csv(f\"{dir_path}/hidden-PHASEORDER-Iterative-PHASEORDERRIO-0.csv\", index_col=[0])\n",
    "maillist_default =  pd.read_csv(f\"{dir_path}/maillist-PHASEORDER-Iterative-PHASEORDERRIO-0.csv\", index_col=[0])\n",
    "sorting_default = pd.read_csv(f\"{dir_path}/sorting-PHASEORDER-Iterative-PHASEORDERRIO-0.csv\", index_col=[0])\n",
    "\n",
    "# Add additional RIO Results\n",
    "for i in range(1,4):\n",
    "    cacheprof_RIO = pd.concat([cacheprof_RIO, pd.read_csv(f\"{dir_path}/cacheprof-PHASEORDER-Iterative-PO-PAPER-RIO-RESULTS-{i}.csv\", index_col=[0])])\n",
    "    sorting_RIO= pd.concat([sorting_RIO, pd.read_csv(f\"{dir_path}/sorting-PHASEORDER-Iterative-PO-PAPER-RIO-RESULTS-{i}.csv\", index_col=[0])])\n",
    "    maillist_RIO = pd.concat([maillist_RIO, pd.read_csv(f\"{dir_path}/maillist-PHASEORDER-Iterative-PO-PAPER-RIO-RESULTS-{i}.csv\", index_col=[0])])\n",
    "    hidden_RIO = pd.concat([hidden_RIO, pd.read_csv(f\"{dir_path}/hidden-PHASEORDER-Iterative-PO-PAPER-RIO-RESULTS-{i}.csv\", index_col=[0])])\n",
    "\n",
    "\n",
    "# Fast Rule\n",
    "# cacheprof_fast = pd.read_csv(f\"{dir_path}/cacheprof-PHASEORDER-BOCA-PO-BOCA-FAST-RULE-MANIP-0.csv\", index_col=[0])\n",
    "# hidden_fast = pd.read_csv(f\"{dir_path}/hidden-PHASEORDER-BOCA-PO-BOCA-FAST-RULE-MANIP-0.csv\", index_col=[0])\n",
    "# maillist_fast = pd.read_csv(f\"{dir_path}/maillist-PHASEORDER-BOCA-PO-BOCA-FAST-RULE-MANIP-0.csv\", index_col=[0])\n",
    "# sorting_fast = pd.read_csv(f\"{dir_path}/sorting-PHASEORDER-BOCA-PO-BOCA-FAST-RULE-MANIP-0.csv\", index_col=[0])\n",
    "\n",
    "# # Slow Rule\n",
    "# cacheprof_slow = pd.read_csv(f\"{dir_path}/cacheprof-PHASEORDER-BOCA-PO-BOCA-SLOW-RULE-MANIP-0.csv\", index_col=[0])\n",
    "# hidden_slow = pd.read_csv(f\"{dir_path}/hidden-PHASEORDER-BOCA-PO-BOCA-SLOW-RULE-MANIP-0.csv\", index_col=[0])\n",
    "# maillist_slow = pd.read_csv(f\"{dir_path}/maillist-PHASEORDER-BOCA-PO-BOCA-SLOW-RULE-MANIP-0.csv\", index_col=[0])\n",
    "# sorting_slow = pd.read_csv(f\"{dir_path}/sorting-PHASEORDER-BOCA-PO-BOCA-SLOW-RULE-MANIP-0.csv\", index_col=[0])\n",
    "\n",
    "# New Slow + Fast Rule:\n",
    "cacheprof_special = pd.read_csv(f\"{dir_path}/cacheprof-PHASEORDER-BOCA-PO-PAPER-RESULTS-SPECIAL-RULE-10P-0.csv\", index_col=[0])\n",
    "hidden_special = pd.read_csv(f\"{dir_path}/hidden-PHASEORDER-BOCA-PO-PAPER-RESULTS-SPECIAL-RULE-10P-0.csv\", index_col=[0])\n",
    "maillist_special = pd.read_csv(f\"{dir_path}/maillist-PHASEORDER-BOCA-PO-PAPER-RESULTS-SPECIAL-RULE-10P-0.csv\", index_col=[0])\n",
    "sorting_special = pd.read_csv(f\"{dir_path}/sorting-PHASEORDER-BOCA-PO-PAPER-RESULTS-SPECIAL-RULE-10P-0.csv\", index_col=[0])\n",
    "\n",
    "# slow_tables = {\"cacheprof\": cacheprof_slow, \"maillist\": maillist_slow, \"hidden\": hidden_slow, \"sorting\": sorting_slow}\n",
    "# fast_tables = tables = {\"cacheprof\": cacheprof_fast, \"maillist\": maillist_fast, \"hidden\": hidden_fast, \"sorting\": sorting_fast}\n",
    "program_tables = {\"cacheprof\": {\"BOCA\": cacheprof_BOCA, \"RIO\": cacheprof_RIO, \"O2\": cacheprof_default}, \"sorting\": {\"BOCA\": sorting_BOCA, \"RIO\": sorting_RIO, \"O2\": sorting_default}, \"hidden\": {\"BOCA\": hidden_BOCA, \"RIO\":  hidden_RIO, \"O2\": hidden_default}, \"maillist\": {\"BOCA\": maillist_BOCA, \"RIO\": maillist_RIO, \"O2\": maillist_default}}\n",
    "correctness_tables = {\"cacheprof\": cacheprof_special, \"hidden\": hidden_special, \"maillist\": maillist_special, \"sorting\": sorting_special}"
   ]
  },
  {
   "cell_type": "markdown",
   "id": "0b19dc68-2ab7-4403-91d8-a5003b2c2a17",
   "metadata": {},
   "source": [
    "# Normalization Results"
   ]
  },
  {
   "cell_type": "markdown",
   "id": "8bbdb1bb-9672-4578-974a-b0bee654d7a7",
   "metadata": {
    "jp-MarkdownHeadingCollapsed": true
   },
   "source": [
    "## Z-Score"
   ]
  },
  {
   "cell_type": "code",
   "execution_count": null,
   "id": "30407eef-6582-47fd-af64-90f956e17557",
   "metadata": {},
   "outputs": [],
   "source": [
    "normalized_tables = {}\n",
    "tick_labels = []\n",
    "\n",
    "for d_name, d in program_tables.items():\n",
    "    for type, t in d.items():\n",
    "        t[\"Norm-Z\"] = (t[\"Runtime\"] - t[\"Runtime\"].mean())/t[\"Runtime\"].std()\n",
    "        t.drop(columns=[\"Mode\"])"
   ]
  },
  {
   "cell_type": "markdown",
   "id": "57790e9a-a39c-4c1e-b950-0963eb096d37",
   "metadata": {
    "jp-MarkdownHeadingCollapsed": true
   },
   "source": [
    "## O2"
   ]
  },
  {
   "cell_type": "code",
   "execution_count": null,
   "id": "fce579e1-f6af-4493-8d78-b0d70bae8ad6",
   "metadata": {},
   "outputs": [],
   "source": [
    "for d_name, d in program_tables.items():\n",
    "    O2_numbers = program_tables[d_name][\"O2\"][\"Runtime\"].mean()\n",
    "    for type, t in d.items():\n",
    "        normalize_around = O2_numbers\n",
    "        offset = normalize_around - t[\"Runtime\"].mean()\n",
    "        t[\"Norm-Default\"] = (t[\"Runtime\"] - normalize_around)/t[\"Runtime\"].std()"
   ]
  },
  {
   "cell_type": "markdown",
   "id": "996ddbf0-14c9-44c1-8069-b77cdd6ca8be",
   "metadata": {
    "jp-MarkdownHeadingCollapsed": true
   },
   "source": [
    "## Data Visualization"
   ]
  },
  {
   "cell_type": "markdown",
   "id": "bdde07c0-0315-45b5-8e68-b24d6959859d",
   "metadata": {},
   "source": [
    "### Z-Score Plots"
   ]
  },
  {
   "cell_type": "code",
   "execution_count": null,
   "id": "adf04b6c-a467-40b8-9384-059ca78f9c29",
   "metadata": {},
   "outputs": [],
   "source": [
    "fig, ax = plt.subplots()\n",
    "\n",
    "program_name = \"cacheprof\"\n",
    "\n",
    "lst1 = []\n",
    "labels = []\n",
    "for type_name, t in program_tables[program_name].items():\n",
    "    if type_name != \"O2\":\n",
    "        lst1.append(t[\"Norm-Z\"])\n",
    "        labels.append(type_name)\n",
    "    \n",
    "ax.boxplot(lst1)\n",
    "ax.set_xticklabels(labels)\n",
    "ax.set_ylabel(f\"Normalized Z Runtime (std)\")\n",
    "ax.set_xlabel(f\"Type of Optimization\")\n",
    "ax.set_title(program_name)\n",
    "\n",
    "plt.savefig(\"PO_Z_cacheprof.svg\", format=\"svg\")\n",
    "plt.show()"
   ]
  },
  {
   "cell_type": "code",
   "execution_count": null,
   "id": "19bc0ce9-abfa-486f-bba0-7fe68b50ab41",
   "metadata": {},
   "outputs": [],
   "source": [
    "fig, ax = plt.subplots()\n",
    "\n",
    "program_name = \"sorting\"\n",
    "\n",
    "lst1 = []\n",
    "labels = []\n",
    "for type_name, t in program_tables[program_name].items():\n",
    "    if type_name != \"O2\":\n",
    "        lst1.append(t[\"Norm-Z\"])\n",
    "        labels.append(type_name)\n",
    "    \n",
    "ax.boxplot(lst1)\n",
    "ax.set_xticklabels(labels)\n",
    "ax.set_ylabel(f\"Normalized Z Runtime (std)\")\n",
    "ax.set_xlabel(f\"Type of Optimization\")\n",
    "ax.set_title(program_name)\n",
    "\n",
    "plt.savefig(\"PO_Z_sorting.svg\", format=\"svg\")\n",
    "plt.show()"
   ]
  },
  {
   "cell_type": "code",
   "execution_count": null,
   "id": "b5143a90-4272-4b86-8f2c-42d9d58050d0",
   "metadata": {},
   "outputs": [],
   "source": [
    "fig, ax = plt.subplots()\n",
    "\n",
    "program_name = \"hidden\"\n",
    "\n",
    "lst1 = []\n",
    "labels = []\n",
    "for type_name, t in program_tables[program_name].items():\n",
    "    if type_name != \"O2\":\n",
    "        lst1.append(t[\"Norm-Z\"])\n",
    "        labels.append(type_name)\n",
    "    \n",
    "ax.boxplot(lst1)\n",
    "ax.set_xticklabels(labels)\n",
    "ax.set_ylabel(f\"Normalized Z Runtime (std)\")\n",
    "ax.set_xlabel(f\"Type of Optimization\")\n",
    "ax.set_title(program_name)\n",
    "\n",
    "plt.savefig(\"PO_Z_hidden.svg\", format=\"svg\")\n",
    "plt.show()"
   ]
  },
  {
   "cell_type": "code",
   "execution_count": null,
   "id": "5ee474c2-b6e2-4798-8bde-f2e1d420030c",
   "metadata": {},
   "outputs": [],
   "source": [
    "fig, ax = plt.subplots()\n",
    "\n",
    "program_name = \"maillist\"\n",
    "\n",
    "lst1 = []\n",
    "labels = []\n",
    "for type_name, t in program_tables[program_name].items():\n",
    "    if type_name != \"O2\":\n",
    "        lst1.append(t[\"Norm-Z\"])\n",
    "        labels.append(type_name)\n",
    "    \n",
    "ax.boxplot(lst1)\n",
    "ax.set_xticklabels(labels)\n",
    "ax.set_ylabel(f\"Normalized Z Runtime (std)\")\n",
    "ax.set_xlabel(f\"Type of Optimization\")\n",
    "ax.set_title(program_name)\n",
    "\n",
    "plt.savefig(\"PO_Z_maillist.svg\", format=\"svg\")\n",
    "plt.show()"
   ]
  },
  {
   "cell_type": "markdown",
   "id": "7bbd1701-7165-444a-a129-ffc33588627b",
   "metadata": {},
   "source": [
    "### O2 Plots"
   ]
  },
  {
   "cell_type": "code",
   "execution_count": null,
   "id": "904561fa-31f6-460a-b6d5-1b27d19cbc66",
   "metadata": {},
   "outputs": [],
   "source": [
    "fig, ax = plt.subplots()\n",
    "\n",
    "lst1 = []\n",
    "labels = []\n",
    "program_name = \"cacheprof\"\n",
    "for type_name, t in program_tables[program_name].items():\n",
    "    if type_name != \"O2\":\n",
    "        lst1.append(t[\"Norm-Default\"])\n",
    "        labels.append(type_name)\n",
    "    \n",
    "ax.boxplot(lst1)\n",
    "ax.set_xticklabels(labels)\n",
    "ax.set_ylabel(f\"Normalized O2 Runtime (std)\")\n",
    "ax.set_xlabel(f\"Type of Optimization\")\n",
    "ax.set_title(f\"{program_name}\")\n",
    "\n",
    "plt.savefig(\"PO_O2_cacheprof.svg\", format=\"svg\")\n",
    "plt.show()"
   ]
  },
  {
   "cell_type": "code",
   "execution_count": null,
   "id": "d422a84b-3f22-4c1e-afff-398d4857e246",
   "metadata": {},
   "outputs": [],
   "source": [
    "fig, ax = plt.subplots()\n",
    "\n",
    "lst1 = []\n",
    "labels = []\n",
    "program_name = \"sorting\"\n",
    "for type_name, t in program_tables[program_name].items():\n",
    "    if type_name != \"O2\":\n",
    "        lst1.append(t[\"Norm-Default\"])\n",
    "        labels.append(type_name)\n",
    "    \n",
    "ax.boxplot(lst1)\n",
    "ax.set_xticklabels(labels)\n",
    "ax.set_ylabel(f\"Normalized O2 Runtime (std)\")\n",
    "ax.set_xlabel(f\"Type of Optimization\")\n",
    "ax.set_title(f\"{program_name}\")\n",
    "\n",
    "plt.savefig(\"PO_O2_sorting.svg\", format=\"svg\")\n",
    "plt.show()"
   ]
  },
  {
   "cell_type": "code",
   "execution_count": null,
   "id": "1a317625-9ad3-4523-aecc-bb079944d231",
   "metadata": {},
   "outputs": [],
   "source": [
    "fig, ax = plt.subplots()\n",
    "\n",
    "lst1 = []\n",
    "labels = []\n",
    "program_name = \"maillist\"\n",
    "for type_name, t in program_tables[program_name].items():\n",
    "    if type_name != \"O2\":\n",
    "        lst1.append(t[\"Norm-Default\"])\n",
    "        labels.append(type_name)\n",
    "    \n",
    "ax.boxplot(lst1)\n",
    "ax.set_xticklabels(labels)\n",
    "ax.set_ylabel(f\"Normalized O2 Runtime (std)\")\n",
    "ax.set_xlabel(f\"Type of Optimization\")\n",
    "ax.set_title(f\"{program_name}\")\n",
    "\n",
    "plt.savefig(\"PO_O2_maillist.svg\", format=\"svg\")\n",
    "plt.show()"
   ]
  },
  {
   "cell_type": "code",
   "execution_count": null,
   "id": "4b38e701-d2f0-4597-82f6-527f6102f4c1",
   "metadata": {},
   "outputs": [],
   "source": [
    "fig, ax = plt.subplots()\n",
    "\n",
    "lst1 = []\n",
    "labels = []\n",
    "program_name = \"hidden\"\n",
    "for type_name, t in program_tables[program_name].items():\n",
    "    if type_name != \"O2\":\n",
    "        lst1.append(t[\"Norm-Default\"])\n",
    "        labels.append(type_name)\n",
    "    \n",
    "ax.boxplot(lst1)\n",
    "ax.set_xticklabels(labels)\n",
    "ax.set_ylabel(f\"Normalized O2 Runtime (std)\")\n",
    "ax.set_xlabel(f\"Type of Optimization\")\n",
    "ax.set_title(f\"{program_name}\")\n",
    "\n",
    "plt.savefig(\"PO_O2_hidden.svg\", format=\"svg\")\n",
    "plt.show()"
   ]
  },
  {
   "cell_type": "markdown",
   "id": "bb4a9f1a-89df-47c3-9592-993320ecec0c",
   "metadata": {
    "jp-MarkdownHeadingCollapsed": true
   },
   "source": [
    "# Table of Improvement"
   ]
  },
  {
   "cell_type": "code",
   "execution_count": null,
   "id": "fa5c2d87-7386-467f-adc6-b50414c85cba",
   "metadata": {},
   "outputs": [],
   "source": [
    "\n",
    "# THIS IS USING THE BEST RUNTIME\n",
    "\n",
    "data = []\n",
    "programs = list(program_tables.keys())\n",
    "configurations = [\"BOCA\", \"RIO\"]\n",
    "columns = [\"Optimal\", \"Default\", \"Improvement\", \"Avg. Improvement\"]\n",
    "\n",
    "for program in programs:\n",
    "    program_data = []\n",
    "    row_O0s = []\n",
    "    row_O2s = []\n",
    "    for config in configurations:\n",
    "        if program_tables[program][config] is not None:\n",
    "            row_Optimal = round(program_tables[program][config].sort_values(\"Runtime\", ascending=True).iloc[0][\"Runtime\"],3)\n",
    "            row_Default = round(program_tables[program][\"O2\"][\"Runtime\"].mean(),3)\n",
    "            improvement = f\"{round(-1*(1 - row_Optimal/row_Default)*100,3)}%\"\n",
    "            average = f\"{round(-1*(1 - program_tables[program][config]['Runtime'].mean()/row_Default)*100,3)}%\"\n",
    "            program_data.append([row_Optimal, row_Default, improvement, average])\n",
    "            row_O0s.append(row_Optimal)\n",
    "            row_O2s.append(row_Default)\n",
    "        else:\n",
    "            program_data.append([None, None, None])\n",
    "    data.extend(program_data)\n",
    "    \n",
    "    # for config in configurations:\n",
    "    #     updated_program_tables[program][config][\"-O0\"][\"Runtime\"] = round(np.mean(row_O0s),3)\n",
    "    #     row_O2 = updated_program_tables[program][config][\"-O2\"][\"Runtime\"] = round(np.mean(row_O2s),3)\n",
    "\n",
    "# Create a MultiIndex with program and configuration levels\n",
    "index = pd.MultiIndex.from_product([programs, configurations], names=[\"Program\", \"Configuration\"])\n",
    "\n",
    "# print(index)\n",
    "# print(data)\n",
    "\n",
    "# Reshape data into a DataFrame\n",
    "df = pd.DataFrame(data, columns=columns)\n",
    "\n",
    "\n",
    "# Assign the MultiIndex\n",
    "df.index = index\n",
    "\n",
    "\n",
    "print(df)\n",
    "df.to_csv(\"PO_table_results.csv\")\n"
   ]
  },
  {
   "cell_type": "code",
   "execution_count": null,
   "id": "689c7b32-fce7-4626-933d-6ba7deb8dad7",
   "metadata": {},
   "outputs": [],
   "source": [
    "BOCA_row_Optimal = program_tables[\"sorting\"][\"BOCA\"].sort_values(\"Runtime\", ascending=True).iloc[0][\"Phase\"]\n",
    "RIO_row_Optimal = program_tables[\"sorting\"][\"RIO\"].sort_values(\"Runtime\", ascending=True).iloc[0][\"Phase\"]\n",
    "\n",
    "print(BOCA_row_Optimal)\n",
    "print(RIO_row_Optimal)"
   ]
  },
  {
   "cell_type": "markdown",
   "id": "d06d113a-d91b-4191-bd17-07ebbaf4869a",
   "metadata": {},
   "source": [
    "# Correctness Stuff"
   ]
  },
  {
   "cell_type": "code",
   "execution_count": null,
   "id": "dc87b97c-c75d-467a-b1f2-749d4d1e2ed6",
   "metadata": {},
   "outputs": [],
   "source": [
    "def has_required_tuples(tuple_list):\n",
    "    for tup in  [(\"my_good_optimization\", \"my_neutral_optimization\"), (\"my_bad_optimization\", \"my_neutral_optimization\")]:\n",
    "        if tup in tuple_list:\n",
    "            return True\n",
    "    return False\n",
    "\n",
    "def which_tuple(tuple_list):\n",
    "    if (\"my_good_optimization\", \"my_neutral_optimization\") in tuple_list and (\"my_bad_optimization\", \"my_neutral_optimization\") in tuple_list:\n",
    "        return \"Both\"\n",
    "    elif (\"my_good_optimization\", \"my_neutral_optimization\") in tuple_list:\n",
    "        return \"Good Only\"\n",
    "    elif (\"my_bad_optimization\", \"my_neutral_optimization\") in tuple_list:\n",
    "        return \"Bad Only\""
   ]
  },
  {
   "cell_type": "markdown",
   "id": "f3c5a160-773a-43f3-8fae-dbff740f9134",
   "metadata": {},
   "source": [
    "## Plot 1"
   ]
  },
  {
   "cell_type": "code",
   "execution_count": null,
   "id": "aa9180b8-62dd-4b89-af4b-c9773c4d113f",
   "metadata": {},
   "outputs": [],
   "source": [
    "\n",
    "colors = [\"blue\", \"red\", \"purple\"]\n",
    "\n",
    "# Scatter plot\n",
    "\n",
    "count = 0\n",
    "for program_name, df in correctness_tables.items():\n",
    "    df_temp = df[[\"Iteration\", \"Rules\", \"Runtime\"]]\n",
    "    df_temp[\"Rules\"] = df_temp[\"Rules\"].apply(ast.literal_eval)\n",
    "    filtered_df = df_temp[df_temp['Rules'].apply(has_required_tuples)]\n",
    "    filtered_df[\"Rules\"] = filtered_df[\"Rules\"].apply(which_tuple)\n",
    "    sns.scatterplot(x=filtered_df[\"Iteration\"], y=filtered_df[\"Rules\"], marker='o', color=sns.color_palette(\"husl\")[count % 4], sizes=(0, 10), s=100, label=program_name)\n",
    "    count += 1\n",
    "\n",
    "# Add labels and title\n",
    "plt.xlabel('Iteration')\n",
    "plt.ylabel('Category')\n",
    "plt.title('Special Rule Distributions')\n",
    "\n",
    "# Show the legend\n",
    "plt.legend()\n",
    "\n",
    "# Show the plot\n",
    "plt.savefig('Slow_Scatter.png')\n",
    "plt.show()\n"
   ]
  },
  {
   "cell_type": "markdown",
   "id": "23f9c8d8-c846-47aa-b3b5-69e4eb1250de",
   "metadata": {},
   "source": [
    "## Plot 2"
   ]
  },
  {
   "cell_type": "code",
   "execution_count": null,
   "id": "3930d727-87a1-4415-823f-a0a061815f96",
   "metadata": {},
   "outputs": [],
   "source": [
    "fig, axes = plt.subplots(4, 1)\n",
    "colors = [\"blue\", \"red\", \"purple\"]\n",
    "# labels = [\"Both\", \"Slow\", \"Fast\"]\n",
    "\n",
    "# Scatter plot\n",
    "\n",
    "count = 0\n",
    "handles = []  # Collect handles from all scatter plots\n",
    "labels = []   # Collect labels from all scatter plots\n",
    "for program_name, df in correctness_tables.items():\n",
    "    df_temp = df[[\"Iteration\", \"Rules\", \"Runtime\"]]\n",
    "    df_temp[\"Rules\"] = df_temp[\"Rules\"].apply(ast.literal_eval)\n",
    "    filtered_df = df_temp[df_temp['Rules'].apply(has_required_tuples)]\n",
    "    filtered_df[\"Rules\"] = filtered_df[\"Rules\"].apply(which_tuple)\n",
    "    count_2 = 0\n",
    "    scatter = sns.scatterplot(x=filtered_df[\"Iteration\"], y=filtered_df[\"Rules\"], marker='o', color=sns.color_palette(\"husl\")[count % 4], sizes=(0, 10), s=100, label=program_name, ax=axes[count], legend=False)\n",
    "    handles.append(scatter.collections[0])  # Append handle for legend\n",
    "    labels.append(program_name)  # Append label for legend\n",
    "    count_2 += 1\n",
    "        \n",
    "    # Set custom y-axis labels\n",
    "    y_labels = filtered_df[\"Rules\"].unique()\n",
    "    axes[count].set_yticks(range(len(y_labels)))\n",
    "    axes[count].set_yticklabels(y_labels)\n",
    "    \n",
    "    axes[count].set_title(None)\n",
    "    axes[count].set_xlabel(None)\n",
    "    axes[count].set_ylabel(None)\n",
    "    \n",
    "    # Adjust y-axis limits to prevent clipping of markers\n",
    "    y_min = -0.5  # Add some padding at the bottom\n",
    "    y_max = len(y_labels) - 0.5  # Adjust based on the number of categories\n",
    "    axes[count].set_ylim(y_min, y_max)\n",
    "    count += 1\n",
    "\n",
    "# Add labels and title\n",
    "# plt.xlabel('Iteration')\n",
    "# plt.ylabel('Category')\n",
    "fig.supxlabel('Iteration')\n",
    "fig.supylabel('Category')\n",
    "fig.suptitle(\"Special Rule Distributions\")\n",
    "\n",
    "# Show the legend\n",
    "# handles, labels = axes[0].get_legend_handles_labels()\n",
    "fig.legend(handles, labels, loc='right')\n",
    "# plt.legend(title=\"Y-Values\", labels=[\"Value 0\", \"Value 1\", \"Value 2\"])\n",
    "\n",
    "# Show the plot\n",
    "fig.tight_layout()\n",
    "plt.savefig('Slow_Scatter.png')\n",
    "plt.show()\n"
   ]
  },
  {
   "cell_type": "markdown",
   "id": "42ac9386-465a-4aaf-acc1-4b0a588a2222",
   "metadata": {},
   "source": [
    "# Shared Rules"
   ]
  },
  {
   "cell_type": "code",
   "execution_count": null,
   "id": "f3554b6d-fbef-4d4f-9852-ab035a557581",
   "metadata": {},
   "outputs": [],
   "source": [
    "good_rules = [\"liberate_case\",\"spec_constr\",\"rule_check2\",\"late_specialise\",\"triple_combo\",\"late_dmd_anal\",\"strict_anal\",\"rule_check3\",\"add_caller\",\"add_late\"]\n",
    "bad_rules = [\"static_args\",\"presimplify\",\"specialise\",\"full_laziness_1\",\"simpl3\",\"float_in_1\",\"call_arity\",\"strictness\",\"exitification\",\"full_laziness_2\",\"cse\",\"final\",\"rule_check1\"]\n",
    "\n",
    "def order_string_to_order_array(order_string):\n",
    "    return list(filter(lambda x: x != '', order_string.split(\"|\")))\n",
    "\n",
    "def generate_BOCA_rules(order_array):\n",
    "    # Creates rules for orderings. For example (\"A\", \"B\") => \"A must go before B\"\n",
    "    combined_list = bad_rules + good_rules\n",
    "    if (len(combined_list) != len(order_array)):\n",
    "        raise ValueError(f\"What the hell?: Combined List: {len(combined_list)}, Order List: {len(order_array)} \\n {order_array}\")\n",
    "    rules_list = []\n",
    "    blank_list = [None] * (len(combined_list))\n",
    "    for index, optimization in enumerate(combined_list):\n",
    "        pos_num = int(order_array[index])\n",
    "        blank_list[pos_num] = optimization\n",
    "    for index, opt_A in enumerate(blank_list):\n",
    "        for opt_B in blank_list[index:]:\n",
    "            if opt_A != opt_B:\n",
    "                rules_list.append((opt_A, opt_B))\n",
    "    # print(rules_list)\n",
    "    # print(f\"Order Array Length: {len(self.order_array)}\")\n",
    "    # print(f\"Rules Length: {len(rules_list)}\")\n",
    "    return rules_list\n",
    "\n",
    "def generate_all_possible_valid_rules():\n",
    "    # Uses the movable optimization list to create possible pairs. Does not touch the invalid list.\n",
    "    all_rules = []\n",
    "    for opt_A in good_rules:\n",
    "        for opt_B in good_rules:\n",
    "            if opt_A != opt_B:\n",
    "                all_rules.append((opt_A, opt_B))\n",
    "    return all_rules\n",
    "\n",
    "def generate_all_possible_rules():\n",
    "    all_rules = []\n",
    "    combined_list = bad_rules + good_rules\n",
    "    for opt_A in combined_list:\n",
    "        for opt_B in combined_list:\n",
    "            if opt_A != opt_B:\n",
    "                all_rules.append((opt_A, opt_B))\n",
    "    return all_rules"
   ]
  },
  {
   "cell_type": "code",
   "execution_count": null,
   "id": "9fd2ff62-06f5-4e6b-b72f-e08d697834f8",
   "metadata": {},
   "outputs": [],
   "source": [
    "all_possible_rules = generate_all_possible_rules()\n",
    "all_valid_rules = generate_all_possible_valid_rules()\n",
    "all_default_rules = list(set(all_possible_rules) - set(all_valid_rules))\n",
    "\n",
    "default_ordering_rules = generate_BOCA_rules(order_string_to_order_array(\"0|1|2|3|4|5|6|7|8|9|10|11|12|13|14|15|16|17|18|19|20|21|22\"))"
   ]
  },
  {
   "cell_type": "code",
   "execution_count": null,
   "id": "ad97fc50-0e31-4e8a-9a51-ad7247dd72ad",
   "metadata": {},
   "outputs": [],
   "source": [
    "top_entries = []\n",
    "\n",
    "for program_name, tables in program_tables.items():\n",
    "    for model, t in tables.items():\n",
    "        top_entries_t = []\n",
    "        if model == \"BOCA\":\n",
    "            t['Rules'] = t['Rules'].apply(ast.literal_eval)\n",
    "            df_sorted = t.sort_values(\"Runtime\", ascending=True)\n",
    "            top_entries.append(list(df_sorted[df_sorted[\"Runtime\"] <= program_tables[program_name][\"O2\"][\"Runtime\"].mean()][\"Rules\"]))\n",
    "\n",
    "tuple_count_per_program = []\n",
    "\n",
    "for program in top_entries:\n",
    "    flat_list = list(set([item for sublist in program for item in sublist]) - set(all_default_rules))\n",
    "    tuple_count_per_program.append(Counter(flat_list))\n",
    "\n",
    "big_counter = Counter()\n",
    "\n",
    "for program_counter in tuple_count_per_program:\n",
    "    big_counter += program_counter\n",
    "\n",
    "top_counter_25 = big_counter.most_common(10)\n",
    "\n",
    "print(\"Top 25 Elements:\")\n",
    "for element, count in top_counter_25:\n",
    "    print(f\"{element},\")"
   ]
  },
  {
   "cell_type": "code",
   "execution_count": null,
   "id": "9de311b8-8618-4835-88d1-d8df2708bde2",
   "metadata": {},
   "outputs": [],
   "source": [
    "def __get_expected_improvement(self, pred):\n",
    "    pred = np.array(pred).transpose(1, 0)\n",
    "    m = np.mean(pred, axis=1)\n",
    "    s = np.std(pred, axis=1)\n",
    "\n",
    "    def calculate_f():\n",
    "        z = (self.best_candidate.runtime - m) / s\n",
    "        return (self.best_candidate.runtime - m) * norm.cdf(z) + s * norm.pdf(z)\n",
    "\n",
    "    if np.any(s == 0.0):\n",
    "        s_copy = np.copy(s)\n",
    "        s[s_copy == 0.0] = 1.0\n",
    "        f = calculate_f()\n",
    "        f[s_copy == 0.0] = 0.0\n",
    "    else:\n",
    "        f = calculate_f()\n",
    "\n",
    "    return f"
   ]
  },
  {
   "cell_type": "code",
   "execution_count": null,
   "id": "abb416d2-2333-4b63-b8a2-e99378d93070",
   "metadata": {},
   "outputs": [],
   "source": [
    "rf = RandomForestRegressor()\n",
    "all_rules = generate_all_possible_rules()\n",
    "df = pd.DataFrame(columns=all_rules + [\"Runtime\"])\n",
    "\n",
    "## Concat all BOCA tables together\n",
    "\n",
    "big_BOCA_table = pd.DataFrame(columns=cacheprof_BOCA.columns)\n",
    "\n",
    "for program_name, configs in program_tables.items():\n",
    "    for config_name, t in configs.items():\n",
    "        if config_name == \"BOCA\":\n",
    "            big_BOCA_table = pd.concat([big_BOCA_table, t])\n",
    "\n",
    "\n",
    "for index, boca_row in big_BOCA_table.iterrows():\n",
    "    new_row = [None] * len(all_rules)\n",
    "    for index, r in enumerate(all_rules):\n",
    "        if r in boca_row.Rules:\n",
    "            new_row[index] = 1\n",
    "        else:\n",
    "            new_row[index] = 0\n",
    "    new_row.append(boca_row.Runtime)\n",
    "    df.loc[len(df.index)] = new_row\n",
    "\n",
    "\n",
    "X_train = df.drop(\"Runtime\", axis=1)\n",
    "y_train = df[\"Runtime\"]\n",
    "\n",
    "\n",
    "if len(X_train) != len(y_train):\n",
    "    raise RuntimeError(\"Somehow we have more runtimes than we do presets!\")\n",
    "\n",
    "rf.fit(X_train, y_train)\n",
    "\n",
    "all_candidates = []\n",
    "\n",
    "for index, boca_row in big_BOCA_table.iterrows():\n",
    "    all_candidates.append(list(set(boca_row.Rules).union(set(list(map(lambda x: x[0], top_counter_25))))))\n",
    "\n",
    "for index, candidate in enumerate(all_candidates):\n",
    "    # candidate = (lambda A, B, e: B[A.index(e)] if e in A else None)(self.flags,)\n",
    "    results = []\n",
    "    trees = rf.estimators_\n",
    "    for t in trees:\n",
    "        big_list = [None] * len(all_rules)\n",
    "        for index, rule in enumerate(all_rules):\n",
    "            if rule in candidate:\n",
    "                big_list[index] = 1\n",
    "            else:\n",
    "                big_list[index] = 0\n",
    "\n",
    "        result = t.predict(np.array(big_list).reshape(1, -1))\n",
    "        results.append(result)\n",
    "    # rf.predict(np.array(candidate.flag_bits).reshape(1,-1)) # Breaks with the paper. Paper has mean and std\n",
    "    # print(f'Result: {result}')\n",
    "    candidate.expected_improvement = get_expected_improvement(results)"
   ]
  },
  {
   "cell_type": "code",
   "execution_count": null,
   "id": "8c01b70a-a495-4cae-8f82-d51a4f520ef0",
   "metadata": {},
   "outputs": [],
   "source": []
  }
 ],
 "metadata": {
  "kernelspec": {
   "display_name": "Python 3 (ipykernel)",
   "language": "python",
   "name": "python3"
  },
  "language_info": {
   "codemirror_mode": {
    "name": "ipython",
    "version": 3
   },
   "file_extension": ".py",
   "mimetype": "text/x-python",
   "name": "python",
   "nbconvert_exporter": "python",
   "pygments_lexer": "ipython3",
   "version": "3.10.12"
  }
 },
 "nbformat": 4,
 "nbformat_minor": 5
}
